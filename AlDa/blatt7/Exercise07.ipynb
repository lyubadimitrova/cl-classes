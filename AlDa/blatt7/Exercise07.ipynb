{
 "cells": [
  {
   "cell_type": "markdown",
   "metadata": {},
   "source": [
    "Before you turn this problem in, make sure everything runs as expected. First, **restart the kernel** (in the menubar, select Kernel$\\rightarrow$Restart) and then **run all cells** (in the menubar, select Cell$\\rightarrow$Run All).\n",
    "\n",
    "Make sure you fill in any place that says `YOUR CODE HERE` or \"YOUR ANSWER HERE\", as well as your name and collaborators below:"
   ]
  },
  {
   "cell_type": "code",
   "execution_count": 14,
   "metadata": {},
   "outputs": [],
   "source": [
    "NAME = \"Lyubomira Dimitrova\"\n",
    "COLLABORATORS = \"Maryna Charniuk, Dung Nguyen\""
   ]
  },
  {
   "cell_type": "markdown",
   "metadata": {},
   "source": [
    "---"
   ]
  },
  {
   "cell_type": "markdown",
   "metadata": {
    "deletable": false,
    "editable": false,
    "nbgrader": {
     "checksum": "4f98b7958f574cf6b102492270ad00c0",
     "grade": false,
     "grade_id": "cell-37b6cd40d940ada4",
     "locked": true,
     "schema_version": 1,
     "solution": false
    }
   },
   "source": [
    "# Inverses Hashing"
   ]
  },
  {
   "cell_type": "markdown",
   "metadata": {
    "deletable": false,
    "editable": false,
    "nbgrader": {
     "checksum": "b071bc4dc8d1c569afee3e0b3088cafc",
     "grade": false,
     "grade_id": "cell-4263b72d83e15c4e",
     "locked": true,
     "schema_version": 1,
     "solution": false
    }
   },
   "source": [
    "Hashtabellen werden ineffizient, wenn die verwendete Hashfunktion viele Kollisionen verursacht. Ein Hacker, der die Hashfunktion kennt, kann diese Tatsache ausnutzen, um absichtlich ineffiziente Anfragen zu konstruieren: Er wählt die in der Anfrage verwendeten Schlüssel gezielt so, dass alle auf den gleichen Hashwert abgebildet werden (\"adversarial keys\"). Werden viele ineffiziente Anfragen dieser Art gleichzeitig gestartet, kann die angegriffene Webseite (die die gegebene Hashfunktion intern benutzt) zusammenbrechen (\"denial of service\"). In der Praxis verhindert man dies durch die Verwendung von universellem Hashing, indem man die Hashfunktion per Zufall aus einem großen Pool erlaubter Hashfunktionen auswählt. Dann ist es nicht mehr möglich, im Vorhinein ein ungünstiges Set von Schlüsseln zu konstruieren. Für diese Übungsaufgabe wollen wir aber annehmen, dass stets die folgende einfache Hashfunktion verwendet wird:\n",
    "```python\n",
    "def hhash(s): # s ist ein Schlüssel vom Typ string\n",
    "    h = 0     # der Hashwert wird mit 0 initialisiert\n",
    "    for k in s:\n",
    "        h = 23*h + ord(k)  # Aktualisieren des Hashs mit dem Zeichencode\n",
    "    return h\n",
    "```\n",
    "Dabei gibt `ord(k)` den Zeichencode des Zeichens k zurück. Schreiben Sie eine Funktion um mindestens 16 Schlüssel (Strings) der Länge 4 zu finden, die alle den gleichen Hashwert haben. Geben Sie diese Schlüssel zurück und beschreiben Sie (Python docstring im Funktionskopf), wie Sie vorgegangen sind, um diese Schlüssel zu finden. Hinweis: Beginnen Sie damit, Kollisionen mit Schlüsseln der Länge 2 zu konstruieren und verwenden Sie diese Ergebnisse zur Konstruktion von Schlüsseln der Länge 4."
   ]
  },
  {
   "cell_type": "code",
   "execution_count": 8,
   "metadata": {
    "deletable": false,
    "nbgrader": {
     "checksum": "f5666e78db326911fc44aa0b7266f55e",
     "grade": false,
     "grade_id": "cell-dcc9a6b4bd08bee9",
     "locked": false,
     "schema_version": 1,
     "solution": true
    }
   },
   "outputs": [
    {
     "name": "stdout",
     "output_type": "stream",
     "text": [
      "['0u0u', '0u1^', '0u2G', '0u30', '1^0u', '1^1^', '1^2G', '1^30', '2G0u', '2G1^', '2G2G', '2G30', '300u', '301^', '302G', '3030']\n"
     ]
    }
   ],
   "source": [
    "def hhash(s):\n",
    "    h = 0\n",
    "    for k in s:\n",
    "        h = 23*h + ord(k)\n",
    "    return h\n",
    "\n",
    "\n",
    "def findAdversialKeys():\n",
    "    \"\"\"\n",
    "    Finds >=16 keys of length 4, which have the same hash value when using hhash(s).\n",
    "    \n",
    "    Returns:\n",
    "    keys - list - a list of keys which have the same hash value\n",
    "    \n",
    "    Approach:\n",
    "    1. Create an alphabet, in the ASCII-range (48, 123), which is arbitrary, \n",
    "    but should contain at least 70 characters.\n",
    "    2. Create a list (pairs) of all possible two-letter combinations of the\n",
    "    alphabet.\n",
    "    3. Create an empty table, where collisions will be collected as values to \n",
    "    a particular hash value.\n",
    "    4. Fill the table: \n",
    "        - Go through all pairs\n",
    "        - For each pair calculate the hash value\n",
    "        - Check if the value is already a key in the table. If yes, add the key \n",
    "        to the collisions list. If not, create a new table entry, with the hash\n",
    "        value as key, and as value, start a collisions list (containing only\n",
    "        one element).\n",
    "    5. Find a collisions list that contains four or more keys.\n",
    "    6. Create a list (keys) of all possible combinations of these two-letter keys.\n",
    "    These new four-letter keys will also have the same hash value, since the hhash\n",
    "    function can be reduced to (23^3 * a) + (23^2 * b) + (23 * c) + d for any four-letter \n",
    "    string abcd.\n",
    "    7. After one such collisions list is found, break and return.\n",
    "    \n",
    "    \"\"\"\n",
    "    alphabet = [chr(ascii) for ascii in range(48, 123)]   # 0-z\n",
    "    \n",
    "    pairs = [first + second for first in alphabet for second in alphabet]\n",
    "    \n",
    "    table = {}\n",
    "    for p in pairs:\n",
    "        h = hhash(p)\n",
    "        if table.get(h, None):\n",
    "            table[h].append(p)\n",
    "        else:\n",
    "            table.setdefault(h, [p])\n",
    "    \n",
    "    collisions = table.values()\n",
    "    keys = []\n",
    "    for x in collisions:\n",
    "        if len(x) >= 4:\n",
    "            keys = [first + second for first in x for second in x]\n",
    "            break   # theoretically collecting collisions of >= 16 strings is also possible\n",
    "    \n",
    "    return keys\n",
    "\n",
    "print(findAdversialKeys())"
   ]
  },
  {
   "cell_type": "code",
   "execution_count": 9,
   "metadata": {
    "deletable": false,
    "editable": false,
    "nbgrader": {
     "checksum": "b4f95ddb315291a7e091031b9ae92383",
     "grade": true,
     "grade_id": "cell-885536a84f661a21",
     "locked": true,
     "points": 15,
     "schema_version": 1,
     "solution": false
    }
   },
   "outputs": [
    {
     "name": "stdout",
     "output_type": "stream",
     "text": [
      "Testing inverse hashing.\n",
      "done\n"
     ]
    }
   ],
   "source": [
    "print(\"Testing inverse hashing.\")\n",
    "adv_keys = findAdversialKeys()\n",
    "print(\"done\")"
   ]
  },
  {
   "cell_type": "markdown",
   "metadata": {
    "deletable": false,
    "editable": false,
    "nbgrader": {
     "checksum": "7f85bb1f8d1f0f27838d796ee65525a7",
     "grade": false,
     "grade_id": "cell-840d7fcd54a1b170",
     "locked": true,
     "schema_version": 1,
     "solution": false
    }
   },
   "source": [
    "# 2. Hash-Table"
   ]
  },
  {
   "cell_type": "markdown",
   "metadata": {
    "deletable": false,
    "editable": false,
    "nbgrader": {
     "checksum": "5af90decdd69d36a85cd3cedfd4b1607",
     "grade": false,
     "grade_id": "cell-ab9d48dd91c74d36",
     "locked": true,
     "schema_version": 1,
     "solution": false
    }
   },
   "source": [
    "Definieren Sie eine Klasse `HashTable`, die eine Hash-Tabelle der Größe `size` als geschachtelte Liste (Liste in einer Liste) implementiert (Bsp. `[[], [], [], [], [], [], [], [], [], []]`). Implementieren Sie die folgenden drei Methoden:\n",
    "\n",
    "  - `set(key, value)`: Um ein neues Schlüssel-Wert-Paar zu der Tabelle hinzuzufügen\n",
    "  - `get(key)`: Um den Wert zu einem Schlüssel zurück zu geben. Raise a KeyError when the given key isn't in the Hash Table.\n",
    "  - `remove(key)`: Um ein Schlüssel-Wert-Paar aus der Tabelle zu entfernen. Befindet sich der Schlüssel nicht in der Liste soll eine `KeyError` Ausnahme ausgelöst werden.\n",
    " "
   ]
  },
  {
   "cell_type": "code",
   "execution_count": 10,
   "metadata": {
    "deletable": false,
    "nbgrader": {
     "checksum": "256d8b36b89d5f5f53b445a0a335e475",
     "grade": false,
     "grade_id": "cell-b583ed5b3b5cee94",
     "locked": false,
     "schema_version": 1,
     "solution": true
    }
   },
   "outputs": [],
   "source": [
    "# function from the previous assignment\n",
    "def my_hash(item, s):\n",
    "    if isinstance(item, int):\n",
    "        return item % s\n",
    "    if isinstance(item, str):\n",
    "        sum_chars = 0\n",
    "        for char in item:\n",
    "            sum_chars += ord(char)\n",
    "        return sum_chars % s\n",
    "    \n",
    "\n",
    "class KeyValuePair(object):\n",
    "\n",
    "    def __init__(self, key, value):\n",
    "        self.key = key\n",
    "        self.value = value\n",
    "\n",
    "        \n",
    "class HashTable(object):\n",
    "\n",
    "    def __init__(self, size):\n",
    "        self.size = size\n",
    "        self.table = [[] for i in range(self.size)]\n",
    "        self.keys = set()\n",
    "        \n",
    "    def set_(self, key, value):\n",
    "        bucket = my_hash(key, self.size)\n",
    "        \n",
    "        if key in self.keys:\n",
    "            for pair in self.table[bucket]:\n",
    "                if pair.key == key:\n",
    "                    pair.value = value\n",
    "                    break\n",
    "        else:\n",
    "            self.table[bucket].append(KeyValuePair(key, value))\n",
    "            self.keys.add(key)\n",
    "\n",
    "    \n",
    "    def get(self, key):\n",
    "        bucket = my_hash(key, self.size)\n",
    "        \n",
    "        if not self.table[bucket]:\n",
    "            raise KeyError ('key is not in Hash Table')\n",
    "    \n",
    "        for pair in self.table[bucket]:\n",
    "            if pair.key == key:\n",
    "                return pair.value\n",
    "    \n",
    "    \n",
    "    def remove(self, key):\n",
    "        if key not in self.keys:\n",
    "            raise KeyError ('key is not in Hash Table')\n",
    "        \n",
    "        bucket = my_hash(key, self.size)\n",
    "        \n",
    "        for pair in self.table[bucket]:\n",
    "            if pair.key == key:\n",
    "                self.table[bucket].remove(pair)\n",
    "        "
   ]
  },
  {
   "cell_type": "code",
   "execution_count": 11,
   "metadata": {
    "deletable": false,
    "editable": false,
    "nbgrader": {
     "checksum": "27806e8c3dbcb672369d01256cfbb345",
     "grade": true,
     "grade_id": "cell-504521e252fb4e77",
     "locked": true,
     "points": 10,
     "schema_version": 1,
     "solution": false
    }
   },
   "outputs": [],
   "source": [
    "hash_table = HashTable(10)\n"
   ]
  },
  {
   "cell_type": "markdown",
   "metadata": {
    "deletable": false,
    "editable": false,
    "nbgrader": {
     "checksum": "39a07349bbdfca4055a3ef4956845109",
     "grade": false,
     "grade_id": "cell-61311686f187f304",
     "locked": true,
     "schema_version": 1,
     "solution": false
    }
   },
   "source": [
    "Schreiben Sie Einheitentests um die Funktionen `insert`, `get` und `remove` zu testen. Überprüfen Sie folgendes Verhalten:\n",
    "\n",
    " 1. `get` auf eine leere Tabelle\n",
    " 2. `set` auf eine leere Tabelle\n",
    " 3. `set` auf eine nicht-leere Tabelle mit nicht vorhandenem Schlüssel\n",
    " 4. `set` mit bereits vorhandenem Schlüssel (Der Wert sollte aktualisiert werden)\n",
    " 5. `remove` auf einen vorhandenen Schlüssel\n",
    " 6. `remove`auf einen nicht vorhandenen Schlüssel\n",
    "\n",
    "Geben Sie **Success: test_№** wenn der Test erfolgreich durchläuft (Bsp. **Success: test_1** für den ersten Test)."
   ]
  },
  {
   "cell_type": "code",
   "execution_count": 12,
   "metadata": {
    "deletable": false,
    "nbgrader": {
     "checksum": "ae942c6f460e226dac48a9ea8420e51a",
     "grade": false,
     "grade_id": "cell-6509e5223cc4c0b6",
     "locked": false,
     "schema_version": 1,
     "solution": true
    }
   },
   "outputs": [
    {
     "name": "stderr",
     "output_type": "stream",
     "text": [
      "......"
     ]
    },
    {
     "name": "stdout",
     "output_type": "stream",
     "text": [
      "Success: test_1\n",
      "Success: test_2\n",
      "Success: test_3\n",
      "Success: test_4\n",
      "Success: test_5\n",
      "Success: test_6\n"
     ]
    },
    {
     "name": "stderr",
     "output_type": "stream",
     "text": [
      "\n",
      "----------------------------------------------------------------------\n",
      "Ran 6 tests in 0.007s\n",
      "\n",
      "OK\n"
     ]
    },
    {
     "data": {
      "text/plain": [
       "<unittest.main.TestProgram at 0x7fd54c0e8898>"
      ]
     },
     "execution_count": 12,
     "metadata": {},
     "output_type": "execute_result"
    }
   ],
   "source": [
    "import unittest\n",
    "\n",
    "class HashTest(unittest.TestCase):\n",
    "    \n",
    "    def test_1_get_on_empty_hash_table(self):\n",
    "        hash_table = HashTable(10)\n",
    "        with self.assertRaises(KeyError):\n",
    "            hash_table.get(3)\n",
    "        print('Success: test_1')\n",
    "        \n",
    "    def test_2_set_on_empty_hash_table(self):\n",
    "        hash_table = HashTable(10)\n",
    "        hash_table.set_(2,20)\n",
    "        bucket = my_hash(2, 10)\n",
    "        self.assertTrue(hash_table.table[bucket] is not None)    # the corresponding bucket should not be empty\n",
    "        print('Success: test_2')\n",
    "        \n",
    "    def test_3_set_on_non_empty_hash_table(self):\n",
    "        hash_table = HashTable(10)\n",
    "        hash_table.set_(2,20)\n",
    "        hash_table.set_(4,40)\n",
    "        self.assertTrue(hash_table.table[my_hash(4, 10)] is not None)   # the corresponding bucket should not be empty\n",
    "        print('Success: test_3')\n",
    "        \n",
    "    def test_4_set_on_a_key_that_already_exists(self):\n",
    "        hash_table = HashTable(10)\n",
    "        bucket = my_hash(2, 10)\n",
    "        hash_table.set_(2,20)\n",
    "        old_bucket = hash_table.table[bucket]\n",
    "        hash_table.set_(2,40)\n",
    "        self.assertEqual(len(hash_table.table[bucket]), len(old_bucket))  # the size of the bucket should not change\n",
    "        print('Success: test_4')\n",
    "        \n",
    "    def test_5_remove_on_a_key_that_already_exists(self):\n",
    "        hash_table = HashTable(10)\n",
    "        hash_table.set_(2, 20)\n",
    "        bucket = my_hash(2, 10)\n",
    "        old_bucket = hash_table.table[bucket][:]\n",
    "        hash_table.remove(2)\n",
    "        self.assertEqual(len(hash_table.table[bucket]), len(old_bucket) - 1)  # the size of the bucket should change\n",
    "        print('Success: test_5')\n",
    "        \n",
    "    def test_6_remove_on_a_key_that_does_not_exist(self):\n",
    "        hash_table = HashTable(10)\n",
    "        with self.assertRaises(KeyError):\n",
    "            hash_table.remove(3)\n",
    "        print('Success: test_6')\n",
    "            \n",
    "unittest.main(argv=['first-arg-is-ignored'], exit=False)"
   ]
  },
  {
   "cell_type": "code",
   "execution_count": 13,
   "metadata": {
    "deletable": false,
    "editable": false,
    "nbgrader": {
     "checksum": "ca9829a7d8c65f0d83a1b25ca0d9a3e8",
     "grade": true,
     "grade_id": "cell-b888785bc6c55b6e",
     "locked": true,
     "points": 15,
     "schema_version": 1,
     "solution": false
    }
   },
   "outputs": [
    {
     "name": "stdout",
     "output_type": "stream",
     "text": [
      "Success: test_1\n",
      "Success: test_2\n",
      "Success: test_3\n",
      "Success: test_4\n",
      "Success: test_5\n",
      "Success: test_6\n"
     ]
    }
   ],
   "source": [
    "test_suite = unittest.TestLoader().loadTestsFromTestCase(HashTest)\n",
    "import os\n",
    "test_result = unittest.TextTestRunner(stream = open(os.devnull, 'w')).run(test_suite)\n"
   ]
  }
 ],
 "metadata": {
  "kernelspec": {
   "display_name": "Python 3",
   "language": "python",
   "name": "python3"
  },
  "language_info": {
   "codemirror_mode": {
    "name": "ipython",
    "version": 3
   },
   "file_extension": ".py",
   "mimetype": "text/x-python",
   "name": "python",
   "nbconvert_exporter": "python",
   "pygments_lexer": "ipython3",
   "version": "3.7.7"
  }
 },
 "nbformat": 4,
 "nbformat_minor": 2
}
