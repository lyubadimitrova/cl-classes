{
 "cells": [
  {
   "cell_type": "markdown",
   "metadata": {},
   "source": [
    "Before you turn this problem in, make sure everything runs as expected. First, **restart the kernel** (in the menubar, select Kernel$\\rightarrow$Restart) and then **run all cells** (in the menubar, select Cell$\\rightarrow$Run All).\n",
    "\n",
    "Make sure you fill in any place that says `YOUR CODE HERE` or \"YOUR ANSWER HERE\", as well as your name and collaborators below:"
   ]
  },
  {
   "cell_type": "code",
   "execution_count": null,
   "metadata": {},
   "outputs": [],
   "source": [
    "NAME = \"\"\n",
    "COLLABORATORS = \"\""
   ]
  },
  {
   "cell_type": "markdown",
   "metadata": {},
   "source": [
    "---"
   ]
  },
  {
   "cell_type": "markdown",
   "metadata": {
    "deletable": false,
    "editable": false,
    "nbgrader": {
     "checksum": "7a76f5f92e9380a78e2cc2a3edd42ca6",
     "grade": false,
     "grade_id": "task1",
     "locked": true,
     "schema_version": 1,
     "solution": false
    }
   },
   "source": [
    "# Aufgabe 1 - Eigenschaften der Sortierung (8 Punkte)\n",
    "\n",
    "a)\tUm Daten sortieren zu können, muss auf den Elementen eine Relation '≤' definiert sein, die die Eigenschaften einer totalen Ordnung (siehe https://de.wikipedia.org/wiki/Ordnungsrelation) hat. Zeigen Sie, dass dadurch auch die anderen Relationen '<', '>', '≥', '==' und '!=' festgelegt sind, indem Sie diese so definieren, dass in den Definitionen nur die '≤' Relation und logische Operationen (not, and, or) vorkommen."
   ]
  },
  {
   "cell_type": "code",
   "execution_count": 28,
   "metadata": {
    "deletable": false,
    "nbgrader": {
     "checksum": "7712db3b4762dfdb5f9b9d0e02d0ff05",
     "grade": false,
     "grade_id": "answer1a",
     "locked": false,
     "schema_version": 1,
     "solution": true
    }
   },
   "outputs": [],
   "source": [
    "def is_less_than_or_equal_to(a, b): \n",
    "    if a <= b:\n",
    "        return True\n",
    "    else:\n",
    "        return False\n",
    "\n",
    "\n",
    "def is_less_than(a, b):\n",
    "    \"\"\"Define '<' with '<=', not, and, or\"\"\"\n",
    "    if not b <= a: \n",
    "        return True\n",
    "    else:\n",
    "        return False\n",
    "\n",
    "\n",
    "def is_more_than(a, b):\n",
    "    \"\"\"Define '>' with '<=', not, and, or\"\"\"\n",
    "    if not a <= b:\n",
    "        return True\n",
    "    else:\n",
    "        return False\n",
    "\n",
    "\n",
    "def is_more_than_or_equal_to(a, b):\n",
    "    \"\"\"Define '>=' with '<=', not, and, or\"\"\"\n",
    "    if b <= a :\n",
    "        return True\n",
    "    else:\n",
    "        return False\n",
    "\n",
    "\n",
    "def is_equal_to(a,b):\n",
    "    \"\"\"Define '==' with '<=', not, and, or\"\"\"\n",
    "    if a <= b and b <= a:\n",
    "        return True\n",
    "    else:\n",
    "        return False\n",
    "    \n",
    "\n",
    "def is_not_equal_to(a,b):\n",
    "    \"\"\"Define '!=' with '<=', not, and, or\"\"\"\n",
    "    if not a <= b or not b <= a:\n",
    "        return True\n",
    "    else:\n",
    "        return False\n"
   ]
  },
  {
   "cell_type": "code",
   "execution_count": 17,
   "metadata": {
    "deletable": false,
    "editable": false,
    "nbgrader": {
     "checksum": "089421183e7671754d14d922e444d030",
     "grade": true,
     "grade_id": "test1a",
     "locked": true,
     "points": 6,
     "schema_version": 1,
     "solution": false
    }
   },
   "outputs": [],
   "source": [
    "assert is_less_than(1,2) == True\n",
    "assert is_more_than(2,1) == True\n",
    "assert is_more_than_or_equal_to(2,1) == True\n",
    "assert is_equal_to(1,1) == True\n",
    "assert is_not_equal_to(1,2) == True\n"
   ]
  },
  {
   "cell_type": "markdown",
   "metadata": {
    "deletable": false,
    "editable": false,
    "nbgrader": {
     "checksum": "329edab89f0ea940aa863013d83ea071",
     "grade": false,
     "grade_id": "task1b",
     "locked": true,
     "schema_version": 1,
     "solution": false
    }
   },
   "source": [
    "b)\tNach dem Sortieren eines Arrays a der Größe n ist das folgende Axiom erfüllt: Für alle Paare von Indizes j und k mit j < k sind die zugehörigen Arrayelemente sortiert, d.h. es gilt a[j] ≤ a[k]. Das sind n(n-1)/2 Bedingungen (eine für jedes mögliche Paar j < k), die man alle prüfen muss, um die Korrektheit der Sortierung nachzuweisen. Zeigen Sie mit Hilfe der Eigenschaften der '≤' Relation, dass dieser Aufwand unnötig ist und man auch mit (n-1) Tests auskommt. Welche Tests sollte man ausführen, und warum sind die übrigen dann automatisch erfüllt?"
   ]
  },
  {
   "cell_type": "markdown",
   "metadata": {
    "deletable": false,
    "nbgrader": {
     "checksum": "69db3a15a3a19e61efb55fc4380efcbd",
     "grade": true,
     "grade_id": "answer1b",
     "locked": false,
     "points": 2,
     "schema_version": 1,
     "solution": true
    }
   },
   "source": [
    "Um zu prüfen, ob ein Array sortiert ist, reicht es, nur benachbarte Elemente schrittweise miteinander zu vergleichen. Die Relation '≤' ist nämlich transitiv und reflexiv, also a[i] ≤ a[k] gdw. a[i] ≤ a[j] and a[j] ≤ a[k] (i < j < k).\n",
    "\n",
    "Z.B., für ein Array [1, 2, 3, 4, 5] (n = 5) ist der Aufwand n - 1 = 4 (geprüft wird 1 ≤ 2, 2 ≤ 3 usw.)"
   ]
  },
  {
   "cell_type": "markdown",
   "metadata": {
    "deletable": false,
    "editable": false,
    "nbgrader": {
     "checksum": "b5b9c888ddff27e3490af59b0cf0c514",
     "grade": false,
     "grade_id": "task2",
     "locked": true,
     "schema_version": 1,
     "solution": false
    }
   },
   "source": [
    "# Aufgabe 2 – Zelluläre Automaten (18 Punkte)\n",
    "\n",
    "Algorithmen werden wesentlich durch die Menge der elementaren Operationen geprägt, aus denen sie aufgebaut sind. Zelluläre Automaten sind interessant, weil sie aus sehr einfachen elementaren Operationen erstaunlich komplexes Verhalten generieren. Das bekannteste Beispiel ist Conway’s Game of Life (http://de.wikipedia.org/wiki/Conways_Spiel_des_Lebens).\n",
    "\n",
    "Jeder zelluläre Automat besteht aus unabhängigen Zellen, die auf einem regelmäßigen Gitter an-geordnet sind und K vorher festgelegte Zustände annehmen können. Die Zustände werden meist durch druckbare Zeichen wie \"␣\" (Leerzeichen), \"\\*\", \"#\" etc. symbolisiert. Der Automat entwickelt sich in diskreten Zeitschritten, und der Zustand jeder Zelle zum Zeitpunkt T+1 ergibt sich deterministisch aus den Zuständen dieser Zelle sowie ihrer unmittelbaren Nachbarn zum Zeitpunkt T. Die Menge der erlaubten Zustandsübergänge in Abhängigkeit der möglichen Nachbarschafts-Konstellationen wird als Regel des Automaten bezeichnet. Die Regel wird einmal festgelegt und bleibt dann für alle Zeitschritte gleich.\n",
    "\n",
    "1. **(4 Punkte)** Wir beschränken uns in dieser Übung auf 1-dimensionale zelluläre Automaten. Diese kann man bequem als Strings einer vorher festgelegten Länge darstellen, sodass jedes Zeichen im String eine Zelle repräsentiert. Der neue Zustand einer Zelle j ergibt sich dann aus dem alten Zustand dieser Zelle und dem Zustand ihrer linken und rechten Nachbarzelle (Zellen j-1 und j+1), also jeweils aus Teilstrings der Länge 3. Deshalb kann man die Regel bequem in einem Python-Dictionary darstellen: Strings der Länge 3 bilden die Schlüssel, und die zugehörigen Werte geben den neuen Zustand der mittleren Zelle an, z.B.:  \n",
    "rule = { \n",
    "         \"␣␣␣\" : \"␣\",    # drei Leerzeichen => Leerzeichen\n",
    "         \"␣*␣\" : \"*\",   # Stern zwischen zwei Leerzeichen => Stern\n",
    "         ...           # weitere Zustandsübergänge\n",
    "         }\n",
    "Implementieren Sie eine Funktion  \n",
    "*ca2 = ca_step(ca1, rule)*  \n",
    "der der String ca1 (Zustand zur Zeit T) sowie die Regel übergeben werden und die daraus den neuen String ca2 (mit gleicher Länge wie ca1) als Zustand zur Zeit T+1 berechnet. Definieren Sie dabei eine geeignete Randbehandlung für die beiden Enden von ca1, also für die Zellen, die keinen linken bzw. rechten Nachbarn haben. Diese Funktion wird in b) und c) benutzt.\n"
   ]
  },
  {
   "cell_type": "code",
   "execution_count": null,
   "metadata": {
    "deletable": false,
    "nbgrader": {
     "checksum": "cadc1a7603beb6a247c08a2111066b4b",
     "grade": false,
     "grade_id": "answer2a",
     "locked": false,
     "schema_version": 1,
     "solution": true
    }
   },
   "outputs": [],
   "source": [
    "def ca_step(ca1, rule):\n",
    "    \"\"\"\n",
    "    The string ca1 (state at time T) and the rule are passed\n",
    "    and from this the new string ca2 (with the same length as ca1) is calculated as state at time T + 1. \n",
    "    Define a suitable edge treatment for the two ends of ca1, i.e. for the cells that have no left or right neighbors.\n",
    "\n",
    "    Arguments:\n",
    "    ca1 -- string\n",
    "    rule -- Python dictionary\n",
    "\n",
    "    Returns:\n",
    "    ca2 -- string, with the same length as ca1\n",
    "    \"\"\"\n",
    "    # YOUR CODE HERE\n",
    "    raise NotImplementedError()"
   ]
  },
  {
   "cell_type": "code",
   "execution_count": null,
   "metadata": {
    "deletable": false,
    "editable": false,
    "nbgrader": {
     "checksum": "8a60e9c47f4e14e4b15b90e6b41ef8e8",
     "grade": true,
     "grade_id": "test2a",
     "locked": true,
     "points": 4,
     "schema_version": 1,
     "solution": false
    }
   },
   "outputs": [],
   "source": [
    "# DEFINE THE RULE (DO NOT CHANGE THIS!)\n",
    "rule = {\"   \" : \"#\",\n",
    "        \"*  \" : \" \",\n",
    "        \" * \" : \" \",\n",
    "        \"  *\" : \" \",\n",
    "        \"#  \" : \"*\",\n",
    "        \" # \" : \"*\",\n",
    "        \"  #\" : \"*\",\n",
    "        \"***\" : \"#\",\n",
    "        \" **\" : \"*\",\n",
    "        \"* *\" : \"*\",\n",
    "        \"** \" : \"*\",\n",
    "        \"#**\" : \" \",\n",
    "        \"*#*\" : \" \",\n",
    "        \"**#\" : \" \",\n",
    "        \"###\" : \"#\",\n",
    "        \" ##\" : \" \",\n",
    "        \"# #\" : \" \",\n",
    "        \"## \" : \" \",\n",
    "        \"*##\" : \"*\",\n",
    "        \"#*#\" : \"*\",\n",
    "        \"##*\" : \"*\",\n",
    "        \" *#\" : \"#\",\n",
    "        \" #*\" : \"#\",\n",
    "        \"* #\" : \"#\",\n",
    "        \"*# \" : \"#\",\n",
    "        \"# *\" : \"#\",\n",
    "        \"#* \" : \"#\"}\n",
    "        \n",
    "assert ca_step('#*#*#', rule) == '** **'\n",
    "assert ca_step('# **#  ***', rule) == ' #* #* *##'\n"
   ]
  },
  {
   "cell_type": "markdown",
   "metadata": {
    "deletable": false,
    "editable": false,
    "nbgrader": {
     "checksum": "d0a6042bb82a37cae265c59a6b273181",
     "grade": false,
     "grade_id": "task2b",
     "locked": true,
     "schema_version": 1,
     "solution": false
    }
   },
   "source": [
    "2.**(6 Punkte)**  \n",
    "Elementare zelluläre Automaten haben nur zwei Zustände \"␣\" (Leerzeichen), Zustand \"\\*\". Wie viele verschiedene Regeln kann man daraus aufbauen? Manche dieser Regeln führen zu interessantem Verhalten. Experimentieren Sie mit den Regeldefinitionen (indem Sie die Dictionaries variieren) und berechnen Sie jeweils die ersten 30 Zeitschritte, wobei der Anfangszustand immer ein String der Länge 71 ist, bei dem sich nur das Element 35 im Zustand \"\\*\" befindet, alle übrigen sind im Zustand \"␣\". Geben Sie mit print den aktuellen Zustand nach jeder Iteration aus. Implementieren Sie vier Funktionen \"elementary1()\" bis \"elementary4()\" (die jeweils eine Regeldefinition und die Schleife enthalten) die nette Muster erzeugen."
   ]
  },
  {
   "cell_type": "markdown",
   "metadata": {
    "deletable": false,
    "nbgrader": {
     "checksum": "3bb8eb61597474878033f981805fbcda",
     "grade": true,
     "grade_id": "answer2b1",
     "locked": false,
     "points": 2,
     "schema_version": 1,
     "solution": true
    }
   },
   "source": [
    "YOUR ANSWER HERE"
   ]
  },
  {
   "cell_type": "code",
   "execution_count": null,
   "metadata": {
    "deletable": false,
    "nbgrader": {
     "checksum": "f9d746feaab2cef3740860821c3b7fb2",
     "grade": false,
     "grade_id": "answer2b2",
     "locked": false,
     "schema_version": 1,
     "solution": true
    }
   },
   "outputs": [],
   "source": [
    "def elementary1(initial_states, time_steps):\n",
    "    \"\"\"\n",
    "    Contain a rule definition and the loop for printing the states at each time step.\n",
    "\n",
    "    Arguments:\n",
    "    initial_states -- string\n",
    "    time_steps -- scalar\n",
    "    \"\"\"\n",
    "    # YOUR RULE\n",
    "    rule = {\"   \" : \" \",\n",
    "            \"*  \" : \"*\",\n",
    "            \" * \" : \" \",\n",
    "            \"  *\" : \"*\",\n",
    "            \"***\" : \" \",\n",
    "            \" **\" : \"*\",\n",
    "            \"* *\" : \" \",\n",
    "            \"** \" : \"*\"}\n",
    "    \n",
    "    # YOUR CODE HERE\n",
    "    raise NotImplementedError()\n",
    "         \n",
    "def elementary2(initial_states, time_steps):\n",
    "    \"\"\"\n",
    "    Contain a rule definition and the loop for printing the states at each time step.\n",
    "\n",
    "    Arguments:\n",
    "    initial_states -- string\n",
    "    time_steps -- scalar\n",
    "    \"\"\"\n",
    "    # YOUR CODE HERE\n",
    "    raise NotImplementedError()\n",
    "        \n",
    "def elementary3(initial_states, time_steps):\n",
    "    \"\"\"\n",
    "    Contain a rule definition and the loop for printing the states at each time step.\n",
    "\n",
    "    Arguments:\n",
    "    initial_states -- string\n",
    "    time_steps -- scalar\n",
    "    \"\"\"\n",
    "    # YOUR CODE HERE\n",
    "    raise NotImplementedError()\n",
    "    \n",
    "def elementary4(initial_states, time_steps):\n",
    "    \"\"\"\n",
    "    Contain a rule definition and the loop for printing the states at each time step.\n",
    "\n",
    "    Arguments:\n",
    "    initial_states -- string\n",
    "    time_steps -- scalar\n",
    "    \"\"\"\n",
    "    # YOUR CODE HERE\n",
    "    raise NotImplementedError()"
   ]
  },
  {
   "cell_type": "markdown",
   "metadata": {
    "deletable": false,
    "editable": false,
    "nbgrader": {
     "checksum": "b1ad46123c9cd8fc90bb69ceaa0abee8",
     "grade": false,
     "grade_id": "test2b-hint",
     "locked": true,
     "schema_version": 1,
     "solution": false
    }
   },
   "source": [
    "Test the four functions one-by-one:"
   ]
  },
  {
   "cell_type": "code",
   "execution_count": null,
   "metadata": {
    "deletable": false,
    "nbgrader": {
     "checksum": "87916ab538618a6e865a6f09f33a9f8a",
     "grade": true,
     "grade_id": "test2b1",
     "locked": false,
     "points": 1,
     "schema_version": 1,
     "solution": true
    }
   },
   "outputs": [],
   "source": [
    "# YOUR CODE HERE\n",
    "raise NotImplementedError()"
   ]
  },
  {
   "cell_type": "code",
   "execution_count": null,
   "metadata": {
    "deletable": false,
    "nbgrader": {
     "checksum": "e2d455a6ba6da047bf6b009fe7251183",
     "grade": true,
     "grade_id": "test2b2",
     "locked": false,
     "points": 1,
     "schema_version": 1,
     "solution": true
    }
   },
   "outputs": [],
   "source": [
    "# YOUR CODE HERE\n",
    "raise NotImplementedError()"
   ]
  },
  {
   "cell_type": "code",
   "execution_count": null,
   "metadata": {
    "deletable": false,
    "nbgrader": {
     "checksum": "17a71ac8a118766fb68fb4444caebfc6",
     "grade": true,
     "grade_id": "test2b3",
     "locked": false,
     "points": 1,
     "schema_version": 1,
     "solution": true
    }
   },
   "outputs": [],
   "source": [
    "# YOUR CODE HERE\n",
    "raise NotImplementedError()"
   ]
  },
  {
   "cell_type": "code",
   "execution_count": null,
   "metadata": {
    "deletable": false,
    "nbgrader": {
     "checksum": "ac3edb3c71ea732b9aba7ad77c1634a4",
     "grade": true,
     "grade_id": "test2b4",
     "locked": false,
     "points": 1,
     "schema_version": 1,
     "solution": true
    }
   },
   "outputs": [],
   "source": [
    "# YOUR CODE HERE\n",
    "raise NotImplementedError()"
   ]
  },
  {
   "cell_type": "markdown",
   "metadata": {
    "deletable": false,
    "editable": false,
    "nbgrader": {
     "checksum": "15263182695e7dcdad7da17f3ba5f1a8",
     "grade": false,
     "grade_id": "task2c",
     "locked": true,
     "schema_version": 1,
     "solution": false
    }
   },
   "source": [
    "3.**(8 Punkte)**  \n",
    "Implementieren Sie jetzt eine Funktion pingpong(), deren Regel eine Art Ping-Pong-Spiel realisiert. Es gibt hier neben dem Zustand \"␣\" einen Zustand \"#\", der die beiden Spielfeldränder angibt, sowie einen Ball, der immer zwischen den beiden Rändern hin- und herfliegt und au-tomatisch reflektiert wird. Der Ball wird durch zwei benachbarte Zellen symbolisiert, die die Zustände \"o-\" haben, wenn der Ball gerade nach links fliegt, und \"-o\" wenn er nach rechts fliegt. Der Anfangszustand ist der String \"␣#␣␣␣␣␣␣␣␣o-␣␣#␣\" (der Abstand zwischen den beiden \"#\" beträgt 12 Zeichen und soll unverändert bleiben). Implementieren Sie die zeitliche Entwicklung des Automaten als Endlosschleife (diese kann man in Python durch die Tasten-kombination \"Ctrl-C\" abbrechen, wenn man lange genug zugeschaut hat). Um die Animation besser beobachten zu können, sollten Sie in jeder Iteration eine gewisse Wartezeit einbauen (Funktion \"sleep()\" aus dem Modul \"time\"). Beachten Sie, dass die Regel während des Ablaufs fix bleibt und nicht verändert werden darf (um z.B. die Flugrichtung des Balls umzukehren).\n"
   ]
  },
  {
   "cell_type": "code",
   "execution_count": null,
   "metadata": {
    "deletable": false,
    "nbgrader": {
     "checksum": "c869304e3d15e25225db311d993845ed",
     "grade": false,
     "grade_id": "answer2c",
     "locked": false,
     "schema_version": 1,
     "solution": true
    }
   },
   "outputs": [],
   "source": [
    "import time\n",
    "\n",
    "def pingpong(initial_states, time_steps):\n",
    "    \"\"\"\n",
    "    Contain a ping-pong game rule definition and the loop for printing the states at each time step.\n",
    "\n",
    "    Arguments:\n",
    "    initial_states -- string\n",
    "    \"\"\"\n",
    "    # YOUR CODE HERE\n",
    "    raise NotImplementedError()"
   ]
  },
  {
   "cell_type": "markdown",
   "metadata": {
    "deletable": false,
    "editable": false,
    "nbgrader": {
     "checksum": "6575f381aaacfd22b1de821b3c71a7d2",
     "grade": false,
     "grade_id": "test2c-hint",
     "locked": true,
     "schema_version": 1,
     "solution": false
    }
   },
   "source": [
    "Test your pingpong function with an initial states \" #    o-      # \" for 30 time steps:"
   ]
  },
  {
   "cell_type": "code",
   "execution_count": null,
   "metadata": {
    "deletable": false,
    "nbgrader": {
     "checksum": "e87bf15318035cd0a0af53f6d8d116dc",
     "grade": true,
     "grade_id": "test2c",
     "locked": false,
     "points": 8,
     "schema_version": 1,
     "solution": true
    }
   },
   "outputs": [],
   "source": [
    "# YOUR CODE HERE\n",
    "raise NotImplementedError()"
   ]
  },
  {
   "cell_type": "markdown",
   "metadata": {
    "deletable": false,
    "editable": false,
    "nbgrader": {
     "checksum": "439c73915a4a1d3879ab0d094e29495f",
     "grade": false,
     "grade_id": "task3",
     "locked": true,
     "schema_version": 1,
     "solution": false
    }
   },
   "source": [
    "# Aufgabe 3 – Datenstruktur für Array, Stack und Queue (14 Punkte)\n",
    "\n",
    "Wir haben in der Vorlesung die abstrakten Containertypen *Array*, *Stack* und *Queue* kennengelernt. In dieser Aufgabe sollen Sie eine Python-Klasse UniversalContainer implementieren und testen, die die Fähigkeiten aller drei Container vereinigt. Die folgende Funktionalität soll unterstützt werden:\n",
    "        \n",
    "        c = UniversalContainer()   # create empty container  \n",
    "        c.size()                   # get number of elements  \n",
    "        c.capacity()               # get number of available memory cells  \n",
    "        c.push(v)                  # append element v at the end  \n",
    "        c.popFirst()               # remove first element (Queue functionality)  \n",
    "        c.popLast()                # remove last element (Stack functionality)              \n",
    "        v = c[k]                   # read element at index k (Array functionality)  \n",
    "        c[k] = v                   # replace element at k (Array functionality)  \n",
    "        v = c.first()              # read first element (Queue functionality)  \n",
    "        v = c.last()               # read last element (Stack functionality)  \n",
    "\n",
    "Die Klasse hat zu diesem Zweck einen internen Speicherbereich data\\_ der Größe capacity\\_, der aber nur bis zur Größe size\\_ gefüllt ist. Beim Aufruf c.push(v) wird Element v in die nächste freie Speicherzelle von data\\_ geschrieben und size\\_ inkrementiert. Gilt allerdings vor dem push, dass size\\_ == capacity\\_, muss man erst einen Speicherbereich mit größerer (z.B. verdoppelter) capacity\\_  schaffen und die vorhandenen Daten dahin umkopieren. Bei popLast() wird einfach size\\_ dekrementiert, so dass das vorletzte Element zum neuen letzten Element wird. Bei popFirst() werden alle Elemente einen Index heruntergeschoben und dadurch das erste überschrieben.\n",
    "\n",
    "Der folgende Code gibt den Rahmen der Klasse vor, den Sie nur noch vervollständigen müssen:"
   ]
  },
  {
   "cell_type": "code",
   "execution_count": null,
   "metadata": {
    "deletable": false,
    "nbgrader": {
     "checksum": "81e0f59d5d1655d415cd7478e13641ae",
     "grade": false,
     "grade_id": "answer3",
     "locked": false,
     "schema_version": 1,
     "solution": true
    }
   },
   "outputs": [],
   "source": [
    "class UniversalContainer:\n",
    "    \n",
    "    # constructor for empty container\n",
    "    def __init__(self):                      \n",
    "        self.capacity_ = 1                   # we reserve memory for at least one item\n",
    "        self.data_ = [None]*self.capacity_   # the internal memory\n",
    "        self.size_ = 0                       # no item has been inserted yet\n",
    "    \n",
    "    def size(self):\n",
    "        return self.size_\n",
    "    \n",
    "    def capacity(self):\n",
    "        # YOUR CODE HERE\n",
    "        raise NotImplementedError()\n",
    "    \n",
    "    # add item at the end\n",
    "    def push(self, item):\n",
    "        # YOUR CODE HERE\n",
    "        raise NotImplementedError()\n",
    "    \n",
    "    # remove first element\n",
    "    def popFirst(self):\n",
    "        # YOUR CODE HERE\n",
    "        raise NotImplementedError()\n",
    "        \n",
    "    # remove last element\n",
    "    def popLast(self):\n",
    "        # YOUR CODE HERE\n",
    "        raise NotImplementedError()\n",
    "        \n",
    "    # __getitem__ implements v = c[index]\n",
    "    def __getitem__(self, index):     \n",
    "        if index < 0 or index >= self.size_:\n",
    "            raise RuntimeError(\"index out of range\")\n",
    "        # YOUR CODE HERE\n",
    "        raise NotImplementedError()\n",
    "    \n",
    "    # __setitem__ implements c[index] = v\n",
    "    def __setitem__(self, index, v):  \n",
    "        if index < 0 or index >= self.size_:\n",
    "            raise RuntimeError(\"index out of range\")\n",
    "        # YOUR CODE HERE\n",
    "        raise NotImplementedError()\n",
    "    \n",
    "    # read first element\n",
    "    def first(self):\n",
    "        # YOUR CODE HERE\n",
    "        raise NotImplementedError()\n",
    "    \n",
    "    # read last element\n",
    "    def last(self):\n",
    "        # YOUR CODE HERE\n",
    "        raise NotImplementedError()"
   ]
  },
  {
   "cell_type": "markdown",
   "metadata": {
    "deletable": false,
    "editable": false,
    "nbgrader": {
     "checksum": "1dd57caf6a39d7dfcd15ddd92aa6025b",
     "grade": false,
     "grade_id": "test3a-hint",
     "locked": true,
     "schema_version": 1,
     "solution": false
    }
   },
   "source": [
    "Wir haben in der Vorlesung gelernt, dass die Datenstruktur folgende Axiome erfüllt:\n",
    "+ Ein neuer Container hat die Größe 0.  \n",
    "+ Zu jeder Zeit gilt: c.size() <= c.capacity().  \n",
    "+ Nach einem push gilt: (i) die Größe hat sich um eins erhöht, (ii) das gerade eingefügte Element ist jetzt das letzte, (iii) alle anderen Elemente haben sich nicht verändert, (iv) wenn der Container vorher leer war, ist das eingefügte Element auch das erste, andernfalls bleibt das erste Element unverändert.  \n",
    "+ Nach c[k] = v gilt: (i) die Größe bleibt unverändert, (ii) Index k enthält das Element v, (iii) die übrigen Elemente haben sich nicht verändert.  \n",
    "+ Nach c.popLast() gilt: (i) die Größe hat sich um eins verringert, (ii) die Elemente vom ersten bis zum vorletzten bleiben unverändert.  \n",
    "+ Nach c.popFirst() gilt: (i) die Größe hat sich um eins verringert, (ii) das zweite bis letzte Element sind einen Index nach unten gerückt.  \n",
    "+ Wenn der Container nicht leer ist, gilt stets (i) c.first() == c[0] und (ii) c.last() == c[c.size()-1].  \n",
    "\n",
    "Aufgaben:  \n",
    "a)\tVervollständigen Sie die Implementierung von UniversalContainer.  \n",
    "b)\tSchreiben Sie eine Funktion testContainer(), die für verschiedene repräsentative Fälle mittels assert (z.B. 'assert c.size() == 0') testet, dass die obigen Axiome gelten.\n"
   ]
  },
  {
   "cell_type": "code",
   "execution_count": null,
   "metadata": {
    "deletable": false,
    "editable": false,
    "nbgrader": {
     "checksum": "91edd90f732d6f1cae5817e7e8ecd5b1",
     "grade": true,
     "grade_id": "test3a",
     "locked": true,
     "points": 14,
     "schema_version": 1,
     "solution": false
    }
   },
   "outputs": [],
   "source": [
    "c = UniversalContainer()\n",
    "assert c.size() == 0\n",
    "assert c.capacity() == 1\n",
    "c.push(1)\n",
    "c.push(2)\n",
    "c.push(3)\n",
    "c.push(4)\n",
    "c.push(5)\n",
    "assert c.size() == 5\n",
    "assert c.capacity() == 8\n",
    "assert c.data_[0] == 1\n",
    "assert c.data_[1] == 2\n",
    "assert c.data_[2] == 3\n",
    "assert c.data_[3] == 4\n",
    "assert c.data_[4] == 5\n",
    "assert c.data_[5] == None\n",
    "assert c.data_[6] == None\n",
    "assert c.data_[7] == None\n",
    "c.popFirst()\n",
    "assert c.data_[0] == 2\n",
    "assert c.data_[1] == 3\n",
    "assert c.data_[2] == 4\n",
    "assert c.data_[3] == 5\n",
    "assert c.data_[4] == None\n",
    "assert c.data_[5] == None\n",
    "assert c.data_[6] == None\n",
    "assert c.data_[7] == None\n",
    "assert c.size() == 4\n",
    "c.popLast()\n",
    "assert c.data_[0] == 2\n",
    "assert c.data_[1] == 3\n",
    "assert c.data_[2] == 4\n",
    "assert c.data_[3] == None\n",
    "assert c.data_[4] == None\n",
    "assert c.data_[5] == None\n",
    "assert c.data_[6] == None\n",
    "assert c.data_[7] == None\n",
    "assert c.size() == 3\n",
    "assert c.__getitem__(0) == 2\n",
    "assert c.__getitem__(1) == 3\n",
    "assert c.__getitem__(2) == 4\n",
    "c.__setitem__(0,100)\n",
    "assert c.first() == 100\n",
    "assert c.last() == 4"
   ]
  }
 ],
 "metadata": {
  "kernelspec": {
   "display_name": "Python 3",
   "language": "python",
   "name": "python3"
  },
  "language_info": {
   "codemirror_mode": {
    "name": "ipython",
    "version": 3
   },
   "file_extension": ".py",
   "mimetype": "text/x-python",
   "name": "python",
   "nbconvert_exporter": "python",
   "pygments_lexer": "ipython3",
   "version": "3.5.2"
  }
 },
 "nbformat": 4,
 "nbformat_minor": 2
}
