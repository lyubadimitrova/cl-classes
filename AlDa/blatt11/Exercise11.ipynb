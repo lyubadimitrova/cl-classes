{
 "cells": [
  {
   "cell_type": "markdown",
   "metadata": {},
   "source": [
    "Before you turn this problem in, make sure everything runs as expected. First, **restart the kernel** (in the menubar, select Kernel$\\rightarrow$Restart) and then **run all cells** (in the menubar, select Cell$\\rightarrow$Run All).\n",
    "\n",
    "Make sure you fill in any place that says `YOUR CODE HERE` or \"YOUR ANSWER HERE\", as well as your name and collaborators below:"
   ]
  },
  {
   "cell_type": "code",
   "execution_count": 1,
   "metadata": {},
   "outputs": [],
   "source": [
    "NAME = \"Lyubomira Dimitrova\"\n",
    "COLLABORATORS = \"Maryna Charniuk, Dung Nguyen(SPANKUS)\""
   ]
  },
  {
   "cell_type": "markdown",
   "metadata": {},
   "source": [
    "---"
   ]
  },
  {
   "cell_type": "markdown",
   "metadata": {
    "deletable": false,
    "editable": false,
    "nbgrader": {
     "checksum": "78a6fc62123f8045162bfb6e2f2ce8e0",
     "grade": false,
     "grade_id": "task1",
     "locked": true,
     "schema_version": 1,
     "solution": false
    }
   },
   "source": [
    "# Aufgabe 1 - Kürzeste Wege mit Dijkstra's Algorithmus (40 Punkte)\n",
    "\n",
    "Für diese Aufgabe benötigen Sie das File \"entfernungen.json\" mit 154 deutschen Städten, ihren Koordinaten, sowie den Straßenentfernungen zu umliegenden Städten:   \n",
    "\n",
    "```json\n",
    "{\n",
    "    \"Name der Stadt\": {\n",
    "        \"Koordinaten\":  {\n",
    "            \"Breite\":  \"50N47\",\n",
    "            \"Länge\":   \"06E05\"\n",
    "        },\n",
    "        \"Nachbarn\":  {\n",
    "            \"Nachbarstadt_1\": 16.8,\n",
    "            \"Nachbarstadt_2\": 32.4,\n",
    "            ...\n",
    "        }\n",
    "    },\n",
    "    ...\n",
    "}\n",
    " ```\n",
    "Die Koordinaten sind als Geokoordinaten mit Breiten- und Längengrad (hier: 50° 47 Minuten Nord, 6° 5 Minuten Ost), die Nachbarstädte mit Entfernungsangabe in Kilometern angegeben.   "
   ]
  },
  {
   "cell_type": "markdown",
   "metadata": {
    "deletable": false,
    "editable": false,
    "nbgrader": {
     "checksum": "eb4e1d9ee44e80e71655462dff38bd5a",
     "grade": false,
     "grade_id": "task-1a",
     "locked": true,
     "schema_version": 1,
     "solution": false
    }
   },
   "source": [
    "a) **(8 Pkt.)**  \n",
    "Implementieren Sie eine Funktion  \n",
    "\n",
    "```python\n",
    "graph, names, weights = createGraph(distanceDict)  \n",
    "```\n",
    "    \n",
    "die aus den Entfernungsdaten einen gewichteten Graphen generiert. Dabei ist **distanceDict** das Dictionary, das Sie aus dem File eingelesen haben. **graph** ist die Adjazenzliste des Graphen, **names** ist eine property map, die jeder Knotennummer den jeweiligen Städtenamen zuordnet, und  **weights** eine property map, die die Kantengewichte speichert, so dass **weights[(i,j)]** das Gewicht der Kante von Knoten *i* nach Knoten *j* angibt."
   ]
  },
  {
   "cell_type": "code",
   "execution_count": 2,
   "metadata": {
    "deletable": false,
    "nbgrader": {
     "checksum": "06f40e18635aa7e68d5f4a32ab2f6120",
     "grade": false,
     "grade_id": "cell-cf68c46592f4c643",
     "locked": false,
     "schema_version": 1,
     "solution": true
    }
   },
   "outputs": [],
   "source": [
    "import json\n",
    "\n",
    "def readfile(filename):\n",
    "    with open(filename, encoding = 'utf-8') as d:\n",
    "        data = json.load(d)\n",
    "    return data\n",
    "\n",
    "def createGraph(distanceDict):\n",
    "    \"\"\"\n",
    "    Note: In order to past the auto-tests, please use city name as key and node number as value in the dict names.\n",
    "    Also, please make the values (node numbers) as range(graph)\n",
    "\n",
    "    Arguments:\n",
    "    distanceDict -- the dictionary you have read from the file\n",
    "\n",
    "    Returns:\n",
    "    graph -- the adjacency list of the graph\n",
    "    names -- the dictionary that maps each node number to the respective city name, as {city name : node number}\n",
    "    weights -- the dictionary that stores the edge weights, as {(0, 32): 32.4}\n",
    "    \n",
    "    \"\"\"\n",
    "    names = {city_name : node_number for node_number, city_name in enumerate(distanceDict)}\n",
    "    \n",
    "    #jedes Element in der Liste 'graph' ist eine Liste von Zahlen\n",
    "    graph = [[names[neighbor] for neighbor in city_name['Nachbarn']] \n",
    "             for city_name in distanceDict.values()]\n",
    "    \n",
    "    weights = {}\n",
    "\n",
    "    for city in distanceDict:\n",
    "        neighbors = distanceDict[city]['Nachbarn']\n",
    "        for n in neighbors:\n",
    "            weights[(names[city], names[n])] = neighbors[n]\n",
    "            weights[(names[n], names[city])] = neighbors[n]\n",
    "            \n",
    "    return graph, names, weights\n"
   ]
  },
  {
   "cell_type": "code",
   "execution_count": 3,
   "metadata": {
    "deletable": false,
    "editable": false,
    "nbgrader": {
     "checksum": "873436512cc86e14cdb210af246313e0",
     "grade": true,
     "grade_id": "cell-5f3eeff04ba5a412",
     "locked": true,
     "points": 8,
     "schema_version": 1,
     "solution": false
    }
   },
   "outputs": [],
   "source": [
    "distanceDict = readfile('entfernungen.json')\n",
    "graph, names, weights = createGraph(distanceDict)\n",
    "\n",
    "for city in ['Aachen', 'Bayreuth', 'Duisburg', 'Görlitz', 'Wiesbaden']:\n",
    "    graphItm = graph[names[city]] \n",
    "    graphItm2 = []\n",
    "    for i, j in distanceDict[city]['Nachbarn'].items():\n",
    "        graphItm2.append(names[i])\n",
    "        assert weights[(names[city],names[i])] == j\n",
    "        assert weights[(names[i],names[city])] == j\n",
    "    assert graphItm == graphItm2\n",
    "    "
   ]
  },
  {
   "cell_type": "markdown",
   "metadata": {
    "deletable": false,
    "editable": false,
    "nbgrader": {
     "checksum": "a40ebe6be363d667a79c2c5c80295fe9",
     "grade": false,
     "grade_id": "task-1b",
     "locked": true,
     "schema_version": 1,
     "solution": false
    }
   },
   "source": [
    "b) **(20 Pkt.)**  \n",
    "Verwenden Sie Dijkstras Algorithmus, um die kürzesten Wege und die Straßenentfernung zwischen\n",
    "\n",
    "1. Aachen und Passau\n",
    "2. Saarbrücken und Leipzig\n",
    "3. München und Greifswald\n",
    "4. Konstanz und Kassel\n",
    "\n",
    "zu bestimmen. Implementieren Sie zu diesem Zweck eine Funktion  \n",
    "\n",
    "```python\n",
    "    path, distance = dijkstra(graph, weights, start, destination)  \n",
    "```\n",
    "    \n",
    "die den Weg als Folge von Kanten (jeweils mit Anfangs-, Endknoten sowie Entfernung) und die Gesamtentfernung zurückgibt. Verwenden Sie dann die property map **names** aus a), um den Pfad in die Darstellung \"Startstadt => x km => Stadt2 => y km => Stadt3 => … => Zielstadt (insgesamt: z km)\" umzuwandeln.  "
   ]
  },
  {
   "cell_type": "code",
   "execution_count": 4,
   "metadata": {
    "deletable": false,
    "nbgrader": {
     "checksum": "00f3c255e62e983d4e814365b9b62806",
     "grade": false,
     "grade_id": "cell-0602353235525baf",
     "locked": false,
     "schema_version": 1,
     "solution": true
    }
   },
   "outputs": [],
   "source": [
    "import sys\n",
    "from math import inf\n",
    "import heapq\n",
    "\n",
    "          \n",
    "def dijkstra(graph, weights, names, start, destination):\n",
    "    \n",
    "    \"\"\"\n",
    "    Arguments:\n",
    "    graph -- the adjacency list of the graph\n",
    "    names -- the dictionary that maps each node number to the respective city name, as {city name : node number}\n",
    "    weights -- the dictionary that stores the edge weights, as {(0, 32): 32.4}\n",
    "    start -- str, such as 'Aachen'\n",
    "    destination -- str, such as 'Euskirchen'\n",
    "\n",
    "    Returns:\n",
    "    path -- str, such as 'Aachen => 32.4 km => Düren => 30.0 km => Euskirchen (total: 62.4 km)'\n",
    "    distance -- such as 62.4\n",
    "    \n",
    "    \"\"\"\n",
    "    # initialize\n",
    "    n = len(graph)\n",
    "    st = names[start]\n",
    "    distances = [inf] * n\n",
    "    distances[st] = 0\n",
    "    parents = [None] * n\n",
    "    \n",
    "    # start heap\n",
    "    heap = []\n",
    "    for neighbor in graph[st]:\n",
    "        heapq.heappush(heap, (weights[(st, neighbor)], st, neighbor))\n",
    "        distances[neighbor] = weights[(st, neighbor)]       # we have to start somewhere\n",
    "        parents[neighbor] = st\n",
    "    \n",
    "    while len(heap) > 0:\n",
    "        w, parent, node = heapq.heappop(heap)    # get the node closest to the start\n",
    "        for neighbor in graph[node]:\n",
    "            d = distances[node] + weights[(node, neighbor)]\n",
    "            if d < distances[neighbor]:\n",
    "                distances[neighbor] = d\n",
    "                parents[neighbor] = node\n",
    "                heapq.heappush(heap, (weights[(node, neighbor)], node, neighbor))\n",
    "            \n",
    "    # distance\n",
    "    dest = names[destination]    # the node number of the destination node\n",
    "    distance = distances[dest]\n",
    "    \n",
    "    # pretty path\n",
    "    path = ' (total: {:.1f} km)'.format(distance)    # start at the end of the string\n",
    "    \n",
    "    while parents[dest] is not None:  # until the start node is reached (its parent is None)\n",
    "        city_name = next(name for name in names if names[name] == dest)\n",
    "        path = ' => {} km => {}'.format(weights[(dest, parents[dest])], city_name) + path   # expand from the beginning\n",
    "        dest = parents[dest]\n",
    "    path = start + path\n",
    "\n",
    "    return path, distance\n"
   ]
  },
  {
   "cell_type": "code",
   "execution_count": 5,
   "metadata": {
    "deletable": false,
    "editable": false,
    "nbgrader": {
     "checksum": "587635fdced2fe98eb00b9a63e60d2a5",
     "grade": true,
     "grade_id": "cell-dd350c2b39aadea2",
     "locked": true,
     "points": 20,
     "schema_version": 1,
     "solution": false
    }
   },
   "outputs": [
    {
     "name": "stdout",
     "output_type": "stream",
     "text": [
      "Aachen => 32.4 km => Düren => 30.0 km => Euskirchen => 64.8 km => Neuwied => 15.6 km => Koblenz => 97.2 km => Frankfurt (Main) => 19.2 km => Hanau => 98.4 km => Würzburg => 94.8 km => Erlangen => 121.2 km => Regensburg => 134.4 km => Passau (total: 708.0 km)\n",
      "--------\n",
      "Saarbrücken => 70.8 km => Kaiserslautern => 57.6 km => Worms => 39.6 km => Darmstadt => 40.8 km => Hanau => 84.0 km => Fulda => 79.2 km => Eisenach => 60.0 km => Erfurt => 45.6 km => Jena => 87.6 km => Leipzig (total: 565.2 km)\n",
      "--------\n",
      "München => 82.8 km => Ingolstadt => 96.0 km => Nürnberg => 79.2 km => Bayreuth => 56.4 km => Hof => 30.0 km => Plauen => 48.0 km => Gera => 70.8 km => Leipzig => 148.8 km => Potsdam => 31.2 km => Berlin => 140.4 km => Neubrandenburg => 70.8 km => Greifswald (total: 854.4 km)\n",
      "--------\n",
      "Konstanz => 115.2 km => Tübingen => 21.6 km => Sindelfingen => 36.0 km => Pforzheim => 31.2 km => Karlsruhe => 43.2 km => Speyer => 20.4 km => Mannheim => 52.8 km => Darmstadt => 32.4 km => Frankfurt (Main) => 61.2 km => Gießen => 32.4 km => Marburg => 90.0 km => Kassel (total: 536.4 km)\n"
     ]
    }
   ],
   "source": [
    "path, distance = dijkstra(graph, weights, names, 'Aachen', 'Passau')\n",
    "print(path)\n",
    "assert round(distance,1) == 708.0\n",
    "print('--------')\n",
    "path, distance = dijkstra(graph, weights, names, 'Saarbrücken', 'Leipzig')\n",
    "print(path)\n",
    "assert round(distance,1) == 565.2\n",
    "print('--------')\n",
    "path, distance = dijkstra(graph, weights, names, 'München', 'Greifswald')\n",
    "print(path)\n",
    "assert round(distance,1) == 854.4\n",
    "print('--------')\n",
    "path, distance = dijkstra(graph, weights, names, 'Konstanz', 'Kassel')\n",
    "print(path)\n",
    "assert round(distance,1) == 536.4"
   ]
  },
  {
   "attachments": {
    "image.png": {
     "image/png": "[encoded data removed]"
    }
   },
   "cell_type": "markdown",
   "metadata": {
    "deletable": false,
    "editable": false,
    "nbgrader": {
     "checksum": "efcfb0c628f2bb8ea61c9b698a023e4f",
     "grade": false,
     "grade_id": "task-1c",
     "locked": true,
     "schema_version": 1,
     "solution": false
    }
   },
   "source": [
    "b) **(12 Pkt.)**  \n",
    "\n",
    "![image.png](attachment:image.png)\n",
    "\n",
    "Die oben gegebene Implementierung des Dijkstra-Algorithmus zeigt die Variante mit Prioritätswarteschlange.\n",
    "1. **(2 Pkt.)** Welche Zeitkomplexität hat der angegebene Algorithmus?\n",
    "2. **(2 Pkt.)** Angenommen wir ändern der Algorithmus in Zeile 4 zu `while |Q| > 1:`, wodurch die äußere Schleife nur noch $n-1$ Mal durchlaufen wird. Ist diese Änderung korrekt? Erklären Sie Ihre Antwort.\n",
    "3. **(4 Pkt.)** Sei $G=\\left(V,E\\right)$ ein gerichteter, gewichteter Graph mit nicht-negativen Gewichten für die gilt: $w: E \\to \\lbrace0, 1, \\dots, W\\rbrace$. Ändern Sie den Dijkstra-Algorithmus so, dass die der kürzeste Pfad zu $s$ in $O\\left(WV+E\\right)$ gefunden werden kann.\n",
    "3. **(4 Pkt.)** Unter derselben Annahme: Modifizieren Sie Ihre Implementierung der Vorherigen Aufgabe so, dass sie eine Laufzeitkomplexität von $O\\left(\\left(V+E\\right)\\lg W\\right)$ erreichen.\n",
    "\n",
    "***Anmerkung zu 3 und 4: Eine ausführliche Beschreibung ist ausreichend***"
   ]
  },
  {
   "cell_type": "markdown",
   "metadata": {
    "deletable": false,
    "nbgrader": {
     "checksum": "8ca9b78594f2b6f072d602c0db830f44",
     "grade": true,
     "grade_id": "cell-34decf4ffc803192",
     "locked": false,
     "points": 12,
     "schema_version": 1,
     "solution": true
    }
   },
   "source": [
    "Sei n = |V| und m = |E|\n",
    "\n",
    "1. $O(m + n log n)$\n",
    "\n",
    "   Alle Knoten werden in die Queue aufgenommen, also len(Q) = n => wird die while-Schleife n-mal ausgeführt.\n",
    "   Die RELAX-Funktion wird für jede Kante einmal ausgeführt, also m Mal insgesamt.\n",
    "   EXTRACT-MIN (eigentlich das gleiche wie deleteMin), benötigt $O(log n)$, und wird in jeder Iteration der while-Schleife ausgeführt.\n",
    "   \n",
    "2. \n",
    "   "
   ]
  }
 ],
 "metadata": {
  "kernelspec": {
   "display_name": "Python 3",
   "language": "python",
   "name": "python3"
  },
  "language_info": {
   "codemirror_mode": {
    "name": "ipython",
    "version": 3
   },
   "file_extension": ".py",
   "mimetype": "text/x-python",
   "name": "python",
   "nbconvert_exporter": "python",
   "pygments_lexer": "ipython3",
   "version": "3.5.2"
  }
 },
 "nbformat": 4,
 "nbformat_minor": 2
}
