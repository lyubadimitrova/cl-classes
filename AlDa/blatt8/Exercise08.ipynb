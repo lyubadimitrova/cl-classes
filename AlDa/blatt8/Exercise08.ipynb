{
 "cells": [
  {
   "cell_type": "markdown",
   "metadata": {},
   "source": [
    "Before you turn this problem in, make sure everything runs as expected. First, **restart the kernel** (in the menubar, select Kernel$\\rightarrow$Restart) and then **run all cells** (in the menubar, select Cell$\\rightarrow$Run All).\n",
    "\n",
    "Make sure you fill in any place that says `YOUR CODE HERE` or \"YOUR ANSWER HERE\", as well as your name and collaborators below:"
   ]
  },
  {
   "cell_type": "code",
   "execution_count": null,
   "metadata": {},
   "outputs": [],
   "source": [
    "NAME = \"Lyubomira Dimitrova\"\n",
    "COLLABORATORS = \"Maryna Charniuk, Dung Nguyen\""
   ]
  },
  {
   "cell_type": "markdown",
   "metadata": {},
   "source": [
    "---"
   ]
  },
  {
   "cell_type": "markdown",
   "metadata": {
    "deletable": false,
    "editable": false,
    "nbgrader": {
     "checksum": "b94b29c8bcacee0be5bdecb7ee86b7ff",
     "grade": false,
     "grade_id": "task1",
     "locked": true,
     "schema_version": 1,
     "solution": false
    }
   },
   "source": [
    "# Aufgabe 1 - Treaps (40 Punkte)\n",
    "\n",
    "Bei selbstbalancierenden Bäumen versucht man, die Höhe des Baumes zu minimieren. Dies ist aber gar nicht das eigentliche Ziel der Optimierung: In Wirklichkeit will man die Zugriffszeit auf die Elemente minimieren. Wenn die Schlüssel mit sehr unterschiedlicher Häufigkeit abgefragt werden, ist ein balancierter Baum dafür nicht die optimale Lösung. Stattdessen will man häufige Schlüssel nahe der Wurzel des Baumes abspeichern, auch wenn seltene Schlüssel dadurch in tieferen Ebenen landen als beim balancierten Baum. Dies wird durch den sogenannten Treap erreicht, der die Eigenschaften von Suchbäumen und Heaps verbindet. Neben dem Schlüssel hat hier jedes Element auch eine Priorität, und Elemente mit hoher Priorität liegen nahe der Wurzel des Baumes. Dies erreicht man, indem jeder Teilbaum zwei Eigenschaften erfüllt:  \n",
    "\n",
    ">(1) Sortierung nach Schlüsseln: Alle Elemente im linken Teilbaum haben kleinere Schlüssel als die Wurzel des Teilbaums, alle Elemente im rechten Teilbaum größere (Suchbaumbedingung).  \n",
    "\n",
    ">(2) Sortierung nach Prioritäten: Kein Element im linken oder rechten Teilbaum hat höhere Priorität als die Wurzel des Teilbaums (Heap-Bedingung).  \n",
    "\n",
    "Die Erfinder der Treap-Datenstruktur haben gezeigt, dass beide Eigenschaften gleichzeitig erfüllbar sind. Der grundlegende Einfügealgorithmus besteht aus den folgenden Schritten:  \n",
    "\n",
    ">1. Füge ein neues Element entsprechend seines Schlüssels ein wie in einen unbalancierten Baum (vergleiche **insert()** aus Übung 5). Damit ist Bedingung (1) erfüllt.  \n",
    "\n",
    ">2. Wenn die Priorität des neuen Elements höher ist als die seines Vaterknotens: Führe eine Rota-tion aus, die das neue Element eine Ebene nach oben bewegt. Wenn das neue Element das linke Kind ist, muss eine Rechtsrotation ausgeführt werden und umgekehrt.  \n",
    "\n",
    ">3. Wiederhole Schritt 2 auf der nächsthöheren Ebene bis entweder Bedingung (2) erfüllt oder das neue Element zur Wurzel des Treaps geworden ist. Da Bedingung (1) invariant gegenüber Rotationen ist, entsteht dadurch immer ein gültiger Treap.  \n",
    "\n",
    "Für die Festlegung der Prioritäten gibt es mehrere Möglichkeiten:  \n",
    "\n",
    ">(A)\tWenn man konstante Prioritäten verwendet, entsteht ein unbalancierter Baum.  \n",
    "\n",
    ">(B)\tWenn man Zufallszahlen verwendet, entsteht ein näherungsweise balancierter Baum.  \n",
    "\n",
    ">(C)\tWenn man die Wahrscheinlichkeiten verwendet, mit der auf die Schlüssel zugegriffen wird, entsteht ein näherungsweise zugriffsoptimaler Baum.  \n",
    "\n",
    ">(D)\tWenn man bei jedem Zugriff auf ein Element dessen Priorität inkrementiert (und den Baum umstrukturiert, falls Bedingung (2) nicht mehr erfüllt ist), passt sich der Baum automatisch an variierende Zugriffsmuster an, indem häufig benutzte Schlüssel nach oben wandern. Beim ersten Einfügen wird die Priorität mit 1 initialisiert.  \n",
    "\n",
    "Lösen Sie folgende Aufgaben:  "
   ]
  },
  {
   "cell_type": "markdown",
   "metadata": {
    "deletable": false,
    "editable": false,
    "nbgrader": {
     "checksum": "ff063d3a3b1b660967196f68fb05439c",
     "grade": false,
     "grade_id": "cell-1",
     "locked": true,
     "schema_version": 1,
     "solution": false
    }
   },
   "source": [
    "a) **(4 Points)**  \n",
    "Fügen Sie die folgenden Zeichen mit ihren Prioritäten in einen leeren Treap ein und beantworton Sie die Fragen:\n",
    "\n",
    ">(A, 17), (F, 22), (Q, 15), (K, 25), (R, 14), (B, 35), (X, 27), (M, 24), (L, 42), (T, 30)\n",
    "\n",
    "1. Geben Sie die Länge des Treap an (0 heißt, dass sich nur ein Knoten im Treip befindet)\n",
    "2. Welches Zeichen ist die Wurzel des Treap\n",
    "3. Wie viele Blätter hat der Treap\n",
    "4. Welches Zeichen (falls vorhanden) ist der rechte Kind-Knoten von M"
   ]
  },
  {
   "cell_type": "markdown",
   "metadata": {
    "deletable": false,
    "nbgrader": {
     "checksum": "a1917ad602c7e6f71df35028c0befc0a",
     "grade": true,
     "grade_id": "cell-2",
     "locked": false,
     "points": 4,
     "schema_version": 1,
     "solution": true
    }
   },
   "source": [
    "\n",
    "               (L, 42)\n",
    "               /     \\\n",
    "           (B, 35)   (T, 30)\n",
    "           /   \\       /   \\\n",
    "       (A,17)(K,25) (M,24) (X, 27)\n",
    "              /         \\\n",
    "           (F, 22)   (Q, 15)\n",
    "                          \\\n",
    "                        (R, 14)\n",
    "                        \n",
    "1. Die Länge des Treaps ist 4.\n",
    "2. Die Wurzel ist (L, 42).\n",
    "3. Der Treap hat 4 Blätter.\n",
    "4. (Q, 15) ist der rechte Kind-Knoten von M."
   ]
  },
  {
   "cell_type": "markdown",
   "metadata": {
    "deletable": false,
    "editable": false,
    "nbgrader": {
     "checksum": "ce82aecf9ce76532577afd2dee3753a0",
     "grade": false,
     "grade_id": "cell-3",
     "locked": true,
     "schema_version": 1,
     "solution": false
    }
   },
   "source": [
    "b) **(2 Points)**  \n",
    "Löschen Sie (L, 42) aus dem Treap Und beantworten Sie dieselben Fragen."
   ]
  },
  {
   "cell_type": "markdown",
   "metadata": {
    "deletable": false,
    "nbgrader": {
     "checksum": "bbceb6dc482f7349ba734bc37640b689",
     "grade": true,
     "grade_id": "cell-4",
     "locked": false,
     "points": 2,
     "schema_version": 1,
     "solution": true
    }
   },
   "source": [
    "                           \n",
    "                           (B, 35)\n",
    "                           /     \\\n",
    "                       (A, 17)  (T, 30)\n",
    "                                /     \\\n",
    "                            (K, 24)  (X, 27)\n",
    "                            /     \\\n",
    "                        (F, 22)  (M, 24)\n",
    "                                     \\\n",
    "                                    (Q, 15)\n",
    "                                       \\\n",
    "                                      (R, 14)\n",
    "                                      \n",
    "                                      \n",
    "1. Die Länge des Treaps ist 5.\n",
    "2. Die Wurzel ist (B, 35).\n",
    "3. Der Treap hat 4 Blätter.\n",
    "4. (Q, 15) ist der rechte Kind-Knoten von M."
   ]
  },
  {
   "cell_type": "markdown",
   "metadata": {
    "deletable": false,
    "editable": false,
    "nbgrader": {
     "checksum": "5b42adf7f4d733bfbb235f116880d933",
     "grade": false,
     "grade_id": "cell-5",
     "locked": true,
     "schema_version": 1,
     "solution": false
    }
   },
   "source": [
    "c)\t**(2 Punkte)**   \n",
    "Was ist der Unterschied zwischen den Eigenschaften des Binären-Suchbaums und der den Min-Heap? Kann die Min-Heap Eigenschaft ausgenutzt werden um die Schlüssel eines Baums mit $n$ Knoten in $O\\left(n\\right)$ auszugeben? Begründen Sie ihre Antwort."
   ]
  },
  {
   "cell_type": "markdown",
   "metadata": {
    "deletable": false,
    "nbgrader": {
     "checksum": "b29a4ab3836341f04c53808c17c022fe",
     "grade": true,
     "grade_id": "cell-6",
     "locked": false,
     "points": 2,
     "schema_version": 1,
     "solution": true
    }
   },
   "source": [
    "Suchbaumbedingung: leftChild < parent < rightChild <br>\n",
    "MinHeap-Bedingung: child > parent\n",
    "\n",
    "Nein, die Min-Heap Eigenschaft kann nicht dafür benutzt werden, alle n Schlüssel in sortierter Reihenfolge in $O(n)$ auszugeben, weil die Relation zwischen den rechten und linken Kindern nicht definiert ist. Im Gegensatz dazu lassen sich die Schlüssel eines Binärbaums in $O(n)$ sortiert ausgeben (z.B. in-order Traversierung)."
   ]
  },
  {
   "cell_type": "markdown",
   "metadata": {
    "deletable": false,
    "editable": false,
    "nbgrader": {
     "checksum": "303eab7dd96071b957f14fd707279d00",
     "grade": false,
     "grade_id": "cell-7",
     "locked": true,
     "schema_version": 1,
     "solution": false
    }
   },
   "source": [
    "\n",
    "d)\t**(6 Punkte)**   \n",
    "Implementieren Sie die aus der Vorlesung bekannten Operationen  \n",
    "  >*newroot = rotateLeft(rootnode)*  \n",
    "  >*newroot = rotateRight(rootnode)*\n",
    "  \n",
    "**Hinweis**   \n",
    "Durch eine Rotation ändern wir die Struktur der Zeiger. Dies ist eine lokale Operation im Suchbaum durch die die Binäre-Suchbaum-Eigencshaft erhalten bleibt. Wenn wir beispielsweise eine Linksrotation an Knoten $x$ durchführen nehmen wir an, dass das rechte Kindelement von $x$, $y$ nicht leer ist; $x$ kann jeder Knoten im Baum sein, dessen rechtes Kind-Element nicht leer ist. Die Linksrotation dreht sich um die Verbindung von $x$ zu $y$. Dadurch wird $y$ die neue Wurzel des Teilbaums wobei $x$ das linke Kindelement von $y$ wird und das linke Kindelement von $y$ das rechte Kindelement von $x$ wird."
   ]
  },
  {
   "cell_type": "code",
   "execution_count": 35,
   "metadata": {
    "deletable": false,
    "editable": false,
    "nbgrader": {
     "checksum": "430f9aea36a39ce6b713c683e51666ab",
     "grade": false,
     "grade_id": "cell-8",
     "locked": true,
     "schema_version": 1,
     "solution": false
    }
   },
   "outputs": [],
   "source": [
    "class Node:\n",
    "    def __init__(self, key, priority):\n",
    "        self.key = key\n",
    "        self.priority = priority\n",
    "        self.left = self.right = None\n",
    "    \n",
    "    # for test\n",
    "    def left_key(self):\n",
    "        return 0 if self.left is None else self.left.key\n",
    "    def right_key(self):\n",
    "        return 0 if self.right is None else self.right.key"
   ]
  },
  {
   "cell_type": "code",
   "execution_count": 36,
   "metadata": {
    "deletable": false,
    "nbgrader": {
     "checksum": "bd9fc7d3e157df9390900c81d53a63ee",
     "grade": false,
     "grade_id": "cell-9",
     "locked": false,
     "schema_version": 1,
     "solution": true
    }
   },
   "outputs": [],
   "source": [
    "def rotateLeft(rootnode):\n",
    "    right_child = rootnode.right\n",
    "    rootnode.right = right_child.left\n",
    "    right_child.left = rootnode\n",
    "    return right_child    # the right child becomes the new root\n",
    "\n",
    "def rotateRight(rootnode):\n",
    "    left_child = rootnode.left\n",
    "    rootnode.left = left_child.right\n",
    "    left_child.right = rootnode\n",
    "    return left_child     # the left child becomes the new root"
   ]
  },
  {
   "cell_type": "code",
   "execution_count": 37,
   "metadata": {
    "deletable": false,
    "editable": false,
    "nbgrader": {
     "checksum": "7d6dd870837b5603c4b26d4f90967487",
     "grade": true,
     "grade_id": "cell-10",
     "locked": true,
     "points": 2,
     "schema_version": 1,
     "solution": false
    }
   },
   "outputs": [],
   "source": [
    "# --- test left rotation ---\n",
    "n1 = Node(1,1)\n",
    "n2 = Node(2,2)\n",
    "n1.right = n2\n",
    "assert n1.left_key() == 0\n",
    "assert n1.right_key() == 2\n",
    "assert n2.left_key() == 0\n",
    "assert n2.right_key() == 0\n",
    "rotateLeft(n1)\n",
    "assert n1.left_key() == 0\n",
    "assert n1.right_key() == 0\n",
    "assert n2.left_key() == 1\n",
    "assert n2.right_key() == 0\n",
    "# --- test right rotation ---\n",
    "n1 = Node(1,1)\n",
    "n2 = Node(2,2)\n",
    "n2.left = n1\n",
    "assert n1.left_key() == 0\n",
    "assert n1.right_key() == 0\n",
    "assert n2.left_key() == 1\n",
    "assert n2.right_key() == 0\n",
    "rotateRight(n2)\n",
    "assert n1.left_key() == 0\n",
    "assert n1.right_key() == 2\n",
    "assert n2.left_key() == 0\n",
    "assert n2.right_key() == 0"
   ]
  },
  {
   "cell_type": "code",
   "execution_count": 38,
   "metadata": {
    "deletable": false,
    "editable": false,
    "nbgrader": {
     "checksum": "71d32af98ec4c3bb8d5f116cd2e78bc2",
     "grade": true,
     "grade_id": "cell-11",
     "locked": true,
     "points": 4,
     "schema_version": 1,
     "solution": false
    }
   },
   "outputs": [],
   "source": [
    "# --- test left rotation ---\n",
    "n1 = Node(1,1)\n",
    "n2 = Node(2,2)\n",
    "n3 = Node(3,3)\n",
    "n4 = Node(4,4)\n",
    "n5 = Node(5,5)\n",
    "n2.left = n1\n",
    "n2.right = n4\n",
    "n4.left = n3\n",
    "n4.right = n5\n",
    "assert n1.left_key() == 0\n",
    "assert n1.right_key() == 0\n",
    "assert n2.left_key() == 1\n",
    "assert n2.right_key() == 4\n",
    "assert n3.left_key() == 0\n",
    "assert n3.right_key() == 0\n",
    "assert n4.left_key() == 3\n",
    "assert n4.right_key() == 5\n",
    "assert n5.left_key() == 0\n",
    "assert n5.right_key() == 0\n",
    "rotateLeft(n2)\n",
    "assert n1.left_key() == 0\n",
    "assert n1.right_key() == 0\n",
    "assert n2.left_key() == 1\n",
    "assert n2.right_key() == 3\n",
    "assert n3.left_key() == 0\n",
    "assert n3.right_key() == 0\n",
    "assert n4.left_key() == 2\n",
    "assert n4.right_key() == 5\n",
    "assert n5.left_key() == 0\n",
    "assert n5.right_key() == 0\n",
    "# --- test right rotation ---\n",
    "n1 = Node(1,1)\n",
    "n2 = Node(2,2)\n",
    "n3 = Node(3,3)\n",
    "n4 = Node(4,4)\n",
    "n5 = Node(5,5)\n",
    "n2.left = n1\n",
    "n2.right = n3\n",
    "n4.left = n2\n",
    "n4.right = n5\n",
    "assert n1.left_key() == 0\n",
    "assert n1.right_key() == 0\n",
    "assert n2.left_key() == 1\n",
    "assert n2.right_key() == 3\n",
    "assert n3.left_key() == 0\n",
    "assert n3.right_key() == 0\n",
    "assert n4.left_key() == 2\n",
    "assert n4.right_key() == 5\n",
    "assert n5.left_key() == 0\n",
    "assert n5.right_key() == 0\n",
    "rotateRight(n4)\n",
    "assert n1.left_key() == 0\n",
    "assert n1.right_key() == 0\n",
    "assert n2.left_key() == 1\n",
    "assert n2.right_key() == 4\n",
    "assert n3.left_key() == 0\n",
    "assert n3.right_key() == 0\n",
    "assert n4.left_key() == 3\n",
    "assert n4.right_key() == 5\n",
    "assert n5.left_key() == 0\n",
    "assert n5.right_key() == 0"
   ]
  },
  {
   "cell_type": "markdown",
   "metadata": {
    "deletable": false,
    "editable": false,
    "nbgrader": {
     "checksum": "c12a4b60e058cdcc2a1a4e96df9d983a",
     "grade": false,
     "grade_id": "cell-12",
     "locked": true,
     "schema_version": 1,
     "solution": false
    }
   },
   "source": [
    "e)\t**(24 Punkte)**   \n",
    "Implementieren Sie die Klassen **RandomTreap** und **DynamicTreap**, die die Prioritäten nach Variante (B) bzw. (D) festlegen. Gehen Sie dabei von der Klasse **SearchTree** aus Übung 5 aus. Die Node-Klasse muss um ein Attribut priority erweitert werden, das value-Attribut kann dafür wegfallen, weil es in dieser Übung nicht benötigt wird. Die Funktion **insert()** realisiert die Treap-Semantik: Ist der key noch nicht im Treap enthalten, wird er nach der Suchbaumregel eingefügt und der Baum eventuell entsprechend der Prioritäten umstrukturiert. Ist der key bereits vorhanden, passiert beim RandomTreap nichts, während beim DynamicTreap die Prio-rität um Eins erhöht und der Baum gegebenenfalls umstrukturiert wird.   \n",
    "  \n",
    "**Bemerkung**  \n",
    "Die Funktion `insert()` von `RandomTreap`, hat ein optionales Argument `priority`. Wird dieses Argument weggelassen wird die Priorität zufällig durch Pythons `random.random()` Funktion festgelegt."
   ]
  },
  {
   "cell_type": "code",
   "execution_count": 39,
   "metadata": {
    "deletable": false,
    "nbgrader": {
     "checksum": "fb845288adb6bce4c377b81028903edd",
     "grade": false,
     "grade_id": "cell-13",
     "locked": false,
     "schema_version": 1,
     "solution": true
    }
   },
   "outputs": [],
   "source": [
    "import random\n",
    "### For test purpose, please use random.random() to set the priority of each node.\n",
    "\n",
    "class RandomTreap:\n",
    "    def __init__(self):\n",
    "        self.root = None\n",
    "        \n",
    "    def insert(self, key, priority=None):\n",
    "        self.root = self._insert_helper(self.root, key, priority)\n",
    "\n",
    "    def _insert_helper(self, node, key, priority):\n",
    "        if node is None:\n",
    "            return Node(key, priority) if priority else Node(key, random.random())\n",
    "        else:\n",
    "            if key < node.key:\n",
    "                node.left = self._insert_helper(node.left, key, priority)\n",
    "                if node.left.priority > node.priority:\n",
    "                    node = rotateRight(node)\n",
    "            elif key > node.key:\n",
    "                node.right = self._insert_helper(node.right, key, priority)\n",
    "                if node.right.priority > node.priority:\n",
    "                    node = rotateLeft(node)   \n",
    "            \n",
    "        return node\n",
    "    \n",
    "\n",
    "    def remove(self, key):\n",
    "        self.root = self._remove_helper(self.root, key)\n",
    "       \n",
    "    def _remove_helper(self, node, key):\n",
    "        if node is None:\n",
    "            raise KeyError(key)\n",
    "\n",
    "        if key == node.key:\n",
    "            if node.left is None and node.right is None:     # case 1: node has no children\n",
    "                return None\n",
    "            \n",
    "            if node.left is None:   # case 2.1: node only has right child\n",
    "                return self._remove_helper(rotateLeft(node), key)\n",
    "            if node.right is None:  # case 2.2: node only has left child\n",
    "                return self._remove_helper(rotateRight(node), key)\n",
    "            \n",
    "            # case 3: node has two children\n",
    "            node.priority = -10000\n",
    "            if node.left.priority < node.right.priority:\n",
    "                node = self._remove_helper(rotateLeft(node), key)\n",
    "            else:\n",
    "                node = self._remove_helper(rotateRight(node), key)\n",
    "\n",
    "        elif key < node.key:\n",
    "            node.left = self._remove_helper(node.left, key)\n",
    "                \n",
    "        elif key > node.key:\n",
    "            node.right = self._remove_helper(node.right, key)\n",
    "\n",
    "        return node\n",
    "        \n",
    "# Traverse\n",
    "def preOrderTraverse(root):\n",
    "    if root is not None:\n",
    "        print ('key', root.key, 'priority', root.priority)\n",
    "        preOrderTraverse(root.left)\n",
    "        preOrderTraverse(root.right)\n",
    "            \n",
    "def inOrderTraverse(root):\n",
    "    if root is not None:\n",
    "        inOrderTraverse(root.left)\n",
    "        print ('key', root.key, 'priority', root.priority)\n",
    "        inOrderTraverse(root.right)\n",
    "\n",
    "def postOrderTraverse(root):\n",
    "    if root is not None:\n",
    "        postOrderTraverse(root.left)\n",
    "        postOrderTraverse(root.right)\n",
    "        print ('key', root.key, 'priority', root.priority)\n"
   ]
  },
  {
   "cell_type": "code",
   "execution_count": 40,
   "metadata": {
    "deletable": false,
    "editable": false,
    "nbgrader": {
     "checksum": "3967b9852a239e1752d6e607053ec121",
     "grade": false,
     "grade_id": "cell-c5c5cb091d9cf6af",
     "locked": true,
     "schema_version": 1,
     "solution": false
    }
   },
   "outputs": [],
   "source": [
    "# Check\n",
    "def check(root):\n",
    "    if root is not None:\n",
    "        if root.left is not None:\n",
    "            assert root.key >= root.left.key, \"------------------\\n!!! Error !!! Not a treap: the BST condition is violated!\\n------------------\"\n",
    "            assert root.priority >= root.left.priority, \"------------------\\n!!! Error !!! Not a treap: the heap condition is violated!\\n------------------\"\n",
    "        if root.right is not None:\n",
    "            assert root.key <= root.right.key, \"------------------\\n!!! Error !!! Not a treap: the BST condition is violated!\\n------------------\"\n",
    "            assert root.priority >= root.right.priority, \"------------------\\n!!! Error !!! Not a treap: the heap condition is violated!\\n------------------\"\n",
    "        check(root.left)\n",
    "        check(root.right)"
   ]
  },
  {
   "cell_type": "code",
   "execution_count": 41,
   "metadata": {
    "deletable": false,
    "editable": false,
    "nbgrader": {
     "checksum": "799a3c36c3e80380166970a91df8ea21",
     "grade": true,
     "grade_id": "cell-14",
     "locked": true,
     "points": 4,
     "schema_version": 1,
     "solution": false
    }
   },
   "outputs": [
    {
     "name": "stdout",
     "output_type": "stream",
     "text": [
      "--- preOrderTraverse ---\n",
      "key 12 priority 42\n",
      "key 2 priority 35\n",
      "key 1 priority 17\n",
      "key 11 priority 25\n",
      "key 6 priority 22\n",
      "key 20 priority 30\n",
      "key 13 priority 24\n",
      "key 17 priority 15\n",
      "key 18 priority 14\n",
      "key 24 priority 27\n",
      "--- inOrderTraverse ---\n",
      "key 1 priority 17\n",
      "key 2 priority 35\n",
      "key 6 priority 22\n",
      "key 11 priority 25\n",
      "key 12 priority 42\n",
      "key 13 priority 24\n",
      "key 17 priority 15\n",
      "key 18 priority 14\n",
      "key 20 priority 30\n",
      "key 24 priority 27\n",
      "--- postOrderTraverse ---\n",
      "key 1 priority 17\n",
      "key 6 priority 22\n",
      "key 11 priority 25\n",
      "key 2 priority 35\n",
      "key 18 priority 14\n",
      "key 17 priority 15\n",
      "key 13 priority 24\n",
      "key 24 priority 27\n",
      "key 20 priority 30\n",
      "key 12 priority 42\n",
      "--- preOrderTraverse ---\n",
      "key 2 priority 35\n",
      "key 1 priority 17\n",
      "key 20 priority 30\n",
      "key 11 priority 25\n",
      "key 6 priority 22\n",
      "key 13 priority 24\n",
      "key 17 priority 15\n",
      "key 18 priority 14\n",
      "key 24 priority 27\n",
      "--- inOrderTraverse ---\n",
      "key 1 priority 17\n",
      "key 2 priority 35\n",
      "key 6 priority 22\n",
      "key 11 priority 25\n",
      "key 13 priority 24\n",
      "key 17 priority 15\n",
      "key 18 priority 14\n",
      "key 20 priority 30\n",
      "key 24 priority 27\n",
      "--- postOrderTraverse ---\n",
      "key 1 priority 17\n",
      "key 6 priority 22\n",
      "key 18 priority 14\n",
      "key 17 priority 15\n",
      "key 13 priority 24\n",
      "key 11 priority 25\n",
      "key 24 priority 27\n",
      "key 20 priority 30\n",
      "key 2 priority 35\n"
     ]
    }
   ],
   "source": [
    "random.seed(1)\n",
    "a = RandomTreap()\n",
    "a.insert(1,17) \n",
    "a.insert(6,22)\n",
    "a.insert(17,15)\n",
    "a.insert(11,25)\n",
    "a.insert(18,14)\n",
    "a.insert(2,35)\n",
    "a.insert(24,27)\n",
    "a.insert(13,24)\n",
    "a.insert(12,42)\n",
    "a.insert(20,30)\n",
    "print('--- preOrderTraverse ---')\n",
    "preOrderTraverse(a.root)\n",
    "print('--- inOrderTraverse ---')\n",
    "inOrderTraverse(a.root)\n",
    "print('--- postOrderTraverse ---')\n",
    "postOrderTraverse(a.root)\n",
    "check(a.root)\n",
    "a.remove(12)\n",
    "print('--- preOrderTraverse ---')\n",
    "preOrderTraverse(a.root)\n",
    "print('--- inOrderTraverse ---')\n",
    "inOrderTraverse(a.root)\n",
    "print('--- postOrderTraverse ---')\n",
    "postOrderTraverse(a.root)\n",
    "check(a.root)"
   ]
  },
  {
   "cell_type": "code",
   "execution_count": 42,
   "metadata": {
    "deletable": false,
    "editable": false,
    "nbgrader": {
     "checksum": "49f8513d6dde584a56321e667e596ae7",
     "grade": true,
     "grade_id": "cell-15",
     "locked": true,
     "points": 4,
     "schema_version": 1,
     "solution": false
    }
   },
   "outputs": [
    {
     "name": "stdout",
     "output_type": "stream",
     "text": [
      "--- preOrderTraverse ---\n",
      "key 2 priority 0.8474337369372327\n",
      "key 1 priority 0.651592972722763\n",
      "key 7 priority 0.7887233511355132\n",
      "key 5 priority 0.763774618976614\n",
      "key 4 priority 0.4494910647887381\n",
      "key 3 priority 0.2550690257394217\n",
      "key 6 priority 0.13436424411240122\n",
      "key 8 priority 0.49543508709194095\n",
      "--- inOrderTraverse ---\n",
      "key 1 priority 0.651592972722763\n",
      "key 2 priority 0.8474337369372327\n",
      "key 3 priority 0.2550690257394217\n",
      "key 4 priority 0.4494910647887381\n",
      "key 5 priority 0.763774618976614\n",
      "key 6 priority 0.13436424411240122\n",
      "key 7 priority 0.7887233511355132\n",
      "key 8 priority 0.49543508709194095\n",
      "--- postOrderTraverse ---\n",
      "key 1 priority 0.651592972722763\n",
      "key 3 priority 0.2550690257394217\n",
      "key 4 priority 0.4494910647887381\n",
      "key 6 priority 0.13436424411240122\n",
      "key 5 priority 0.763774618976614\n",
      "key 8 priority 0.49543508709194095\n",
      "key 7 priority 0.7887233511355132\n",
      "key 2 priority 0.8474337369372327\n"
     ]
    }
   ],
   "source": [
    "random.seed(1)\n",
    "a = RandomTreap()\n",
    "a.insert(6) \n",
    "a.insert(2)\n",
    "a.insert(5)\n",
    "a.insert(3)\n",
    "a.insert(8)\n",
    "a.insert(4)\n",
    "a.insert(1)\n",
    "a.insert(7)\n",
    "print('--- preOrderTraverse ---')\n",
    "preOrderTraverse(a.root)\n",
    "print('--- inOrderTraverse ---')\n",
    "inOrderTraverse(a.root)\n",
    "print('--- postOrderTraverse ---')\n",
    "postOrderTraverse(a.root)\n",
    "check(a.root)"
   ]
  },
  {
   "cell_type": "code",
   "execution_count": 43,
   "metadata": {
    "deletable": false,
    "editable": false,
    "nbgrader": {
     "checksum": "088ce9f9c48e5175c1e3d4158c0221a3",
     "grade": true,
     "grade_id": "cell-16",
     "locked": true,
     "points": 2,
     "schema_version": 1,
     "solution": false
    }
   },
   "outputs": [],
   "source": [
    "a.insert(8)\n",
    "a.insert(4)\n",
    "a.insert(1)\n",
    "a.insert(7)\n",
    "assert a.root.key == 2\n",
    "assert a.root.left.key == 1\n",
    "assert a.root.right.key == 7\n",
    "assert a.root.right.left.key == 5\n",
    "assert a.root.right.left.left.key == 4\n",
    "assert a.root.right.left.left.left.key == 3\n",
    "assert a.root.right.left.right.key == 6\n",
    "assert a.root.right.right.key == 8"
   ]
  },
  {
   "cell_type": "code",
   "execution_count": 44,
   "metadata": {
    "deletable": false,
    "editable": false,
    "nbgrader": {
     "checksum": "dd059f40dd01b229eb824c34f82b6834",
     "grade": true,
     "grade_id": "cell-17",
     "locked": true,
     "points": 4,
     "schema_version": 1,
     "solution": false
    }
   },
   "outputs": [
    {
     "name": "stdout",
     "output_type": "stream",
     "text": [
      "--- preOrderTraverse ---\n",
      "key 2 priority 0.8474337369372327\n",
      "key 1 priority 0.0938595867742349\n",
      "key 5 priority 0.763774618976614\n",
      "key 4 priority 0.4494910647887381\n",
      "key 3 priority 0.2550690257394217\n",
      "key 8 priority 0.49543508709194095\n",
      "key 6 priority 0.13436424411240122\n",
      "key 7 priority 0.02834747652200631\n",
      "--- inOrderTraverse ---\n",
      "key 1 priority 0.0938595867742349\n",
      "key 2 priority 0.8474337369372327\n",
      "key 3 priority 0.2550690257394217\n",
      "key 4 priority 0.4494910647887381\n",
      "key 5 priority 0.763774618976614\n",
      "key 6 priority 0.13436424411240122\n",
      "key 7 priority 0.02834747652200631\n",
      "key 8 priority 0.49543508709194095\n",
      "--- postOrderTraverse ---\n",
      "key 1 priority 0.0938595867742349\n",
      "key 3 priority 0.2550690257394217\n",
      "key 4 priority 0.4494910647887381\n",
      "key 7 priority 0.02834747652200631\n",
      "key 6 priority 0.13436424411240122\n",
      "key 8 priority 0.49543508709194095\n",
      "key 5 priority 0.763774618976614\n",
      "key 2 priority 0.8474337369372327\n"
     ]
    }
   ],
   "source": [
    "a.remove(7)\n",
    "check(a.root)\n",
    "a.remove(1)\n",
    "check(a.root)\n",
    "a.insert(1)\n",
    "check(a.root)\n",
    "a.insert(7)\n",
    "check(a.root)\n",
    "print('--- preOrderTraverse ---')\n",
    "preOrderTraverse(a.root)\n",
    "print('--- inOrderTraverse ---')\n",
    "inOrderTraverse(a.root)\n",
    "print('--- postOrderTraverse ---')\n",
    "postOrderTraverse(a.root)"
   ]
  },
  {
   "cell_type": "markdown",
   "metadata": {
    "deletable": false,
    "editable": false,
    "nbgrader": {
     "checksum": "3a944c549dbbd37f74edc5cfa689d4aa",
     "grade": false,
     "grade_id": "cell-18",
     "locked": true,
     "schema_version": 1,
     "solution": false
    }
   },
   "source": [
    "Implementieren Sie  `DynamicTreap` in der folgenden Zelle."
   ]
  },
  {
   "cell_type": "code",
   "execution_count": 45,
   "metadata": {
    "deletable": false,
    "nbgrader": {
     "checksum": "0cc4b28fbf88d176210b2ab81927ac2a",
     "grade": false,
     "grade_id": "cell-19",
     "locked": false,
     "schema_version": 1,
     "solution": true
    }
   },
   "outputs": [],
   "source": [
    "class DynamicTreap:\n",
    "    def __init__(self):\n",
    "        self.root = None\n",
    "\n",
    "    def insert(self, key):\n",
    "        self.root = self._insert_helper(self.root, key)\n",
    "\n",
    "    def _insert_helper(self, node, key):\n",
    "        if node is None:\n",
    "            return Node(key, 1) \n",
    "        else:\n",
    "            if key < node.key:\n",
    "                node.left = self._insert_helper(node.left, key)\n",
    "                if node.left.priority > node.priority:\n",
    "                    node = rotateRight(node)\n",
    "            elif key > node.key:\n",
    "                node.right = self._insert_helper(node.right, key)\n",
    "                if node.right.priority > node.priority:\n",
    "                    node = rotateLeft(node)\n",
    "            else:\n",
    "                node.priority += 1   \n",
    "        return node\n",
    "    \n",
    "    def remove(self, key):\n",
    "        self.root = self._remove_helper(self.root, key)\n",
    "       \n",
    "    def _remove_helper(self, node, key):\n",
    "        if node is None:\n",
    "            raise KeyError(key)\n",
    "\n",
    "        if key == node.key:\n",
    "            if node.left is None and node.right is None:     # case 1: node has no children\n",
    "                return None\n",
    "            \n",
    "            if node.left is None:   # case 2.1: node only has right child\n",
    "                return self._remove_helper(rotateLeft(node), key)\n",
    "            if node.right is None:  # case 2.2: node only has left child\n",
    "                return self._remove_helper(rotateRight(node), key)\n",
    "            \n",
    "            # case 3: node has two children\n",
    "            node.priority = -1000         # negative priority, so the max heap condition will push the node to remove to a leaf\n",
    "            if node.left.priority < node.right.priority:\n",
    "                node = self._remove_helper(rotateLeft(node), key)\n",
    "            else:\n",
    "                node = self._remove_helper(rotateRight(node), key)\n",
    "\n",
    "        elif key < node.key:\n",
    "            node.left = self._remove_helper(node.left, key)\n",
    "                \n",
    "        elif key > node.key:\n",
    "            node.right = self._remove_helper(node.right, key)\n",
    "\n",
    "        return node\n"
   ]
  },
  {
   "cell_type": "code",
   "execution_count": 46,
   "metadata": {
    "deletable": false,
    "nbgrader": {
     "checksum": "d0f78046470a626c0fa2c6b23fd0b455",
     "grade": true,
     "grade_id": "cell-20",
     "locked": true,
     "points": 6,
     "schema_version": 1,
     "solution": false
    }
   },
   "outputs": [
    {
     "name": "stdout",
     "output_type": "stream",
     "text": [
      "--- preOrderTraverse ---\n",
      "key 6 priority 1\n",
      "key 2 priority 1\n",
      "key 1 priority 1\n",
      "key 5 priority 1\n",
      "key 3 priority 1\n",
      "key 4 priority 1\n",
      "key 8 priority 1\n",
      "key 7 priority 1\n",
      "--- inOrderTraverse ---\n",
      "key 1 priority 1\n",
      "key 2 priority 1\n",
      "key 3 priority 1\n",
      "key 4 priority 1\n",
      "key 5 priority 1\n",
      "key 6 priority 1\n",
      "key 7 priority 1\n",
      "key 8 priority 1\n",
      "--- postOrderTraverse ---\n",
      "key 1 priority 1\n",
      "key 4 priority 1\n",
      "key 3 priority 1\n",
      "key 5 priority 1\n",
      "key 2 priority 1\n",
      "key 7 priority 1\n",
      "key 8 priority 1\n",
      "key 6 priority 1\n",
      "--- preOrderTraverse ---\n",
      "key 7 priority 4\n",
      "key 5 priority 3\n",
      "key 4 priority 2\n",
      "key 2 priority 1\n",
      "key 1 priority 1\n",
      "key 3 priority 1\n",
      "key 6 priority 1\n",
      "key 8 priority 1\n",
      "--- inOrderTraverse ---\n",
      "key 1 priority 1\n",
      "key 2 priority 1\n",
      "key 3 priority 1\n",
      "key 4 priority 2\n",
      "key 5 priority 3\n",
      "key 6 priority 1\n",
      "key 7 priority 4\n",
      "key 8 priority 1\n",
      "--- postOrderTraverse ---\n",
      "key 1 priority 1\n",
      "key 3 priority 1\n",
      "key 2 priority 1\n",
      "key 4 priority 2\n",
      "key 6 priority 1\n",
      "key 5 priority 3\n",
      "key 8 priority 1\n",
      "key 7 priority 4\n"
     ]
    }
   ],
   "source": [
    "b = DynamicTreap()\n",
    "b.insert(6) \n",
    "b.insert(2)\n",
    "b.insert(5)\n",
    "b.insert(3)\n",
    "b.insert(8)\n",
    "b.insert(4)\n",
    "b.insert(1)\n",
    "b.insert(7)\n",
    "print('--- preOrderTraverse ---')\n",
    "preOrderTraverse(b.root)\n",
    "print('--- inOrderTraverse ---')\n",
    "inOrderTraverse(b.root)\n",
    "print('--- postOrderTraverse ---')\n",
    "postOrderTraverse(b.root)\n",
    "check(b.root)\n",
    "b.insert(5)\n",
    "b.insert(4)\n",
    "b.insert(7)\n",
    "b.insert(5)\n",
    "b.insert(7)\n",
    "b.insert(7)\n",
    "print('--- preOrderTraverse ---')\n",
    "preOrderTraverse(b.root)\n",
    "print('--- inOrderTraverse ---')\n",
    "inOrderTraverse(b.root)\n",
    "print('--- postOrderTraverse ---')\n",
    "postOrderTraverse(b.root)\n",
    "check(b.root)"
   ]
  },
  {
   "cell_type": "code",
   "execution_count": 47,
   "metadata": {
    "deletable": false,
    "editable": false,
    "nbgrader": {
     "checksum": "b106053bac165d0ac5cae7bd2006d98e",
     "grade": true,
     "grade_id": "cell-21",
     "locked": true,
     "points": 6,
     "schema_version": 1,
     "solution": false
    }
   },
   "outputs": [
    {
     "name": "stdout",
     "output_type": "stream",
     "text": [
      "--- preOrderTraverse ---\n",
      "key 7 priority 4\n",
      "key 4 priority 2\n",
      "key 2 priority 1\n",
      "key 1 priority 1\n",
      "key 3 priority 1\n",
      "key 6 priority 1\n",
      "key 8 priority 1\n",
      "--- inOrderTraverse ---\n",
      "key 1 priority 1\n",
      "key 2 priority 1\n",
      "key 3 priority 1\n",
      "key 4 priority 2\n",
      "key 6 priority 1\n",
      "key 7 priority 4\n",
      "key 8 priority 1\n",
      "--- postOrderTraverse ---\n",
      "key 1 priority 1\n",
      "key 3 priority 1\n",
      "key 2 priority 1\n",
      "key 6 priority 1\n",
      "key 4 priority 2\n",
      "key 8 priority 1\n",
      "key 7 priority 4\n",
      "--- preOrderTraverse ---\n",
      "key 7 priority 4\n",
      "key 4 priority 2\n",
      "key 2 priority 1\n",
      "key 1 priority 1\n",
      "key 3 priority 1\n",
      "key 6 priority 1\n",
      "key 5 priority 1\n",
      "key 8 priority 1\n",
      "--- inOrderTraverse ---\n",
      "key 1 priority 1\n",
      "key 2 priority 1\n",
      "key 3 priority 1\n",
      "key 4 priority 2\n",
      "key 5 priority 1\n",
      "key 6 priority 1\n",
      "key 7 priority 4\n",
      "key 8 priority 1\n",
      "--- postOrderTraverse ---\n",
      "key 1 priority 1\n",
      "key 3 priority 1\n",
      "key 2 priority 1\n",
      "key 5 priority 1\n",
      "key 6 priority 1\n",
      "key 4 priority 2\n",
      "key 8 priority 1\n",
      "key 7 priority 4\n"
     ]
    }
   ],
   "source": [
    "b.remove(5)\n",
    "print('--- preOrderTraverse ---')\n",
    "preOrderTraverse(b.root)\n",
    "print('--- inOrderTraverse ---')\n",
    "inOrderTraverse(b.root)\n",
    "print('--- postOrderTraverse ---')\n",
    "postOrderTraverse(b.root)\n",
    "check(b.root)\n",
    "b.insert(5)\n",
    "print('--- preOrderTraverse ---')\n",
    "preOrderTraverse(b.root)\n",
    "print('--- inOrderTraverse ---')\n",
    "inOrderTraverse(b.root)\n",
    "print('--- postOrderTraverse ---')\n",
    "postOrderTraverse(b.root)\n",
    "check(b.root)"
   ]
  }
 ],
 "metadata": {
  "kernelspec": {
   "display_name": "Python 3",
   "language": "python",
   "name": "python3"
  },
  "language_info": {
   "codemirror_mode": {
    "name": "ipython",
    "version": 3
   },
   "file_extension": ".py",
   "mimetype": "text/x-python",
   "name": "python",
   "nbconvert_exporter": "python",
   "pygments_lexer": "ipython3",
   "version": "3.5.2"
  }
 },
 "nbformat": 4,
 "nbformat_minor": 2
}
