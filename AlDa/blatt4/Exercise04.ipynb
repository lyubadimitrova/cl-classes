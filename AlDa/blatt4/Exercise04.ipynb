{
 "cells": [
  {
   "cell_type": "markdown",
   "metadata": {},
   "source": [
    "Before you turn this problem in, make sure everything runs as expected. First, **restart the kernel** (in the menubar, select Kernel$\\rightarrow$Restart) and then **run all cells** (in the menubar, select Cell$\\rightarrow$Run All).\n",
    "\n",
    "Make sure you fill in any place that says `YOUR CODE HERE` or \"YOUR ANSWER HERE\", as well as your name and collaborators below:"
   ]
  },
  {
   "cell_type": "code",
   "execution_count": null,
   "metadata": {},
   "outputs": [],
   "source": [
    "NAME = \"\"\n",
    "COLLABORATORS = \"\""
   ]
  },
  {
   "cell_type": "markdown",
   "metadata": {},
   "source": [
    "---"
   ]
  },
  {
   "cell_type": "markdown",
   "metadata": {
    "deletable": false,
    "editable": false,
    "nbgrader": {
     "checksum": "12b49052d496ee84543adacc8d397d90",
     "grade": false,
     "grade_id": "cell-4cd04a7bd4f95216",
     "locked": true,
     "schema_version": 1,
     "solution": false
    }
   },
   "source": [
    "# Master Theorem (8⋅2,5 Punkte)\n",
    "Durch den Hauptsatz der Laufzeitfunktionen (Master-Theorem) lässt sich die Funktion $$T(n) = aT\\left(\\frac{n}{b}\\right) + f(n)$$ zur Bestimmung der Laufzeit eines Algorithmus der Größe $n$ abschätzen.\n",
    "\n",
    "Für welche der folgenden Gleichungen ist der Hauptsatz der Laufzeitfunktionen anwendbar? Falls anwendbar, geben Sie die Laufzeit $T\\left(n\\right)$ an, falls nicht den Grund dafür.\n",
    "\n",
    "1.  $T(n) = T(\\frac{n}{2}) + n(2 − \\cos n)$\n",
    "2. $T(n) = 64T(\\frac{n}{8}) − n^2\\log(n)$ \n",
    "3. $T(n) = 2^nT(\\frac{n}{2}) + n^n$\n",
    "4. $T(n) = 0.5T(\\frac{n}{2}) + 1/n$\n",
    "5. $T (n) = 7T (\\frac{n}{3}) + n^2$\n",
    "6. $T (n) = 16T (\\frac{n}{4}) + n!$\n",
    "7. $T(n) = \\sqrt{2} T(\\frac{n}{2}) + \\log n$\n",
    "8. $T (n) = 2T (\\frac{n}{4}) + n^{0.51}$"
   ]
  },
  {
   "cell_type": "markdown",
   "metadata": {
    "deletable": false,
    "nbgrader": {
     "checksum": "bfe0e6a8f590150a9d9d00ab57be215d",
     "grade": true,
     "grade_id": "cell-650e1da811f4939b",
     "locked": false,
     "points": 20,
     "schema_version": 1,
     "solution": true
    }
   },
   "source": [
    "Für das Master-Theorem gilt: \n",
    " -  $a \\geq 1$, konstant\n",
    " -  $b \\geq 1$, konstant\n",
    " -  $f(n)$ positiv\n",
    " \n",
    "1. Das Master-Theorem ist auf die Funktion nicht anwendbar. <br>\n",
    "    $a = 1,\\ b = 2,\\ \\log_ba=\\log_21=0,\\ f(n)=n(2-\\cos n) \\in \\Theta(n)$ \n",
    "    \n",
    " >   Fall 1. $f(n)=n(2-\\cos n) \\in O(n^{0-\\varepsilon}),\\ \\varepsilon>0\\quad \\rightarrow Widerspruch$ <br>\n",
    "    Fall 2. $f(n)=n(2-\\cos n) \\in \\Theta(n^{0}) = \\Theta(1)\\quad \\rightarrow Widerspruch$ <br>\n",
    "    Fall 3. $f(n)=n(2-\\cos n) \\in \\Omega(n^{0+\\varepsilon}),\\ \\varepsilon>0\\quad bei\\quad \\varepsilon=1 \\rightarrow o.k.$ <br> $\\ \\quad \\quad \\forall n>n_0: a f(\\frac{n}{b}) \\leq c f(n),\\quad 0<c<1$ <br>\n",
    "    $\\ \\quad \\quad \\forall n>n_0: \\frac{n}{2}(2-\\cos \\frac{n}{2}) \\leq c\\cdot n(2-\\cos n),\\quad 0<c<1$ <br>\n",
    "    \n",
    " Für $n=2\\pi$ lässt sicht zeigen:\n",
    " > $\\frac{2\\pi}{2}(2+\\cos\\frac{2\\pi}{2}) \\leq c\\cdot 2\\pi(2-\\cos 2\\pi)$\n",
    "   $ \\Rightarrow c >= \\frac{3}{2}$\n",
    "  \n",
    " Da die Kosinus-Funktion periodisch ist, gilt das für alle $n=2k\\pi$, wo $k$ eine ungerade Zahl ist.\n",
    " Daher gibt es kein $n_0$, sodass die zweite Bedingung für alle $n>n_0$ erfüllt ist.\n",
    "\n",
    "2. Das Master-Theorem ist auf die Funktion nicht anwendbar, weil $f(n)= -n^2\\log n$ negativ ist. <br>\n",
    "3. Das Master-Theorem ist auf die Funktion nicht anwendbar, weil $a= 2^n$ nicht konstant ist. <br>\n",
    "4. Das Master-Theorem ist auf die Funktion nicht anwendbar, weil $a= 0.5 \\lt 1$.<br>\n",
    "5. $T(n)\\in \\Theta(n^2)$ (Fall 3.)\n",
    "6. $T(n)\\in \\Theta(n!)$ (Fall 3.)\n",
    "6. $T(n)\\in \\Theta(\\sqrt{n})$ (Fall 1.)\n",
    "6. $T(n)\\in \\Theta(n^{0.51})$ (Fall 3.)"
   ]
  },
  {
   "cell_type": "markdown",
   "metadata": {
    "deletable": false,
    "editable": false,
    "nbgrader": {
     "checksum": "55cfa0f032f99903deb568e4b729c38b",
     "grade": false,
     "grade_id": "cell-4cd04a7bd4f95217",
     "locked": true,
     "schema_version": 1,
     "solution": false
    }
   },
   "source": [
    "# O-Notation\n",
    "\n",
    "## Laufzeiten und asymptotische Komplexitäten ((3 + 3 + 2)Punkte)\n",
    "       \n",
    "Gegeben seien drei Algorithmen mit den Laufzeiten\n",
    "        \n",
    "1. $T_1(n) = N^2 + N + 10$\n",
    "2. $T_2(n) = 15 N \\log N$\n",
    "3. $T_3(n) = 2^N$\n",
    "\n",
    "Geben Sie für jeden Algorithmus $T_i$ das Intervall für N ($N > 1$) an, in dem der Algorithmus am schnellsten abläuft.\n",
    "\n",
    "Beispiel: Wäre die schnellste Laufzeit von $T_i$ im Bereich $1.2 < N < 6.5$ lautete die Antwort $\\left[2,6\\right]$\n",
    "\n",
    "Bestimmen Sie außerdem die asymptotische Komplexität der Algorithmen und die daraus folgende Ordnung."
   ]
  },
  {
   "cell_type": "markdown",
   "metadata": {
    "deletable": false,
    "nbgrader": {
     "checksum": "3fb7112ce35072c05b74d7d7c78dd81e",
     "grade": true,
     "grade_id": "cell-85741b722e336957",
     "locked": false,
     "points": 8,
     "schema_version": 1,
     "solution": true
    }
   },
   "source": [
    "Graph: https://www.desmos.com/calculator/9v2thjtnfy\n",
    "\n",
    "$T_1: [6,\\infinity)$ <br>\n",
    "$T_2: [0,1]$ <br>\n",
    "$T_3: [2,5]$ <br>\n",
    "\n",
    "$T_1 \\in O(N^2)$ <br>\n",
    "$T_2 \\in O(N\\log N)$ <br>\n",
    "$T_3 \\in O(2^n)$ <br>\n",
    "\n",
    " - Vergleich $T_1$ mit $T_2$:\n",
    "     \n",
    "   $lim$\n",
    "\n"
   ]
  },
  {
   "cell_type": "markdown",
   "metadata": {
    "deletable": false,
    "editable": false,
    "nbgrader": {
     "checksum": "4339c56b1abd16925f86bbf057a2adf4",
     "grade": false,
     "grade_id": "cell-18f3551ae6d06328",
     "locked": true,
     "schema_version": 1,
     "solution": false
    }
   },
   "source": [
    "## Laufzeiten von Algorithmen in O-Notation (4⋅3 Punkte)\n",
    "\n",
    "Per Definition der O-Notation ist die Laufzeit von $a_1(n)$, $O(f(n))$, falls $a_1(n) <= cf(n)$ für ein $n>=n_0$.\n",
    "\n",
    "Zeigen Sie, dass die unten Angaben wahr sind und geben Sie ein $n_0$ und $c$ an für das diese Annahme wahr ist.\n",
    "\n",
    "Beispiel: Laufzeit $n^3 + 20n + 1$ ist O(n^3) für $n_0 = 10$ und $c = 1.201$\n",
    "\n",
    "1. Running time of $a_1(n) = n^2 + 16n + 1$ is $O(n^3)$\n",
    "2. Running time of $a_2(n) = n^2 + 16n + 1$ is $O(n^2)$\n",
    "3. Running time of $a_3(n) = n^2 + 16n + 1$ is not $O(n)$\n",
    "4. Running time of $a_4(n) = n^2 + 16n + 20$ is $\\Omega(n)$"
   ]
  },
  {
   "cell_type": "markdown",
   "metadata": {
    "deletable": false,
    "nbgrader": {
     "checksum": "9dd5e48ff6656b7f1dd07a97f7852770",
     "grade": true,
     "grade_id": "cell-71f4781e93c730f3",
     "locked": false,
     "points": 12,
     "schema_version": 1,
     "solution": true
    }
   },
   "source": [
    "YOUR ANSWER HERE"
   ]
  }
 ],
 "metadata": {
  "kernelspec": {
   "display_name": "Python 3",
   "language": "python",
   "name": "python3"
  },
  "language_info": {
   "codemirror_mode": {
    "name": "ipython",
    "version": 3
   },
   "file_extension": ".py",
   "mimetype": "text/x-python",
   "name": "python",
   "nbconvert_exporter": "python",
   "pygments_lexer": "ipython3",
   "version": "3.7.7"
  }
 },
 "nbformat": 4,
 "nbformat_minor": 2
}
