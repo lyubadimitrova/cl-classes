{
 "cells": [
  {
   "cell_type": "markdown",
   "metadata": {},
   "source": [
    "Before you turn this problem in, make sure everything runs as expected. First, **restart the kernel** (in the menubar, select Kernel$\\rightarrow$Restart) and then **run all cells** (in the menubar, select Cell$\\rightarrow$Run All).\n",
    "\n",
    "Make sure you fill in any place that says `YOUR CODE HERE` or \"YOUR ANSWER HERE\", as well as your name and collaborators below:"
   ]
  },
  {
   "cell_type": "code",
   "execution_count": null,
   "metadata": {
    "collapsed": true
   },
   "outputs": [],
   "source": [
    "NAME = \"Marco Rettig\"\n",
    "COLLABORATORS = \"Nico Lorenz\""
   ]
  },
  {
   "cell_type": "markdown",
   "metadata": {},
   "source": [
    "---"
   ]
  },
  {
   "cell_type": "markdown",
   "metadata": {
    "deletable": false,
    "editable": false,
    "nbgrader": {
     "checksum": "12b49052d496ee84543adacc8d397d90",
     "grade": false,
     "grade_id": "cell-4cd04a7bd4f95216",
     "locked": true,
     "schema_version": 1,
     "solution": false
    }
   },
   "source": [
    "# Master Theorem (8⋅2,5 Punkte)\n",
    "Durch den Hauptsatz der Laufzeitfunktionen (Master-Theorem) lässt sich die Funktion $$T(n) = aT\\left(\\frac{n}{b}\\right) + f(n)$$ zur Bestimmung der Laufzeit eines Algorithmus der Größe $n$ abschätzen.\n",
    "\n",
    "Für welche der folgenden Gleichungen ist der Hauptsatz der Laufzeitfunktionen anwendbar? Falls anwendbar, geben Sie die Laufzeit $T\\left(n\\right)$ an, falls nicht den Grund dafür.\n",
    "\n",
    "1.  $T(n) = T(\\frac{n}{2}) + n(2 − \\cos n)$\n",
    "2. $T(n) = 64T(\\frac{n}{8}) − n^2\\log(n)$ \n",
    "3. $T(n) = 2^nT(\\frac{n}{2}) + n^n$\n",
    "4. $T(n) = 0.5T(\\frac{n}{2}) + 1/n$\n",
    "5. $T (n) = 7T (\\frac{n}{3}) + n^2$\n",
    "6. $T (n) = 16T (\\frac{n}{4}) + n!$\n",
    "7. $T(n) = \\sqrt{2} T(\\frac{n}{2}) + \\log n$\n",
    "8. $T (n) = 2T (\\frac{n}{4}) + n^{0.51}$"
   ]
  },
  {
   "cell_type": "markdown",
   "metadata": {
    "deletable": false,
    "nbgrader": {
     "checksum": "bfe0e6a8f590150a9d9d00ab57be215d",
     "grade": true,
     "grade_id": "cell-650e1da811f4939b",
     "locked": false,
     "points": 20,
     "schema_version": 1,
     "solution": true
    }
   },
   "source": [
    "Um das Master-Theorem anwenden zu können, müssen immer folgende Voraussetzungen erfüllt sein: \n",
    "\n",
    "1. a und b müssen Konstanten sein, wobei  $a\\geq1$ und $b>1$ gelten muss.\n",
    "\n",
    "2. Die Funktion $f(n)$ darf nicht negativ sein.\n",
    "\n",
    "Zusätzlich muss einer der folgenden 3 Fälle gelten:\n",
    "\n",
    "1.  $f(n) \\in O(n^{log_{b}a-\\epsilon}) $ für ein $\\epsilon > 0$\n",
    "\n",
    "2.  $f(n) \\in \\Theta(n^{log_{b}a})$\n",
    "\n",
    "3.  $f(n) \\in \\Omega(n^{log_{b}a+\\epsilon})$ für ein $\\epsilon > 0$ und weiterhin muss für ein $c$ mit $0<c<1$ und alle hinreichend großen $n$ gelten: $af(\\frac{n}{b})\\le cf(n)$\n",
    "\n",
    "Gilt Fall 1, dann erhalten wir für die Laufzeit:\n",
    "$T(n) \\in \\Theta(n^{log_{b}a})$\n",
    "\n",
    "Gilt Fall 2, dann erhalten wir: \n",
    "$T(n) \\in \\Theta(n^{log_{b}a}log(n))$\n",
    "\n",
    "Gilt Fall 3, dann erhalten wir:\n",
    "$T(n) \\in \\Theta(f(n))$\n",
    "\n",
    "Falls keiner dieser 3 Fälle gilt, kann das Master-Theorem nicht angewendet werden.\n",
    "\n",
    "Mit diesem Wissen können wir nun die Aufgaben bearbeiten:\n",
    "\n",
    "1. $a=1, \\;b=2  \\\\f(n)=n(2-cos(n)) \\Rightarrow  n\\le f(n) \\le 3n \\Rightarrow f(n) \\in O(n)$ \n",
    "\n",
    "   Fall 1 nicht erfüllt, denn: $O(n^{log_{b}a-\\epsilon}) = O(n^{log_{2}1-\\epsilon}) = O(n^{0-\\epsilon}) \\stackrel{!}{=} O(n)\n",
    "   \\; \\Rightarrow \\epsilon \\stackrel{!}{=} -1 < 0$.\n",
    "   \n",
    "   Fall 2 nicht erfüllt, denn: $\\Theta(n^{log_{b}a}) = \\Theta(n^{log_{2}1}) = \\Theta(n^0) = \\Theta(1)$, aber $f(n) \\in \\Theta(n)$.\n",
    "   \n",
    "   Fall 3 nicht erfüllt, denn: Zwar erhalten wir $\\epsilon = 1 >0$, allerdings erhalten wir für die 2. Bedingung:\n",
    "   $af(\\frac{n}{b}) = f(\\frac{n}{2}) = \\frac{n}{2}(2-cos(\\frac{n}{2})) \\stackrel{!}{\\le} cn(2-cos(n)) \\; \\Rightarrow \\frac{2-cos(\\frac{n}{2})}{2(2-cos(n))} \\stackrel{!}{\\le} c $. Mit der Beziehung $cos(2x) = 2cos^2(x)-1$ erhalten wir: $\\frac{2-cos(\\frac{n}{2})}{6-4cos^2(\\frac{n}{2})} \\stackrel{!}{\\le} c$. Der maximale Wert dieses Ausdrucks ist $\\frac{3}{2} \\; \\Rightarrow \\frac{3}{2} \\stackrel{!}{\\le} c$, was im Widerspruch zur Bedingung $0<c<1$ steht.\n",
    "   \n",
    "   $\\textbf{Folglich ist das Master-Theorem für die 1. Gleichung NICHT ANWENDBAR.}$\n",
    "      \n",
    "2. $a=64, \\;b=8  \\\\f(n)=-n^2log(n) < 0 \\; \\Rightarrow \\textbf{Master-Theorem NICHT ANWENDBAR.}$\n",
    "\n",
    "3. $a=2^n \\neq const.\\; \\Rightarrow \\textbf{Master-Theorem NICHT ANWENDBAR.}$\n",
    "\n",
    "4. $a=0,5 < 1 \\; \\Rightarrow \\textbf{Master-Theorem NICHT ANWENDBAR.}$\n",
    "\n",
    "5. $a=7, \\;b=3  \\\\f(n)=n^2 \\in O(n^2) $\n",
    "\n",
    "    Fall 1 nicht erfüllt, denn: $O(n^{log_{b}a-\\epsilon}) = O(n^{log_{3}7-\\epsilon}) = O(n^{1,77-\\epsilon}) \\stackrel{!}{=} O(n^2) \\; \\Rightarrow \\epsilon \\stackrel{!}{=} -0,23 < 0$.\n",
    "    \n",
    "    Fall 2 nicht erfüllt, denn: $\\Theta(n^{log_{b}a}) = \\Theta(n^{log_{3}7}) = \\Theta(n^{1,77})$, aber $f(n) \\in \\Theta(n^2)$.\n",
    "    \n",
    "    Fall 3 erfüllt, denn: Wir erhalten $\\epsilon = 0,23 >0$ und $af(\\frac{n}{b}) = 7f(\\frac{n}{3}) = 7\\frac{n^2}{9} = \\frac{7}{9}n^2  \\stackrel{!}{\\le} cn^2 \\; \\Rightarrow \\frac{7}{9} \\stackrel{!}{\\le} c $, womit die Bedingung $0<c<1$ erfüllt ist.  \n",
    "    \n",
    "    $\\textbf{Folglich ist das Master-Theorem für die 5. Gleichung ANWENDBAR.}$\n",
    "    Wir erhalten: $T(n) \\in \\Theta(n^2) $\n",
    "    \n",
    "6. $a=16, \\;b=4  \\\\f(n)=n! \\in O(n^{n-1}) $\n",
    "\n",
    "    Fall 1 nicht erfüllt, denn: $O(n^{log_{b}a-\\epsilon}) = O(n^{log_{4}16-\\epsilon}) = O(n^{2-\\epsilon}) \\stackrel{!}{=} O(n^{n-1}) \\; \\Rightarrow \\epsilon \\stackrel{!}{=} 3-n < 0$ für $n>3$.\n",
    "    \n",
    "    Fall 2 nicht erfüllt, denn: $\\Theta(n^{log_{b}a}) = \\Theta(n^{log_{4}16}) = \\Theta(n^{2}) \\stackrel{!}{=} \\Theta(n^{n-1}) \\; \\Rightarrow 2 \\stackrel{!}{=} n-1 \\; \\Rightarrow$ Widerspruch für $ n \\neq 3$.\n",
    "    \n",
    "    Fall 3 erfüllt, denn: Wir erhalten $\\epsilon \\stackrel{!}{=} n-3 >0$ für $n>3$ und $af(\\frac{n}{b}) = 16f(\\frac{n}{4}) = 16(\\frac{n}{4})! \\stackrel{!}{\\le} cn! \\; \\Rightarrow $ Bedingung $0<c<1$ ist ab hinreichend großem n erfüllt.  \n",
    "    \n",
    "    $\\textbf{Folglich ist das Master-Theorem für die 6. Gleichung ANWENDBAR.}$\n",
    "    Wir erhalten: $T(n) \\in \\Theta(n!) $\n",
    "    \n",
    "7. $a=\\sqrt{2}, \\;b=2  \\\\f(n)=log(n) \\in O(log(n)) $\n",
    "\n",
    "    Fall 1 erfüllt, denn: $O(n^{log_{b}a-\\epsilon}) = O(n^{log_{2}\\sqrt{2}-\\epsilon}) = O(n^{0,5-\\epsilon}) \\stackrel{!}{=} O(log(n)) $. Da die Funktion $n^{0,5-\\epsilon}$ für ein kleines $\\epsilon > 0$ eine Majorante von $f(n)=log(n)$ ist, ist die Bedingung erfüllt. \n",
    "    \n",
    "    $\\textbf{Folglich ist das Master-Theorem für die 7. Gleichung ANWENDBAR.}$\n",
    "    Wir erhalten: $T(n) \\in \\Theta(\\sqrt{n}) $\n",
    "    \n",
    "8. $a=2, \\;b=4  \\\\f(n)=n^{0,51} \\in O(n^{0,51}) $\n",
    "\n",
    "    Fall 1 nicht erfüllt, denn: $O(n^{log_{b}a-\\epsilon}) = O(n^{log_{4}2-\\epsilon}) = O(n^{0,5-\\epsilon}) \\stackrel{!}{=} O(n^{0,51}) \\; \\Rightarrow \\epsilon \\stackrel{!}{=} 0,5 -0,51 < 0$.\n",
    "    \n",
    "    Fall 2 nicht erfüllt, denn: $\\Theta(n^{log_{b}a}) = \\Theta(n^{log_{4}2}) = \\Theta(n^{0,5}) \\stackrel{!}{=} \\Theta(n^{0,51}) \\; \\Rightarrow 0,5 \\stackrel{!}{=} 0,51 \\; \\Rightarrow Widerspruch  $.\n",
    "    \n",
    "    Fall 3 erfüllt, denn: Wir erhalten $\\epsilon \\stackrel{!}{=} 0,01 >0$ und $af(\\frac{n}{b}) = 2f(\\frac{n}{4}) = 2(\\frac{n}{4})^{0,51} = \\frac{2}{4^{0,51}}n^{0,51} \\stackrel{!}{\\le} cn^{0,51} \\; \\Rightarrow 0,986 \\stackrel{!}{\\le} c $, womit die Bedingung $0<c<1$ erfüllt ist.\n",
    "    \n",
    "    $\\textbf{Folglich ist das Master-Theorem für die 8. Gleichung ANWENDBAR.}$\n",
    "    Wir erhalten: $T(n) \\in \\Theta(n^{0,51}) $\n",
    "    \n",
    "   \n",
    "   \n",
    "   "
   ]
  },
  {
   "cell_type": "markdown",
   "metadata": {
    "deletable": false,
    "editable": false,
    "nbgrader": {
     "checksum": "55cfa0f032f99903deb568e4b729c38b",
     "grade": false,
     "grade_id": "cell-4cd04a7bd4f95217",
     "locked": true,
     "schema_version": 1,
     "solution": false
    }
   },
   "source": [
    "# O-Notation\n",
    "\n",
    "## Laufzeiten und asymptotische Komplexitäten ((3 + 3 + 2)Punkte)\n",
    "       \n",
    "Gegeben seien drei Algorithmen mit den Laufzeiten\n",
    "        \n",
    "1. $T_1(n) = N^2 + N + 10$\n",
    "2. $T_2(n) = 15 N \\log N$\n",
    "3. $T_3(n) = 2^N$\n",
    "\n",
    "Geben Sie für jeden Algorithmus $T_i$ das Intervall für N ($N > 1$) an, in dem der Algorithmus am schnellsten abläuft.\n",
    "\n",
    "Beispiel: Wäre die schnellste Laufzeit von $T_i$ im Bereich $1.2 < N < 6.5$ lautete die Antwort $\\left[2,6\\right]$\n",
    "\n",
    "Bestimmen Sie außerdem die asymptotische Komplexität der Algorithmen und die daraus folgende Ordnung."
   ]
  },
  {
   "cell_type": "markdown",
   "metadata": {
    "deletable": false,
    "nbgrader": {
     "checksum": "3fb7112ce35072c05b74d7d7c78dd81e",
     "grade": true,
     "grade_id": "cell-85741b722e336957",
     "locked": false,
     "points": 8,
     "schema_version": 1,
     "solution": true
    }
   },
   "source": [
    "Gleichsetzen und Schnittpunkte bestimmen : \n",
    "$$\n",
    "a)       T_{1} = T_{2}: \\\\\n",
    "N^{2} + N + 10 = 15 N ln(N)\\\\\n",
    "\\Rightarrow  0 = N^{2} + N + 10 - 15 N ln(N) \\\\\n",
    "\\Rightarrow (Wolfram alpha) N_{1} = 1,76  ; N_{2} = 60,33      \\\\\n",
    "\\Rightarrow  \\forall N \\in [1,76;60,33] : T_{2} > T_{1}\\\\\n",
    "\\\\\n",
    "\\\\\n",
    "T_{2} = T_{3}:\\\\\n",
    "15 N ln(N) = 2^{N}\\\\\n",
    "\\Rightarrow 15 N ln(N) - 2^{N} = 0 \\\\\n",
    "\\Rightarrow(Wolfram alpha) N_{1} = 1,14   ;  N_{2} = 7,95 \\\\\n",
    "\\Rightarrow \\forall N \\in [1,14 ; 7,95] : T_{2} > T_{3}\\\\\n",
    "\\\\\n",
    "\\\\\n",
    "T_{1} = T{3}\\\\\n",
    "2^{N} = N^{2} + N + 10 \\\\\n",
    "\\Rightarrow (Wolfram alpha) N = 5,52 \\\\\n",
    "\\Rightarrow \\forall N > 5,52 : T_{3} > T_{1}       \n",
    "$$\n",
    "Es folgt daher die Anordnung:\n",
    "$$\n",
    "N>1     : T_{1}>T_{3}>T_{2}\\\\\n",
    "N>1,14  : T_{1}>T_{2}>T_{3}\\\\\n",
    "N>1,76  : T_{2}>T_{1}>T_{3}\\\\\n",
    "N>5,52  : T_{2}>T_{3}>T_{1}\\\\\n",
    "N>7,95  : T_{3}>T_{2}>T_{1}\\\\\n",
    "N>60,33 : T_{3}>T_{1}>T_{2}\\\\\n",
    "$$\n",
    "\n",
    "\n",
    "\n",
    "\n",
    "\n",
    "\n",
    "$$\n",
    "b) \\\\ Abschätzungen:\\\\\n",
    "T_{1}= \\mathcal{O}(n^{2})\\\\\n",
    "T_{2}= \\mathcal{O}(n ln(n))\\\\\n",
    "T_{3}= \\mathcal{O}(2^{n})\n",
    "$$\n",
    "\n",
    "$$\n",
    "c)\\\\\n",
    "Grenzwerte im Unendlichen:\\\\\n",
    "lim_{N \\to \\infty}  \\frac{T_{1}}{T_{2}}  \\\\\n",
    "lim_{N \\to \\infty}  \\frac{N^{2}}{N ln(N)}\\\\\n",
    "lim_{N \\to \\infty}  \\frac{n}{ln(N)}\\\\\n",
    "(L.H.) lim_{N \\to \\infty}  n \\\\\n",
    "= 0\\\\\n",
    "\\Rightarrow T_{1}>T_{2}\\\\\n",
    "\\\\\n",
    "lim_{N \\to \\infty} \\frac{T_{1}}{T_{3}}\\\\\n",
    "lim_{N \\to \\infty} \\frac{n^{2}}{2^{n}}\\\\\n",
    "(2 x L.H.) lim_{N \\to \\infty} \\frac{2}{ln(2)^{2}e^{ln(2) n }}\n",
    "=0\\\\\n",
    "\\Rightarrow T_{3}>T_{1}\\\\\n",
    "\\Rightarrow T_{3}>T_{1}>T_{2}\\\\\n",
    "$$"
   ]
  },
  {
   "cell_type": "markdown",
   "metadata": {
    "deletable": false,
    "editable": false,
    "nbgrader": {
     "checksum": "4339c56b1abd16925f86bbf057a2adf4",
     "grade": false,
     "grade_id": "cell-18f3551ae6d06328",
     "locked": true,
     "schema_version": 1,
     "solution": false
    }
   },
   "source": [
    "## Laufzeiten von Algorithmen in O-Notation (4⋅3 Punkte)\n",
    "\n",
    "Per Definition der O-Notation ist die Laufzeit von $a_1(n)$, $O(f(n))$, falls $a_1(n) <= cf(n)$ für ein $n>=n_0$.\n",
    "\n",
    "Zeigen Sie, dass die unten Angaben wahr sind und geben Sie ein $n_0$ und $c$ an für das diese Annahme wahr ist.\n",
    "\n",
    "Beispiel: Laufzeit $n^3 + 20n + 1$ ist O(n^3) für $n_0 = 10$ und $c = 1.201$\n",
    "\n",
    "1. Running time of $a_1(n) = n^2 + 16n + 1$ is $O(n^3)$\n",
    "2. Running time of $a_2(n) = n^2 + 16n + 1$ is $O(n^2)$\n",
    "3. Running time of $a_3(n) = n^2 + 16n + 1$ is not $O(n)$\n",
    "4. Running time of $a_4(n) = n^2 + 16n + 20$ is $\\Omega(n)$"
   ]
  },
  {
   "cell_type": "markdown",
   "metadata": {
    "deletable": false,
    "nbgrader": {
     "checksum": "9dd5e48ff6656b7f1dd07a97f7852770",
     "grade": true,
     "grade_id": "cell-71f4781e93c730f3",
     "locked": false,
     "points": 12,
     "schema_version": 1,
     "solution": true
    }
   },
   "source": [
    "$$ \n",
    "a_{1}(n)  \\in \\mathcal{O}(n^{3}):\\\\\n",
    "lim_{N \\to \\infty} \\frac{n^{3}}{n^2 + 16n + 1}\\\\\n",
    "(2 x L.H.) lim_{N \\to \\infty} \\frac{6n}{2}\n",
    "= \\infty \\\\\n",
    "\\\\\n",
    "n^{2}+ 16 n + 1 - n^{3}=0\\\\\n",
    "\\Rightarrow \\forall n >n_{0} = 5  | a_{1} <= c ( = 1,8) * n^{3}\\\\\n",
    "$$\n",
    "\n",
    "$$\n",
    "a_{2}(n) \\in \\mathcal{O}(n^{2}) \\\\\n",
    "lim_{N \\to \\infty} \\frac{n^{2}}{n^2 + 16n + 1}\\\\\n",
    "(2 x L.H.) lim_{N \\to \\infty} \\frac{2}{2} =1 > 0\\\\\n",
    "\\\\\n",
    "n^{2} + 16 n +1 - n^{2} = 0 \\\\\n",
    "\\Rightarrow \\forall n > n_{0} = 2 | a_{2} <= c ( = 16 ) * n^{2}\\\\\n",
    "\\\\\n",
    "$$\n",
    "\n",
    "\n",
    "$$ a_{3}(n) \\notin \\mathcal{O}(n):\\\\\n",
    "lim_{N \\to \\infty} \\frac{n}{n^{2} + 16n +1}\\\\\n",
    "(L.H.) lim_{N \\to \\infty} \\frac{1}{2n + 16} = 0 \\\\\n",
    "\\\\\n",
    "$$\n",
    "\n",
    "$$\n",
    "a_{4}(n) \\in \\Omega(n):\\\\\n",
    "lim_{N \\to \\infty} \\frac{n}{n^{2} + 16 n + 20 }\\\\\n",
    "(L.H.) lim_{N \\to \\infty} \\frac{1}{2 n + 16} = 0 \\\\\n",
    "\\\\\n",
    "n^{2} + 16 n + 20 - n = 0 \\\\\n",
    "\\Rightarrow \\forall n > n_{0} = 1 | a_{4} <= c ( = 2 ) * n\\\\\n",
    "\\\\\n",
    "$$"
   ]
  }
 ],
 "metadata": {
  "kernelspec": {
   "display_name": "Python 3",
   "language": "python",
   "name": "python3"
  },
  "language_info": {
   "codemirror_mode": {
    "name": "ipython",
    "version": 3
   },
   "file_extension": ".py",
   "mimetype": "text/x-python",
   "name": "python",
   "nbconvert_exporter": "python",
   "pygments_lexer": "ipython3",
   "version": "3.5.2"
  }
 },
 "nbformat": 4,
 "nbformat_minor": 2
}
