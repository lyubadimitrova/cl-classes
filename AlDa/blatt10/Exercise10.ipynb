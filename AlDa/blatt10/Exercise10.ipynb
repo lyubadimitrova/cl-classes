{
 "cells": [
  {
   "cell_type": "markdown",
   "metadata": {},
   "source": [
    "Before you turn this problem in, make sure everything runs as expected. First, **restart the kernel** (in the menubar, select Kernel$\\rightarrow$Restart) and then **run all cells** (in the menubar, select Cell$\\rightarrow$Run All).\n",
    "\n",
    "Make sure you fill in any place that says `YOUR CODE HERE` or \"YOUR ANSWER HERE\", as well as your name and collaborators below:"
   ]
  },
  {
   "cell_type": "code",
   "execution_count": 1,
   "metadata": {},
   "outputs": [],
   "source": [
    "NAME = \"Lyubomira Dimitrova\"\n",
    "COLLABORATORS = \"Maryna Charniuk, Dung Nguyen(SPANKUS)\""
   ]
  },
  {
   "cell_type": "markdown",
   "metadata": {},
   "source": [
    "---"
   ]
  },
  {
   "cell_type": "markdown",
   "metadata": {
    "deletable": false,
    "editable": false,
    "nbgrader": {
     "checksum": "2a05e73897c7d42942e784c8a5d82214",
     "grade": false,
     "grade_id": "cell-467d5e0a108666ae",
     "locked": true,
     "schema_version": 1,
     "solution": false
    }
   },
   "source": [
    "# Bellman-Ford\n",
    "## Implementierung (15 Pkt.)\n",
    "Implementieren Sie den Bellman-Ford Algorithmus, berechnen Sie für den gegebenen Graphen die Distanzmatrix.\n",
    "\n",
    "![Graph](graph.svg)\n",
    "\n",
    "Hinweis: Benutzen sie für Unendlich `inf` aus dem Paket `math`"
   ]
  },
  {
   "cell_type": "code",
   "execution_count": 2,
   "metadata": {
    "deletable": false,
    "nbgrader": {
     "checksum": "2574bd35abd76e8415d68099b0fe0a22",
     "grade": false,
     "grade_id": "cell-7e09d49eb88dfeb7",
     "locked": false,
     "schema_version": 1,
     "solution": true
    }
   },
   "outputs": [],
   "source": [
    "from math import inf\n",
    "\n",
    "# Adjacencylist\n",
    "G = [[0,1,6],[0,2,5],[0,3,5],[3,2,-2],[2,1,-2],[1,4,-1],[2,4,1],[3,5,-1],[5,6,3],[4,6,3]];\n",
    "V = {i[0] for i in G}.union({i[1] for i in G})\n",
    "n = len(V)\n",
    "\n",
    "def DistanceMatrix(graph):\n",
    "    \"\"\" Call Bellman-Ford n times.\n",
    "    \n",
    "    Returns: the distances matrix of graph\n",
    "    \"\"\"\n",
    "    all_distances = []\n",
    "    for node in V:\n",
    "        all_distances.append(BellmanFord(node, graph))\n",
    "        \n",
    "    return all_distances\n",
    "\n",
    "\n",
    "def BellmanFord(s, graph):\n",
    "    \"\"\" Computes the shortest distance from s to every other node.\n",
    "    \n",
    "    Return: A list of distances.\n",
    "    \"\"\"\n",
    "    \n",
    "    distances = [inf] * n     # all paths set to infinity, except (s, s)\n",
    "    distances[s] = 0\n",
    "    \n",
    "    for i in range(1, n-1):\n",
    "        for edge in graph:          # wird n-1 Mal ausgeführt\n",
    "            if distances[edge[0]] + edge[2] < distances[edge[1]]:\n",
    "                distances[edge[1]] = distances[edge[0]] + edge[2]\n",
    "               \n",
    "    for edge in graph:      # wird 1 Mal ausgeführt\n",
    "        if distances[edge[0]] + edge[2] < distances[edge[1]]:\n",
    "            raise ValueError(\"Es gibt einen Zyklus negativen Gewichtes.\") \n",
    "                \n",
    "    return distances\n",
    "\n",
    "#print(DistanceMatrix(G))"
   ]
  },
  {
   "cell_type": "code",
   "execution_count": 3,
   "metadata": {
    "deletable": false,
    "editable": false,
    "nbgrader": {
     "checksum": "d98d9c30f6b2de58a1cc3ca755336300",
     "grade": true,
     "grade_id": "cell-72a87cdf561fc897",
     "locked": true,
     "points": 15,
     "schema_version": 1,
     "solution": false
    }
   },
   "outputs": [],
   "source": [
    "G = [[0,1,6],[0,2,5],[0,3,5],[3,2,-2],[2,1,-2],[1,4,-1],[2,4,1],[3,5,-1],[5,6,3],[4,6,3]];\n",
    "assert BellmanFord(0, G) == [0, 1, 3, 5, 0, 4, 3]"
   ]
  },
  {
   "cell_type": "markdown",
   "metadata": {
    "deletable": false,
    "editable": false,
    "nbgrader": {
     "checksum": "79049517dd9a24acc6d9ffc816f966d1",
     "grade": false,
     "grade_id": "cell-23a7292c67455a4c",
     "locked": true,
     "schema_version": 1,
     "solution": false
    }
   },
   "source": [
    "## Negative Kreise (10 Pkt.)\n",
    "Modifizieren Sie den soeben implementierten Algorithmus so, dass negative Kreise erkannt werden und in diesem Fall eine Ausnahme mit entsprechender Nachricht erzeugt wird (`ValueError`)."
   ]
  },
  {
   "cell_type": "code",
   "execution_count": 4,
   "metadata": {
    "deletable": false,
    "editable": false,
    "nbgrader": {
     "checksum": "f4b3ff3568fa6c421183d7e614081028",
     "grade": true,
     "grade_id": "cell-dec1be90cc9f72fb",
     "locked": true,
     "points": 10,
     "schema_version": 1,
     "solution": false
    }
   },
   "outputs": [],
   "source": [
    "from unittest import TestCase\n",
    "\n",
    "g = [[0,3,5],[0,1,4],[2,1,-10],[3,2,3],[1,3,5]]\n",
    "\n",
    "t = TestCase()\n",
    "with t.assertRaises(ValueError):\n",
    "    BellmanFord(0,g)"
   ]
  },
  {
   "cell_type": "markdown",
   "metadata": {
    "deletable": false,
    "editable": false,
    "nbgrader": {
     "checksum": "065d17997664011e7a9d6761f2510adf",
     "grade": false,
     "grade_id": "cell-30d6b56e0b7087f2",
     "locked": true,
     "schema_version": 1,
     "solution": false
    }
   },
   "source": [
    "Für den folgenden Graphen, nach wie vielen Iterationen im Bellman-Ford-Algorithmus kann man sich sicher sein, dass es einen negativen Kreis gibt?\n",
    "\n",
    "![G2](graph2.svg)"
   ]
  },
  {
   "cell_type": "markdown",
   "metadata": {
    "deletable": false,
    "nbgrader": {
     "checksum": "a15649a545ad6670383e9badb3ecf28b",
     "grade": true,
     "grade_id": "cell-1dcb77b55413701d",
     "locked": false,
     "points": 5,
     "schema_version": 1,
     "solution": true
    }
   },
   "source": [
    "Man braucht $(n-1)+1 = n = 4$ Mal durch g iterieren, um herauszufinden, ob es einen negativen Kreis gibt. (n ist die Anzahl der Knoten) <br>\n",
    "Zuerst muss man g $(n-1)$ mal durchlaufen, um die kürzesten Pfade zu berechnen. Wäre eine weitere Verbesserung (Verkürzung) eines Pfades möglich, kann das nur heißen, dass ein negativer Kreis im Graphen vorhanden ist. Diese Überprüfung stellt eine zusätzliche Iteration dar."
   ]
  },
  {
   "cell_type": "markdown",
   "metadata": {
    "deletable": false,
    "editable": false,
    "nbgrader": {
     "checksum": "2e4e29f2b0591efc358a661d0014a71f",
     "grade": false,
     "grade_id": "cell-427f496938b6d9b4",
     "locked": true,
     "schema_version": 1,
     "solution": false
    }
   },
   "source": [
    "# Transitive Hülle (10 Pkt.)\n",
    "In einem sozialen Netzwerk folgt Ron Steve, Steve Trish, Trish Ursula und Ursula Vivian:\n",
    "\n",
    "![Soziales Netzverw](social_network.svg)\n",
    "\n",
    "Wir betrachten dieses soziale Netzwerk als gerichteten Graphen wobei die relation **A folgt B** eine gerichtet Kante von A nach B bedeutet. Sei $E$ die Menge der Kanten und $E'$ die Menge der Kanten der transitiven Hülle, geben sie alle Kanten $\\left(u,v\\right) \\in E'\\setminus E$ an. "
   ]
  },
  {
   "cell_type": "markdown",
   "metadata": {
    "deletable": false,
    "nbgrader": {
     "checksum": "c906389b3d393e803e841d25e9e60238",
     "grade": true,
     "grade_id": "cell-4b4bd1b6eb5badff",
     "locked": false,
     "points": 10,
     "schema_version": 1,
     "solution": true
    }
   },
   "source": [
    "$E'\\setminus E := \\{(Ron, Trish), (Ron, Ursula), (Ron, Vivian), (Steve, Ursula), (Steve, Vivian), (Trish, Vivian)\\}$"
   ]
  }
 ],
 "metadata": {
  "kernelspec": {
   "display_name": "Python 3",
   "language": "python",
   "name": "python3"
  },
  "language_info": {
   "codemirror_mode": {
    "name": "ipython",
    "version": 3
   },
   "file_extension": ".py",
   "mimetype": "text/x-python",
   "name": "python",
   "nbconvert_exporter": "python",
   "pygments_lexer": "ipython3",
   "version": "3.5.2"
  }
 },
 "nbformat": 4,
 "nbformat_minor": 2
}
