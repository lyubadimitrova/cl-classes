{
 "cells": [
  {
   "cell_type": "markdown",
   "metadata": {},
   "source": [
    "Before you turn this problem in, make sure everything runs as expected. First, **restart the kernel** (in the menubar, select Kernel$\\rightarrow$Restart) and then **run all cells** (in the menubar, select Cell$\\rightarrow$Run All).\n",
    "\n",
    "Make sure you fill in any place that says `YOUR CODE HERE` or \"YOUR ANSWER HERE\", as well as your name and collaborators below:"
   ]
  },
  {
   "cell_type": "code",
   "execution_count": 1,
   "metadata": {},
   "outputs": [],
   "source": [
    "NAME = \"Lyubomira Dimitrova\"\n",
    "COLLABORATORS = \"Maryna Charniuk, Dung Nguyen\""
   ]
  },
  {
   "cell_type": "markdown",
   "metadata": {},
   "source": [
    "---"
   ]
  },
  {
   "cell_type": "markdown",
   "metadata": {
    "deletable": false,
    "editable": false,
    "nbgrader": {
     "checksum": "bad2e8240b7fcafeba27fe16d85d93d4",
     "grade": false,
     "grade_id": "task1",
     "locked": true,
     "schema_version": 1,
     "solution": false
    }
   },
   "source": [
    "# Aufgabe 1 - Binäre Suchbäume (16 Punkte)\n",
    "\n",
    "a)\t**(5 Punkte)**  \n",
    "In der Vorlesung haben wir die Klasse SearchTree behandelt, die (key, value)-Paare in Node-Objekten mit folgender Definition ablegt:"
   ]
  },
  {
   "cell_type": "code",
   "execution_count": 9,
   "metadata": {
    "deletable": false,
    "editable": false,
    "nbgrader": {
     "checksum": "dbfaab4894c43fb041ddae2b5fc865db",
     "grade": false,
     "grade_id": "task1a-class1",
     "locked": true,
     "schema_version": 1,
     "solution": false
    }
   },
   "outputs": [],
   "source": [
    "class Node:\n",
    "    def __init__(self, key, value):\n",
    "        self.key = key\n",
    "        self.value = value\n",
    "        self.left = self.right = None"
   ]
  },
  {
   "cell_type": "markdown",
   "metadata": {
    "deletable": false,
    "editable": false,
    "nbgrader": {
     "checksum": "cb0c93c4b30d3f9597db59393b2e76fa",
     "grade": false,
     "grade_id": "task1a-text",
     "locked": true,
     "schema_version": 1,
     "solution": false
    }
   },
   "source": [
    "Das Grundgerüst der Klasse SearchTree hat folgende Form:"
   ]
  },
  {
   "cell_type": "code",
   "execution_count": 10,
   "metadata": {
    "deletable": false,
    "nbgrader": {
     "checksum": "364be1f4243ee61c1d8b7d1923f39c64",
     "grade": false,
     "grade_id": "task1a-class2",
     "locked": false,
     "schema_version": 1,
     "solution": true
    }
   },
   "outputs": [],
   "source": [
    "class SearchTree:\n",
    "    def __init__(self):\n",
    "        self.root = None\n",
    "        self.size = 0\n",
    "\n",
    "    def __len__(self):\n",
    "        return self.size\n",
    "    \n",
    "    def insert(self, key, value):\n",
    "        self.root = self._insert_helper(self.root, key, value)\n",
    "\n",
    "    def _insert_helper(self, node, key, value):\n",
    "        if node is None:\n",
    "            self.size += 1\n",
    "            return Node(key, value)\n",
    "        else:\n",
    "            if key < node.key:\n",
    "                node.left = self._insert_helper(node.left, key, value)\n",
    "                return node\n",
    "            elif key > node.key:\n",
    "                node.right = self._insert_helper(node.right, key, value)\n",
    "                return node\n",
    "            else:\n",
    "                node.key = key\n",
    "                node.value = value\n",
    "                return node\n",
    "            \n",
    "        \n",
    "    def remove(self, key):\n",
    "        self.root = self._remove_helper(self.root, key)\n",
    "        self.size -= 1\n",
    "\n",
    "    def _remove_helper(self, node, key):\n",
    "        if node is None:\n",
    "            raise KeyError(key)\n",
    "\n",
    "        if key == node.key:\n",
    "            if node.left is None and node.right is None:     # case 1: node has no children\n",
    "                return None\n",
    "            if node.left is None:   # case 2.1: node only has right child\n",
    "                return node.right\n",
    "            if node.right is None:  # case 2.2: node only has left child\n",
    "                return node.left\n",
    "            \n",
    "            # case 3: node has two children\n",
    "            replacement = node.left      \n",
    "            while replacement.right is not None:    # find largest key in left sub-tree\n",
    "                replacement = replacement.right\n",
    "\n",
    "            node.key = replacement.key\n",
    "            node.value = replacement.value\n",
    "            node.left = self._remove_helper(node.left, replacement.key)   # delete replacement node from \n",
    "            return node                                                   # its spot in the left subtree\n",
    "\n",
    "        elif key < node.key:\n",
    "            node.left = self._remove_helper(node.left, key)\n",
    "            return node\n",
    "        elif key > node.key:\n",
    "            node.right = self._remove_helper(node.right, key)\n",
    "            return node\n",
    "        \n",
    "        \n",
    "    def find(self, key):\n",
    "        current = self.root\n",
    "\n",
    "        while current is not None and current.key != key:\n",
    "            if current.key > key:\n",
    "                current = current.left\n",
    "            else:\n",
    "                current = current.right\n",
    "        return current\n",
    "    \n",
    "\n",
    "        \n",
    "# Traverse\n",
    "def preOrderTraverse(root):\n",
    "    if root is not None:\n",
    "        print ('key', root.key, 'value', root.value)\n",
    "        preOrderTraverse(root.left)\n",
    "        preOrderTraverse(root.right)\n",
    "            \n",
    "def inOrderTraverse(root):\n",
    "    if root is not None:\n",
    "        inOrderTraverse(root.left)\n",
    "        print ('key', root.key, 'value', root.value)\n",
    "        inOrderTraverse(root.right)\n",
    "\n",
    "def postOrderTraverse(root):\n",
    "    if root is not None:\n",
    "        postOrderTraverse(root.left)\n",
    "        postOrderTraverse(root.right)\n",
    "        print ('key', root.key, 'value', root.value)\n"
   ]
  },
  {
   "cell_type": "markdown",
   "metadata": {
    "deletable": false,
    "editable": false,
    "nbgrader": {
     "checksum": "8853b3147c7538f20332798ea9ce19a8",
     "grade": false,
     "grade_id": "task1a-hint",
     "locked": true,
     "schema_version": 1,
     "solution": false
    }
   },
   "source": [
    "**Hint:**  \n",
    "Geben Sie einer vollständigen Implementation ab. Wenn tree ein Objekt vom Typ SearchTree ist, soll die Semantik der Aufrufe wie folgt realisiert werden:  \n",
    "\n",
    ">*tree.insert(key, value):*   \n",
    "Fügt den gegebenen Wert value unter dem Schlüssel key ein. Falls key schon vorhanden war, soll der zuvor gespeicherte Wert überschrieben werden. Andernfalls soll ein neuer Node so eingefügt werden, dass die Suchbaumbedingung erhalten bleibt.  \n",
    "\n",
    ">*tree.remove(key):*   \n",
    "Löscht den Node, der den gegebenen Schlüssel enthält, wobei die Such-baumbedingung erhalten bleibt. Falls der Schlüssel nicht vorhanden ist, soll eine KeyError-Excpetion ausgelöst werden, deren Fehlermeldung den Schlüssel angibt.  \n",
    "\n",
    ">*found=tree.find(key):*   \n",
    "Gibt den Node zurück, der den Schlüssel key enthält, oder None, wenn der Schlüssel nicht im Baum vorhanden ist.\n"
   ]
  },
  {
   "cell_type": "code",
   "execution_count": 11,
   "metadata": {
    "deletable": false,
    "editable": false,
    "nbgrader": {
     "checksum": "5334caa525e29722a1433eec4a2fb57a",
     "grade": true,
     "grade_id": "task1a-test",
     "locked": true,
     "points": 5,
     "schema_version": 1,
     "solution": false
    }
   },
   "outputs": [
    {
     "name": "stdout",
     "output_type": "stream",
     "text": [
      "preOrderTraverse:\n",
      "key 6 value 60\n",
      "key 2 value 20\n",
      "key 1 value 10\n",
      "key 3 value 30\n",
      "key 4 value 40\n",
      "key 8 value 80\n",
      "key 7 value 70\n",
      "inOrderTraverse:\n",
      "key 1 value 10\n",
      "key 2 value 20\n",
      "key 3 value 30\n",
      "key 4 value 40\n",
      "key 6 value 60\n",
      "key 7 value 70\n",
      "key 8 value 80\n",
      "postOrderTraverse:\n",
      "key 1 value 10\n",
      "key 4 value 40\n",
      "key 3 value 30\n",
      "key 2 value 20\n",
      "key 7 value 70\n",
      "key 8 value 80\n",
      "key 6 value 60\n"
     ]
    }
   ],
   "source": [
    "a = SearchTree();\n",
    "assert a.__len__() == 0\n",
    "a.insert(6,60) \n",
    "a.insert(2,20)\n",
    "a.insert(5,50)\n",
    "a.insert(3,30)\n",
    "a.insert(8,80)\n",
    "a.insert(4,40)\n",
    "a.insert(1,10)\n",
    "a.insert(7,70)\n",
    "assert a.root.left.right.left.right.key == 4\n",
    "assert a.root.left.right.left.right.value == 40\n",
    "assert a.root.right.left.key == 7\n",
    "assert a.root.right.left.value == 70\n",
    "node1 = a.find(5)\n",
    "assert node1.key == 5\n",
    "assert node1.value == 50\n",
    "a.insert(5,500)\n",
    "node1 = a.find(5)\n",
    "assert node1.key == 5\n",
    "assert node1.value == 500\n",
    "a.remove(5)\n",
    "assert a.find(5) == None\n",
    "\n",
    "print('preOrderTraverse:')\n",
    "preOrderTraverse(a.root)\n",
    "print('inOrderTraverse:')\n",
    "inOrderTraverse(a.root)\n",
    "print('postOrderTraverse:')\n",
    "postOrderTraverse(a.root)\n",
    "    "
   ]
  },
  {
   "cell_type": "markdown",
   "metadata": {
    "deletable": false,
    "editable": false,
    "nbgrader": {
     "checksum": "5b8f2ec9442f47305da76ec21070bcde",
     "grade": false,
     "grade_id": "task1b-text",
     "locked": true,
     "schema_version": 1,
     "solution": false
    }
   },
   "source": [
    "b)\t**(4 Punkte)**  \n",
    "Entwickeln Sie einen Algorithmus, der die Tiefe des Baumes (den maximalen Abstand von der Wurzel zu einem Blatt) bestimmt und implementieren Sie ihn als Methode, so dass depth=tree.depth() die Tiefe zurückgibt.   \n",
    "**Hint:** If there is only one node, its depth is 0. "
   ]
  },
  {
   "cell_type": "code",
   "execution_count": 12,
   "metadata": {
    "deletable": false,
    "nbgrader": {
     "checksum": "4c60aba6e61a6d34eee079461416bb0d",
     "grade": false,
     "grade_id": "task1b-answer",
     "locked": false,
     "schema_version": 1,
     "solution": true
    }
   },
   "outputs": [],
   "source": [
    "def depth(tree):\n",
    "    def max_depth(node):\n",
    "        if node is None:\n",
    "            return -1\n",
    "        else:\n",
    "            max_d_left = max_depth(node.left)\n",
    "            max_d_right = max_depth(node.right)\n",
    "            max_d = max(max_d_left, max_d_right) + 1\n",
    "            return max_d\n",
    "    \n",
    "    return max_depth(tree.root)\n",
    "\n",
    "SearchTree.depth = depth"
   ]
  },
  {
   "cell_type": "code",
   "execution_count": 6,
   "metadata": {
    "deletable": false,
    "editable": false,
    "nbgrader": {
     "checksum": "ae95a90386541e485bd18cb6322b4796",
     "grade": true,
     "grade_id": "task1b-test",
     "locked": true,
     "points": 4,
     "schema_version": 1,
     "solution": false
    }
   },
   "outputs": [],
   "source": [
    "b = SearchTree();\n",
    "assert b.depth() == -1\n",
    "b.insert(6,60)\n",
    "assert b.depth() == 0\n",
    "b.insert(2,20)\n",
    "assert b.depth() == 1\n",
    "b.insert(5,50)\n",
    "assert b.depth() == 2\n",
    "b.insert(3,30)\n",
    "assert b.depth() == 3\n",
    "b.insert(8,80)\n",
    "assert b.depth() == 3\n",
    "b.insert(4,40)\n",
    "assert b.depth() == 4\n",
    "b.insert(1,10)\n",
    "assert b.depth() == 4\n",
    "b.insert(7,70)\n",
    "assert b.depth() == 4\n"
   ]
  },
  {
   "cell_type": "markdown",
   "metadata": {
    "deletable": false,
    "editable": false,
    "nbgrader": {
     "checksum": "463edf1de4c3c30077cc455c12b843db",
     "grade": false,
     "grade_id": "task1c-question",
     "locked": true,
     "schema_version": 1,
     "solution": false
    }
   },
   "source": [
    "c)\t**(4 Punkte)**   \n",
    "Angenommen, Sie können die Schlüssel in einer selbstgewählten Reihenfolge einfügen. Welche Reihenfolge wählen Sie, damit der Baum nach dem Einfügen eine möglichst geringe Tiefe hat?"
   ]
  },
  {
   "cell_type": "markdown",
   "metadata": {
    "deletable": false,
    "nbgrader": {
     "checksum": "97c74fb9fc163f61b9a3e36690218d1f",
     "grade": true,
     "grade_id": "task1c-answer",
     "locked": false,
     "points": 4,
     "schema_version": 1,
     "solution": true
    }
   },
   "source": [
    "Es wäre besser die Schlüssel in einer ungeordnete Reihenfolge einzufügen. Im Gegenfall, wenn z.B. die Schlüssel aufsteigend sortiert wären, dann fügt man immer die Schlüssel rechts in den Baum ein, damit bekommt man den Baum mit der Tiefe n, wo n die Anzahl von Elementen ist.\n",
    "Z.B., nehmen wir alle Zahlen von 1 bis 10. Als erstes Element nehmen wir ein Element mit Mittelwert, z.B., 5 oder 6. Um nächstes Element links zu nehmen, könnte man wieder ein Mittelelement zwischen 0 und 6 nehmen, z.B., 3. Und so wiederholt man weiter. Die kleinste und die größte Elemente nimmt man am besten am Ende. Ein passendes Baum dafür mit der Tiefe 4, was der Formel $\\left \\lceil \\log_{2}n \\right \\rceil$ entspricht, könnte so aussehen:\n",
    "\n",
    "                6\n",
    "               / \\\n",
    "              3   8\n",
    "             / \\  /\\\n",
    "            2  5 7  9\n",
    "           /  /      \\\n",
    "          1  4       10"
   ]
  },
  {
   "cell_type": "markdown",
   "metadata": {
    "deletable": false,
    "editable": false,
    "nbgrader": {
     "checksum": "e97424ca41f4f282bc929a724abb53b6",
     "grade": false,
     "grade_id": "task1d-question",
     "locked": true,
     "schema_version": 1,
     "solution": false
    }
   },
   "source": [
    "d)\t**(3 Punkte)**  \n",
    "Beweisen oder widerlegen Sie folgende Aussage: Wenn aus einem Suchbaum erst der Schlüssel X und danach der Schlüssel Y entfernt wird, entsteht der gleiche Baum wie bei umgekehrter Reihenfolge."
   ]
  },
  {
   "cell_type": "markdown",
   "metadata": {
    "deletable": false,
    "nbgrader": {
     "checksum": "279894d1d8216b859925d15e6ad65f04",
     "grade": true,
     "grade_id": "task1d-answer",
     "locked": false,
     "points": 3,
     "schema_version": 1,
     "solution": true
    }
   },
   "source": [
    "Hier ein Gegenbeispiel:\n",
    "\n",
    "Wir benutzen folgende Strategie:\n",
    " - Löschen: \n",
    "     - Fall.1: Der Knoten zu entfernen ist ein Blatt $\\rightarrow$ einfach löschen.\n",
    "     - Fall.2: Der Knoten zu entfernen hat ein Kind $\\rightarrow$ Kind hochziehen.\n",
    "     - Fall.3: Der Knoten zu entfernen hat zwei Kinder:\n",
    "         1. Linker Teilbaum: Suche nach dem Element mit dem größten Schlüssel.\n",
    "         2. Ersetze damit den Knoten zu entfernen.\n",
    "         3. Entferne das unterstehende Duplikat.\n",
    "         \n",
    "Gegeben der Baum:\n",
    "                 \n",
    "                5   \n",
    "               / \\\n",
    "              1   7\n",
    "               \\\n",
    "                3\n",
    "Wir wollen die Schlüssel 5 und 7 entfernen. Wir prüfen, ob die Reihenfolge der Löschoperationen ein unterschiedlisches Endergebnis liefert.\n",
    "1. Fall: \n",
    "    - entferne 5:\n",
    "                3   \n",
    "               / \\\n",
    "              1   7\n",
    "              \n",
    "    - entferne 7:\n",
    "                3   \n",
    "               / \n",
    "              1 \n",
    "2. Fall:\n",
    "      - entferne 7:  \n",
    "                5   \n",
    "               / \n",
    "              1   \n",
    "               \\\n",
    "                3\n",
    "       - entferne 5:\n",
    "                1   \n",
    "                \\\n",
    "                 3\n",
    "Also, am Ende nach zwei Löschoperationen bekommen wir zwei verschiedene Bäume, was heißt, dass die Reihenfolge eine Rolle für das Endergebnis spielt."
   ]
  },
  {
   "cell_type": "markdown",
   "metadata": {
    "deletable": false,
    "editable": false,
    "nbgrader": {
     "checksum": "2a57a3d175ae2117aa39a84734e05a50",
     "grade": false,
     "grade_id": "task2-text",
     "locked": true,
     "schema_version": 1,
     "solution": false
    }
   },
   "source": [
    "# Aufgabe 2 – Taschenrechner (24 Punkte)\n",
    "\n",
    "Binärbäume eignen sich auch, um mathematische Ausdrücke auszuwerten, die als Zeichenketten der Form \"2+5\\*3\" oder \"2\\*4\\*(3+(4-7)\\*8)-(1-6)\" gegeben sind. Man bezeichnet solche Bäume als *Syntax-bäume* (https://de.wikipedia.org/wiki/Abstrakter_Syntaxbaum).  \n",
    "\n",
    "Die Ausdrücke können die arithmetischen Operationen +, -, \\*, / mit den üblichen Rechenregeln enthalten (Klammern haben die höchste Priorität, Punktrechnung geht vor Strichrechnung). Zahlen sollen der Einfachheit halber immer einstellig und positiv sein. Variablen und Funktionen kommen nicht vor. Operationen mit gleicher Priorität werden von links nach rechts ausgewertet (sogenannte *Links-Assoziativität*), damit wie gewohnt 5-2+3 = (5-2)+3 = 6 gilt (und nicht 5-(2+3) = 0, was bei Auswertung von rechts herauskäme). Steht jedoch rechts von einer Zahl oder einem Klammerausdruck eine Operation mit höherer Priorität als links, wird der rechte Operator zuerst ausgewertet. Trifft man auf eine öffnende Klammer, muss man den Substring bis zur zugehörigen schließenden Klammer suchen und die Auswertung rekursiv auf diesen Substring anwenden. Dadurch ergibt sich ein Binärbaum.  \n",
    "\n",
    "a)\t**(14 Punkte)**   \n",
    "Entwickeln Sie einen Algorithmus, der den zu einem Ausdruck korrespondierenden Binärbaum aufbaut, wobei jeder innere Knoten einen Operator (+, -, \\*, /) repräsentiert, jeder Unterbaum einen linken bzw. rechten Operanden, und jedes Blatt eine Zahl. Der Baum soll dann durch eine Funktion parse(s) erstellt werden, an die der Ausdruck als String übergeben wird und die den Wurzelknoten des Baums zurückgibt (die Verwendung der Python-Funktionen eval() bzw. exec ist dabei *nicht* erlaubt). Implementieren Sie diese Funktion und erklären Sie in Kommentaren, wie der Algorithmus vorgeht.   \n",
    "**Hinweis:** Implementieren Sie zunächst zwei Klassen Number und Operator, die als Blattknoten bzw. innere Knoten des Syntaxbaums dienen. Number-Objekte speichern also eine Zahl, und Operator-Objekte ein Operatorsymbol sowie den linken und rechten Operanden (Unterbaum). \n"
   ]
  },
  {
   "cell_type": "code",
   "execution_count": 1,
   "metadata": {
    "nbgrader": {
     "checksum": "cace65d62a3cf32097dd4ff19d1c2183",
     "grade": false,
     "grade_id": "task2a-code",
     "locked": false,
     "schema_version": 1,
     "solution": true
    }
   },
   "outputs": [],
   "source": [
    "class NodeNum:\n",
    "    def __init__(self, key, value):\n",
    "        self.key = key\n",
    "        self.value = value\n",
    "        \n",
    "        \n",
    "class NodeOp:\n",
    "    def __init__(self, key, value):\n",
    "        self.key = key\n",
    "        self.value = value\n",
    "        self.left = self.right = None\n",
    "\n",
    "        \n",
    "class Number:\n",
    "    def __init__(self, number):\n",
    "        self.number = number\n",
    "        if isinstance(number, str):\n",
    "            self.number = int(number)\n",
    "\n",
    "    def __str__(self):\n",
    "        return str(self.number)\n",
    "\n",
    "    \n",
    "class Operator:\n",
    "    def __init__(self, operator):\n",
    "        self.operator = operator\n",
    "\n",
    "    def __str__(self):\n",
    "        return self.operator\n",
    "    \n",
    "    def evaluate(self, number1, number2):\n",
    "        if self.operator == '-':\n",
    "            return Number(number1.number - number2.number)\n",
    "        if self.operator == '+':\n",
    "            return Number(number1.number + number2.number)\n",
    "        if self.operator == '*':\n",
    "            a = Number(number1.number * number2.number)\n",
    "            return a\n",
    "        if self.operator == '/':\n",
    "            return Number(number1.number / number2.number)\n",
    "            \n",
    "   \n",
    "def parse(s):\n",
    "    \"\"\"\n",
    "    This function builds the binary tree corresponding to an expression, where each internal node \n",
    "    represents an operator (+, -, *, /), each sub-tree represents a left or right operand, \n",
    "    and each leaf represents a number. \n",
    "\n",
    "    Arguments:\n",
    "    s -- string, the input expression\n",
    "\n",
    "    Returns:\n",
    "    root -- the root node of the tree\n",
    "    \n",
    "    Example:\n",
    "    s = '5+6*3'\n",
    "    fixed = ['5','6','3','*','+']\n",
    "    start: stack = []\n",
    "    after token '5': stack = [ NodeNum('5', Number('5')) ]\n",
    "    after token '6': stack = [ NodeNum('6', Number('6')), NodeNum('5', Number('5')) ]\n",
    "    after token '3': stack = [ NodeNum('3', Number('3')), NodeNum('6', Number('6')), NodeNum('5', Number('5')) ]\n",
    "    after token '*': stack = [ NodeNum('5', Number('5')), NodeOp('*', Operator('*')) ]   # NodeOp has the NodeNums '3' and '6' as children\n",
    "    after token '+': stack = [ NodeOp('+', Operator('+')) ]  # NodeOp has the NodeNum '5' and NodeOp '*' as children\n",
    "    -> root = stack[0] = NodeOp('+', Operator('+'))\n",
    "    \"\"\"\n",
    "    # Strategy seen on https://stackoverflow.com/questions/423898/postfix-notation-to-expression-tree\n",
    "    \n",
    "    if len(s) < 3:\n",
    "        raise ValueError(\"Expression too short.\")\n",
    "    if ' ' in s:\n",
    "        raise ValueError(\"Bad syntax; no spaces please.\")\n",
    "        \n",
    "    fixed = fix(s)        # postfix notation\n",
    "\n",
    "    stack = []\n",
    "    for token in fixed:   # start at the beginning\n",
    "        \n",
    "        if token.isdigit():\n",
    "            stack.insert(0, NodeNum(token, Number(token)))\n",
    "        \n",
    "        else:          # token is an operator\n",
    "            op = NodeOp(token, Operator(token))  # create new NodeOp\n",
    "            \n",
    "            # delete first two elements\n",
    "            try:\n",
    "                right = stack.pop(0)     \n",
    "                left = stack.pop(0)\n",
    "            except IndexError:          # a primitive syntax checker; if the stack is empty, something is wrong\n",
    "                raise ValueError(\"Invalid mathematical expression.\")\n",
    "            \n",
    "            # add them as operands of the new operator token\n",
    "            op.right = right\n",
    "            op.left = left\n",
    "            stack.insert(0, op)   # push to stack; now the NodeOp can also be some other NodeOp's child\n",
    "\n",
    "    root = stack[0]\n",
    "    return root\n",
    "\n",
    "\n",
    "ops = {'*':2, '/':2, '+':1, '-':1}\n",
    "def fix(s):\n",
    "    \"\"\"\n",
    "    Converts a mathematical expression from infix into postfix notation.\n",
    "    Algorithm as seen on https://en.wikipedia.org/wiki/Shunting-yard_algorithm#The_algorithm_in_detail.\n",
    "    \n",
    "    Arguments:\n",
    "    s -- string, the input expression\n",
    "\n",
    "    Returns:\n",
    "    numbers_queue -- list, tokens in postfix order\n",
    "    \n",
    "    \"\"\"\n",
    "    numbers_queue = []\n",
    "    operator_stack = []\n",
    "    i = 0\n",
    "    while i < len(s):\n",
    "        if s[i].isdigit():\n",
    "            numbers_queue.append(s[i])\n",
    "        if s[i] in ops:\n",
    "            if operator_stack:\n",
    "                while operator_stack and operator_stack[0] != \"(\" and ops[operator_stack[0]] >= ops[s[i]] :\n",
    "                    numbers_queue.append(operator_stack.pop(0))\n",
    "            operator_stack.insert(0, s[i])\n",
    "        if s[i] == \"(\":\n",
    "            operator_stack.insert(0, s[i])\n",
    "        if s[i] == \")\":\n",
    "            try:\n",
    "                while operator_stack[0] != \"(\":\n",
    "                    numbers_queue.append(operator_stack.pop(0))\n",
    "                operator_stack.pop(0)\n",
    "            except IndexError:\n",
    "                raise ValueError(\"Bad syntax, possibly missing '('.\")\n",
    "        i += 1\n",
    "    \n",
    "    while operator_stack:\n",
    "        numbers_queue.append(operator_stack.pop(0))\n",
    "\n",
    "    return numbers_queue\n",
    "\n",
    "\n",
    "# Traverse\n",
    "def preOrderTraverse2(node):\n",
    "    if type(node) == NodeOp:\n",
    "        print (\"key\", node.key, \"value\", node.value)\n",
    "        preOrderTraverse2(node.left)\n",
    "        preOrderTraverse2(node.right)\n",
    "    elif type(node) == NodeNum:\n",
    "        print (\"key\", node.key, \"value\", node.value)\n",
    "            \n",
    "def inOrderTraverse2(node):\n",
    "    if type(node) == NodeOp:\n",
    "        inOrderTraverse2(node.left)\n",
    "        print (\"key\", node.key, \"value\", node.value)\n",
    "        inOrderTraverse2(node.right)\n",
    "    elif type(node) == NodeNum:\n",
    "        print (\"key\", node.key, \"value\", node.value)\n",
    "\n",
    "def postOrderTraverse2(node):\n",
    "    if type(node) == NodeOp:\n",
    "        postOrderTraverse2(node.left)\n",
    "        postOrderTraverse2(node.right)\n",
    "        print (\"key\", node.key, \"value\", node.value)\n",
    "    elif type(node) == NodeNum:\n",
    "        print (\"key\", node.key, \"value\", node.value)"
   ]
  },
  {
   "cell_type": "code",
   "execution_count": 2,
   "metadata": {
    "deletable": false,
    "nbgrader": {
     "checksum": "ca1f69c148bf00b5da3e1e3bef9d0124",
     "grade": true,
     "grade_id": "task2a-test",
     "locked": false,
     "points": 12,
     "schema_version": 1,
     "solution": true
    }
   },
   "outputs": [
    {
     "name": "stdout",
     "output_type": "stream",
     "text": [
      "root: + \n",
      "\n",
      "key + value +\n",
      "key 5 value 5\n",
      "key * value *\n",
      "key 6 value 6\n",
      "key 3 value 3\n",
      "\n",
      "\n",
      "key 5 value 5\n",
      "key + value +\n",
      "key 6 value 6\n",
      "key * value *\n",
      "key 3 value 3\n",
      "\n",
      "\n",
      "key 5 value 5\n",
      "key 6 value 6\n",
      "key 3 value 3\n",
      "key * value *\n",
      "key + value +\n"
     ]
    }
   ],
   "source": [
    "p = parse(\"5+6*3\")\n",
    "print(\"root:\", p.key, '\\n')\n",
    "preOrderTraverse2(p)\n",
    "print(\"\\n\")\n",
    "inOrderTraverse2(p)\n",
    "print(\"\\n\")\n",
    "postOrderTraverse2(p)"
   ]
  },
  {
   "cell_type": "markdown",
   "metadata": {
    "deletable": false,
    "editable": false,
    "nbgrader": {
     "checksum": "f3de43aa0f5b05de4a02e1828b4441e2",
     "grade": false,
     "grade_id": "task2b-text",
     "locked": true,
     "schema_version": 1,
     "solution": false
    }
   },
   "source": [
    "b)\t**(3 Punkte)**   \n",
    "Skizzieren Sie die Bäume, die sich für die Ausdrücke \"2+5\\*3\" und \"2\\*4\\*(3+(4-7)\\*8)-(1-6)\" ergeben."
   ]
  },
  {
   "cell_type": "markdown",
   "metadata": {
    "deletable": false,
    "nbgrader": {
     "checksum": "d8cb54310dd79e45483f4e12613b92ee",
     "grade": true,
     "grade_id": "task2b-answer",
     "locked": false,
     "points": 2,
     "schema_version": 1,
     "solution": true
    }
   },
   "source": [
    " 2+5*3\n",
    "              \n",
    "               +    \n",
    "             /   \\        \n",
    "            2     *\n",
    "                 / \\\n",
    "                5   3 \n",
    " \n",
    " 2*4*(3+(4-7)*8)-(1-6)\n",
    "                                                        \n",
    "                 -                                   \n",
    "               /   \\\n",
    "              *     -\n",
    "            /  \\   /  \\      \n",
    "           *    +  1   6\n",
    "          / \\  / \\\n",
    "         2   4 3  *\n",
    "                 / \\\n",
    "                -   8\n",
    "               / \\ \n",
    "              4   7"
   ]
  },
  {
   "cell_type": "code",
   "execution_count": 3,
   "metadata": {
    "deletable": false,
    "nbgrader": {
     "checksum": "120562a3d3a9c82d76310f96c733d45c",
     "grade": true,
     "grade_id": "task2b-test",
     "locked": false,
     "points": 1,
     "schema_version": 1,
     "solution": true
    }
   },
   "outputs": [],
   "source": [
    "import unittest\n",
    "p1 = parse(\"2+5*3\")\n",
    "p2 = parse(\"2*4*(3+(4-7)*8)-(1-6)\")\n",
    "\n",
    "assert p1.right.key == '*'\n",
    "assert p2.left.right.left.key == '3'\n",
    "assert p2.left.right.right.left.key == '-'\n",
    "assert p2.right.left.key == '1'\n",
    "\n",
    "unittest_test_case = unittest.TestCase('__init__')\n",
    "with unittest_test_case.assertRaises(AttributeError):    # leaf nodes have no children\n",
    "    x = p2.right.right.right\n",
    "with unittest_test_case.assertRaises(ValueError):        # syntax check\n",
    "    parse('3*')\n",
    "with unittest_test_case.assertRaises(ValueError):        # syntax check\n",
    "    parse('3+5)*9')\n",
    "with unittest_test_case.assertRaises(ValueError):        # syntax check\n",
    "    parse('')\n",
    "with unittest_test_case.assertRaises(ValueError):        # syntax check\n",
    "    parse('      ')"
   ]
  },
  {
   "cell_type": "markdown",
   "metadata": {
    "deletable": false,
    "editable": false,
    "nbgrader": {
     "checksum": "0fca1056adc8b43a2fff4ebb1e392115",
     "grade": false,
     "grade_id": "task2c-text",
     "locked": true,
     "schema_version": 1,
     "solution": false
    }
   },
   "source": [
    "c)\t**(3 Punkte)**   \n",
    "Implementieren Sie eine Funktion evaluateTree(root), um einen Ausdruck mit Hilfe des in a) erstellten Baums auszurechnen."
   ]
  },
  {
   "cell_type": "code",
   "execution_count": 4,
   "metadata": {
    "deletable": false,
    "nbgrader": {
     "checksum": "461e3d38bd36e778bf26ce8fc7c3e3e6",
     "grade": false,
     "grade_id": "task2c-answer",
     "locked": false,
     "schema_version": 1,
     "solution": true
    }
   },
   "outputs": [],
   "source": [
    "def evaluateTree(root):\n",
    "    \"\"\"\n",
    "    This function evaluates the result of an expression given its tree root. \n",
    "\n",
    "    Arguments:\n",
    "    root -- the root node of the tree\n",
    "\n",
    "    Returns:\n",
    "    root.value -- the result of the expression\n",
    "    \"\"\"\n",
    "    \n",
    "    if isinstance(root, NodeNum):\n",
    "        return root.value\n",
    "    if isinstance(root, NodeOp):\n",
    "        root.value = root.value.evaluate(evaluateTree(root.left), evaluateTree(root.right))\n",
    "        return root.value\n",
    "    \n",
    "assert evaluateTree(parse('2+5*3')).number == 17\n",
    "assert evaluateTree(parse('2*4*(3+(4-7)*8)-(1-6)')).number == -163"
   ]
  },
  {
   "cell_type": "code",
   "execution_count": 5,
   "metadata": {
    "deletable": false,
    "editable": false,
    "nbgrader": {
     "checksum": "856449a88821cfe529dd685e753b0426",
     "grade": true,
     "grade_id": "task2c-test",
     "locked": true,
     "points": 3,
     "schema_version": 1,
     "solution": false
    }
   },
   "outputs": [
    {
     "ename": "AssertionError",
     "evalue": "",
     "output_type": "error",
     "traceback": [
      "\u001b[0;31m---------------------------------------------------------------------------\u001b[0m",
      "\u001b[0;31mAssertionError\u001b[0m                            Traceback (most recent call last)",
      "\u001b[0;32m<ipython-input-5-6e161ba4ca0f>\u001b[0m in \u001b[0;36m<module>\u001b[0;34m()\u001b[0m\n\u001b[0;32m----> 1\u001b[0;31m \u001b[0;32massert\u001b[0m \u001b[0mevaluateTree\u001b[0m\u001b[0;34m(\u001b[0m\u001b[0mparse\u001b[0m\u001b[0;34m(\u001b[0m\u001b[0;34m'2+5*3'\u001b[0m\u001b[0;34m)\u001b[0m\u001b[0;34m)\u001b[0m \u001b[0;34m==\u001b[0m \u001b[0;36m17\u001b[0m\u001b[0;34m\u001b[0m\u001b[0m\n\u001b[0m\u001b[1;32m      2\u001b[0m \u001b[0;32massert\u001b[0m \u001b[0mevaluateTree\u001b[0m\u001b[0;34m(\u001b[0m\u001b[0mparse\u001b[0m\u001b[0;34m(\u001b[0m\u001b[0;34m'2*4*(3+(4-7)*8)-(1-6)'\u001b[0m\u001b[0;34m)\u001b[0m\u001b[0;34m)\u001b[0m \u001b[0;34m==\u001b[0m \u001b[0;34m-\u001b[0m\u001b[0;36m163\u001b[0m\u001b[0;34m\u001b[0m\u001b[0m\n",
      "\u001b[0;31mAssertionError\u001b[0m: "
     ]
    }
   ],
   "source": [
    "assert evaluateTree(parse('2+5*3')) == 17\n",
    "assert evaluateTree(parse('2*4*(3+(4-7)*8)-(1-6)')) == -163\n"
   ]
  },
  {
   "cell_type": "markdown",
   "metadata": {
    "deletable": false,
    "editable": false,
    "nbgrader": {
     "checksum": "937b332bf72cd6d852ab54f6ec5f72b9",
     "grade": false,
     "grade_id": "task2d-text",
     "locked": true,
     "schema_version": 1,
     "solution": false
    }
   },
   "source": [
    "d)\t**(4 Punkte)**   \n",
    "Schreiben Sie Unit Tests für Ihr Verfahren. Beachten Sie dabei die Hinweise zum Erstellen guter Tests im Kapitel \"Korrektheit\" des Skripts. Beispielsweise müssen Sie verschiedene Varianten der Operator-Präzedenz und Klammerung testen."
   ]
  },
  {
   "cell_type": "code",
   "execution_count": 6,
   "metadata": {
    "deletable": false,
    "nbgrader": {
     "checksum": "d0a0736104746a18da56e10d2544e70a",
     "grade": true,
     "grade_id": "task2d-test",
     "locked": false,
     "points": 4,
     "schema_version": 1,
     "solution": true
    }
   },
   "outputs": [],
   "source": [
    "import unittest\n",
    "assert evaluateTree(parse('((2+(5*3)))')).number == 17      # too many + unnessecary brackets\n",
    "assert evaluateTree(parse('2+3-5+3')).number == 3           # left-associativeness \n",
    "assert evaluateTree(parse('2+3*5+3')).number == 20          # preference\n",
    "assert evaluateTree(parse('2+3/(3+3)')).number == 2.5       # preference\n",
    "assert evaluateTree(parse('(2+3)*(5+3)')).number == 40      # preference\n",
    "assert evaluateTree(parse('2*(5+2)*3')).number == 42        # preference\n",
    "assert evaluateTree(parse('2*5-4+6/3')).number == 8         # preference\n",
    "\n",
    "unittest_test_case = unittest.TestCase('__init__')\n",
    "unittest_test_case.assertAlmostEqual(evaluateTree(parse('7/3')).number, 2.33, 2)    "
   ]
  },
  {
   "cell_type": "code",
   "execution_count": null,
   "metadata": {},
   "outputs": [],
   "source": []
  }
 ],
 "metadata": {
  "kernelspec": {
   "display_name": "Python 3",
   "language": "python",
   "name": "python3"
  },
  "language_info": {
   "codemirror_mode": {
    "name": "ipython",
    "version": 3
   },
   "file_extension": ".py",
   "mimetype": "text/x-python",
   "name": "python",
   "nbconvert_exporter": "python",
   "pygments_lexer": "ipython3",
   "version": "3.5.2"
  }
 },
 "nbformat": 4,
 "nbformat_minor": 2
}
