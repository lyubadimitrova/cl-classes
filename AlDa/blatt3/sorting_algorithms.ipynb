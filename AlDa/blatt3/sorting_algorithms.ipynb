{
 "cells": [
  {
   "cell_type": "markdown",
   "metadata": {},
   "source": [
    "# Sortieralgorithmen"
   ]
  },
  {
   "cell_type": "markdown",
   "metadata": {},
   "source": [
    "Zu jedem Sortieralgorithmus habe ich euch noch eine kleine 'Visualisierung' gecodet.\n",
    "Dabei wird gezeigt, was in welcher Iteration (meistens der äußeren Schleife) passiert.\n",
    "Ihr aktiviert die Visualisierung, in dem ihr unter dem jeweiligen Algo das visual-Flag auf true\n",
    "setzt."
   ]
  },
  {
   "cell_type": "code",
   "execution_count": 1,
   "metadata": {},
   "outputs": [],
   "source": [
    "def sort(algo, algov, sentence = \"sorting\", visual=False):\n",
    "    \"\"\"\n",
    "        Selects between the standard sorting algorithm and a given\n",
    "        visual version.\n",
    "        \n",
    "        Args:\n",
    "            algo (function) : a sorting algorithm\n",
    "            algov (function): visualized sorting algorithm\n",
    "            sentence (str)  : a string to sort\n",
    "            visual (bool)   : True if u want to see the visual algorithm\n",
    "    \"\"\"\n",
    "    li = list(sentence)\n",
    "    print('Before sort: \"%s\"' % sentence)\n",
    "    \n",
    "    # select visual or non visual algorithm\n",
    "    # r is None for in-place algos\n",
    "    r = algov(li) if visual else algo(li)\n",
    "        \n",
    "    print('After sort : \"%s\"' % ''.join(li if r is None else r))"
   ]
  },
  {
   "cell_type": "markdown",
   "metadata": {},
   "source": [
    "### Anzahl der Vergleiche\n",
    "Wir benutzen die Anzahl der Vergleiche um Sortieralgorithmen zu vergleichen, dabei unterscheiden wir in der Regel \n",
    "<b><u>worst case</u></b>, <b><u>average case</u></b> und <b><u>best case</u></b>"
   ]
  },
  {
   "cell_type": "markdown",
   "metadata": {},
   "source": [
    "## Selectionsort"
   ]
  },
  {
   "cell_type": "markdown",
   "metadata": {},
   "source": [
    "Die Grundidee hier ist, dass wir durch alle Elemente der Liste iterieren und für jedes Elemente suchen wir das kleinste\n",
    "Element in der Restliste. Die Suche läuft dabei bis zum Ende durch, da wir nie sicher sein können,\n",
    "dass einen Schritt weiter nicht noch ein kleineres Element kommt. Nach der inneren Schleife tauschen wir das aktuell\n",
    "kleinste nach vorne und bewegen uns nach vorne.\n",
    "Links von i ist somit eine 'fertig'-sortierte Teilliste rechts eine unsortierte Restliste.\n",
    "\n",
    "Wir selektieren also immer das aktuelle Minimum der rechten Teilliste und bewegen es in ihr an die vorderste Position.\n",
    "Danach verringern wir die rechte Teilliste um 1 von links."
   ]
  },
  {
   "cell_type": "code",
   "execution_count": 2,
   "metadata": {},
   "outputs": [],
   "source": [
    "def selectionsort(a):\n",
    "    N = len(a)\n",
    "    for i in range(N):\n",
    "        minimum = i\n",
    "        for k in range(i + 1, N):\n",
    "            if a[k] < a[minimum]:\n",
    "                minimum = k\n",
    "        a[i], a[minimum] = a[minimum], a[i]"
   ]
  },
  {
   "cell_type": "markdown",
   "metadata": {},
   "source": [
    "### Komplexitätsanalyse\n",
    "Bei Bubblesort, Insertionsort und Selectionsort ist in der Regel eine Herleitung über die iterativen Eigenschaften kürzer.\n",
    "Ich persönliche fine die rekursiven etwas schöner, dennoch will ich euch die iterativen nicht vorenthalten.\n",
    "### Herleitung mit Rekursion\n",
    "Das erste was bei Selectionsort auffällt, ist, dass die innere Schleife immer bis zum Ende aufgeführt wird. Worst, Avg und\n",
    "Best case fallen somit zusammen.<br>\n",
    "Sei $T(N)$ die Anzahl der Vergleiche für N Eingabeelemente, so ist $T(N)$ für Selectionsort:<br>\n",
    "<br>$ T(N) = (N - 1) + T(N - 1) $<br>\n",
    "Für $T(N-1)$ kennen wir aber somit auch schon die Anzahl der Vergleiche:<br>\n",
    "<br>$ T(N) = (N - 1) + (N - 2) + T(N - 2) $<br>\n",
    "Das setzt sich jetzt so fort ... aber wie lange? Sobald wir $T(N - (N - 1))$ haben, müssen wir uns überlegen was mit der\n",
    "inneren Schleife passiert. Diese wird dann aber gar nicht mehr ausgeführt, also gilt $T(1) = 0$.<br>\n",
    "<br>$ T(N) = (N - 1) + (N - 2) + (N - 3) + ... + 2 + 1 + 0 $<br>\n",
    "Mit der Gauß'schen Summenformel:<br>\n",
    "<br>$ T(N) = \\frac{N * (N - 1)}{2} = O(N^{2})$<br>\n",
    "### Herleitung durch Iteration\n",
    "Man erkennt, dass die äußere Schleife N-Mal ausgeführt wird, wir erwarten also eine Summe mit N-Gliedern. Das erste Glied\n",
    "repräsentiert die innere Schleife für i = 0, sie wird also (N-1)-Mal ausgeführt, danach (N-2)-Mal und so weiter, bis die\n",
    "innere Schleife keinmal mehr durchlaufen wird. Daraus ergibt sich:\n",
    "<br>$ T(N) = (N - 1) + (N - 2) + ... + 2 + 1 + 0 $ <br>\n",
    "Mit Gauß'scher Summenformel:<br>\n",
    "<br>$ T(N) = \\frac{N * (N - 1)}{2} = O(N^{2})$<br>"
   ]
  },
  {
   "cell_type": "code",
   "execution_count": 3,
   "metadata": {
    "scrolled": true
   },
   "outputs": [],
   "source": [
    "def selectionsort_visual(a):\n",
    "    from time import sleep\n",
    "    N = len(a)\n",
    "    for i in range(N):\n",
    "        minimum = i\n",
    "        for k in range(i + 1, N):\n",
    "            if a[k] < a[minimum]:\n",
    "                minimum = k\n",
    "        print(''.join(a))\n",
    "        s = list(' ' * N)\n",
    "        s[i], s[minimum] = 'i', 'm'\n",
    "        s = ''.join(s)\n",
    "        print(s)\n",
    "        sleep(2)\n",
    "        print(' ' * N)\n",
    "        a[i], a[minimum] = a[minimum], a[i]"
   ]
  },
  {
   "cell_type": "code",
   "execution_count": 4,
   "metadata": {
    "scrolled": true
   },
   "outputs": [
    {
     "name": "stdout",
     "output_type": "stream",
     "text": [
      "Before sort: \"sorting\"\n",
      "After sort : \"ginorst\"\n",
      "\n",
      "Before sort: \"0123456789\"\n",
      "After sort : \"0123456789\"\n",
      "\n",
      "Before sort: \"9876543210\"\n",
      "After sort : \"0123456789\"\n",
      "\n",
      "Before sort: \"0193284765\"\n",
      "After sort : \"0123456789\"\n"
     ]
    }
   ],
   "source": [
    "sort(selectionsort, selectionsort_visual, visual = False)\n",
    "print()\n",
    "sort(selectionsort, selectionsort_visual, sentence = \"0123456789\", visual = False)\n",
    "print()\n",
    "sort(selectionsort, selectionsort_visual, sentence = \"9876543210\", visual = False)\n",
    "print()\n",
    "sort(selectionsort, selectionsort_visual, sentence = \"0193284765\", visual = False)"
   ]
  },
  {
   "cell_type": "markdown",
   "metadata": {},
   "source": [
    "## Insertionsort"
   ]
  },
  {
   "cell_type": "markdown",
   "metadata": {},
   "source": [
    "Ähnlich wie Selectionsort haben wir eine äußere und eine innere Schleife, der Ansatz ist aber ein anderer. Der Algorithmus \n",
    "vergleich immer von der aktuellen Position i mit allen vorherigen und sucht nach einer Lücke die er das Element einfügen\n",
    "kann. Das Element wird zu dieser Lücke nach vorne getragen. Auch hier befindet sich somit eine Trennung von schon sortierter\n",
    "Liste und unsortiertem Rest. Im Gegensatz zu Selectionsort kann sich dieser rechte Teil noch ändern, weil im avg case \n",
    "ständig Elemente in die rechte Seite eingefügt werden.\n",
    "Die innere Schleife läuft von i nach 0, bei Selectionsort lief sie nach hinten zu N."
   ]
  },
  {
   "cell_type": "code",
   "execution_count": 5,
   "metadata": {},
   "outputs": [],
   "source": [
    "def insertionsort(a):\n",
    "    N = len(a)\n",
    "    for i in range(1, N):\n",
    "        cur, k = a[i], i\n",
    "        while k > 0:\n",
    "            if cur < a[k - 1]:\n",
    "                a[k] = a[k - 1]\n",
    "            else:\n",
    "                break\n",
    "            k -= 1\n",
    "            a[k] = cur\n",
    "            "
   ]
  },
  {
   "cell_type": "markdown",
   "metadata": {},
   "source": [
    "### Komplexitätsanalyse\n",
    "Auch bei Insertionsort haben wir 2 Schleifen, anders aber als bei Selectionsort enthält die innere Schleife eine Bedingung,\n",
    "die zum schnelleren Verlassen der Schleife führen kann. Eine Unterscheidung in best, worst und avg case ist notwenig.\n",
    "### Herleitung mit Rekursion\n",
    "<b><u>Worst case</u></b><br>\n",
    "Die Bedingung in der inneren Schleife wird immer ausgeführt. Dies führt in der ersten Iteration dazu, dass die innere \n",
    "Schleife exakt einmal durchlaufen wird. Es ergibt sich:\n",
    "<br>$ T(N) = 1 + T(N - 1) $<br>\n",
    "Im nächsten Durchlauf wird die innere Schleife zweimal ausgeführt:\n",
    "<br>$ T(N) = 1 + 2 + T(N - 2) $<br>\n",
    "Dies passiert bis die äußere Schleife auf N-1 steht, auch hier muss alles Durchlaufen werden:\n",
    "<br>$ T(N) = 1 + 2 + ...  + T(N - (N - 1)) $<br>\n",
    "Hier ist $T(1) = N - 1$:<br>\n",
    "<br>$ T(N) = 1 + 2 + ... + (N - 2) + (N - 1) $<br>\n",
    "Mit der Gauß'schen Summenformel:<br>\n",
    "<br>$ T(N) = \\frac{N * (N - 1)}{2} = O(N^{2})$<br>\n",
    "\n",
    "<b><u>Best case</u></b><br>\n",
    "Die Bedingung in der inneren Schleife wird nur einmal ausgeführt und evaluiert zu false, was zur Folge hat, dass die \n",
    "Schleife direkt breakt. Daraus ergibt sich für die erste Iteration:<br>\n",
    "<br>$ T(N) = 1 + T(N - 1) $<br>\n",
    "Wie schon oben erwähnt gilt für jede weiter Iteration auch, dass die Schleife nur einmal durchlaufen wird. Dies sitzt sich\n",
    "fort bis zu $ T(1) = 1$, da die äußere Schleife bei 1 startet, gibt es $N-1$ Summanden<br>\n",
    "<br>$ T(N) = \\underbrace{1 + 1 + ... + 1 + 1}_{(N-1)-Mal} = N-1 = O(N) $<br>\n",
    "\n",
    "<b><u>Average case</u></b><br>\n",
    "Hier muss man abschätzen, wie oft die if-Bedingung ausgeführt wird. Im Mittel wird die Lücke immer genau in der Mitte liegen\n",
    "somit ergibt sich die erste Iteration zu:<br>\n",
    "<br>$ T(N) = \\frac{1}{2} 1 + T(N - 1) $<br>\n",
    "Die nächste Iteration sieht dann wie folgt aus (beachtet, dass ihr wir das einhalb nicht ausmultiplizieren, da wir es gleich\n",
    "ausklammern wollen):<br>\n",
    "<br>$ T(N) = \\frac{1}{2} 1 + \\frac{1}{2} 2 + T(N - 2) $<br>\n",
    "Dies setzt sich wie im worst case bereits erklärt fort zu:\n",
    "<br>$ T(N) = \\frac{1}{2} 1 + \\frac{1}{2} 2 + ... + \\frac{1}{2} (N - 2) + \\frac{1}{2} (N - 1) $<br>\n",
    "Gauß'sche Summenformel:<br>\n",
    "<br>$ T(N) = \\frac{1}{2} \\frac{N * (N - 1)}{2} = O(N^{2})$<br>\n",
    "\n",
    "### Herleitung durch Iteration\n",
    "<b><u>Worst case</u></b><br>\n",
    "Die äußere Schleife wird $N-1$-Mal ausgeführt, es gibt also genauso viele Summanden in unserer Ergebnisformel. Die innere \n",
    "Schleife muss also aufsteigend von 1 bis $N-1$ ausgeführt werden, da sie maximale Durchläufe hat. Es ergibt sich folgende \n",
    "Summe:<br>\n",
    "<br>$ T(N) = 1 + 2 + ... + (N - 2) + (N - 1) $<br>\n",
    "Mit der Gauß'schen Summenformel:<br>\n",
    "<br>$ T(N) = \\frac{N * (N - 1)}{2} = O(N^{2})$<br>\n",
    "\n",
    "<b><u>Best case</u></b><br>\n",
    "Die äußere Schleife wird $N-1$-Mal ausgeführt, es gibt also genauso viele Summanden in unserer Ergebnisformel. Die innere \n",
    "Schleife wird immer direkt nach einer Abfrage abgebrochen - es gibt nur einen Vergleich pro Iteration.\n",
    "<br>$ T(N) = \\underbrace{1 + 1 + ... + 1 + 1}_{(N-1)-Mal} = N-1 = O(N) $<br>\n",
    "\n",
    "<b><u>Average case</u></b><br>\n",
    "Die äußere Schleife wird $N-1$-Mal ausgeführt -  genau wie im worstcase wird die innere Schleife öfter ausgeführt - im \n",
    "Schnitt im zur Hälfte zwischen aktueller Position und Start. Jeder Summand aus dem worstcase wird also mit $\\frac{1}{2}$\n",
    "multipliziert. Vereinfacht mit Gauß ergibt sich:<br>\n",
    "<br>$ T(N) = \\frac{1}{2} \\frac{N * (N - 1)}{2} = O(N^{2})$<br>"
   ]
  },
  {
   "cell_type": "code",
   "execution_count": 6,
   "metadata": {},
   "outputs": [],
   "source": [
    "def insertionsort_visual(a):\n",
    "    from time import sleep\n",
    "    N = len(a)\n",
    "    digits = len(str(N))\n",
    "    for i in range(1, N):\n",
    "        print(str(i).zfill(digits), ''.join(a))\n",
    "        cur, k = a[i], i\n",
    "        while k > 0:\n",
    "            print(' ' * digits, 'k:=' + str(k).zfill(digits), ''.join(a))\n",
    "            if cur < a[k - 1]:\n",
    "                a[k] = a[k - 1]\n",
    "            else:\n",
    "                break\n",
    "            k -= 1\n",
    "            a[k] = cur\n",
    "        sleep(2)"
   ]
  },
  {
   "cell_type": "code",
   "execution_count": 7,
   "metadata": {
    "scrolled": true
   },
   "outputs": [
    {
     "name": "stdout",
     "output_type": "stream",
     "text": [
      "Before sort: \"sorting\"\n",
      "After sort : \"ginorst\"\n",
      "\n",
      "Before sort: \"0123456789\"\n",
      "After sort : \"0123456789\"\n",
      "\n",
      "Before sort: \"9876543210\"\n",
      "After sort : \"0123456789\"\n",
      "\n",
      "Before sort: \"0193284765\"\n",
      "After sort : \"0123456789\"\n"
     ]
    }
   ],
   "source": [
    "sort(insertionsort, insertionsort_visual, visual = False)\n",
    "print()\n",
    "sort(insertionsort, insertionsort_visual, sentence = \"0123456789\", visual = False)\n",
    "print()\n",
    "sort(insertionsort, insertionsort_visual, sentence = \"9876543210\", visual = False)\n",
    "print()\n",
    "sort(insertionsort, insertionsort_visual, sentence = \"0193284765\", visual = False)"
   ]
  },
  {
   "cell_type": "markdown",
   "metadata": {},
   "source": [
    "## Bubblesort"
   ]
  },
  {
   "cell_type": "markdown",
   "metadata": {},
   "source": [
    "Bubblesort ist wohl einer der naivsten Sortieralgorithmen. Wenn die Aufgabe lautet \"Sortiere die Liste aufsteigend\", dann \n",
    "ist der einfachste Ansatz wohl:\"Suche das aktuell größte Element in der Liste und schiebe es an das Ende der Liste\".\n",
    "Genau das macht Bubblesort, die Elemente steigen wie Blasen auf.<br>\n",
    "Bubblesort ist ähnlich zu Selectionsort, nur dass hier die rechte Teilliste die schon fertig sortierte ist."
   ]
  },
  {
   "cell_type": "code",
   "execution_count": 8,
   "metadata": {},
   "outputs": [],
   "source": [
    "def bubblesort(a):\n",
    "    for i in range(len(a), 0, -1):\n",
    "        for j in range(0, i - 1):\n",
    "            if a[j] > a[j + 1]:\n",
    "                a[j], a[j + 1] = a[j + 1], a[j]"
   ]
  },
  {
   "cell_type": "markdown",
   "metadata": {},
   "source": [
    "### Komplexitätsanalyse\n",
    "Genau wie bei Selectionsort wird die innere Schleife durch keine Bedingung frühzeitig verlassen - worst, avg und best case \n",
    "fallen somit zusammen.<br>\n",
    "Die Herleitung läuft im Endeffekt analog und ihr werdet wieder auf $T(N) = O(N^{2}) $ stoßen."
   ]
  },
  {
   "cell_type": "code",
   "execution_count": 9,
   "metadata": {},
   "outputs": [],
   "source": [
    "def bubblesort_visual(a):\n",
    "    from time import sleep\n",
    "    N = len(a)\n",
    "    \n",
    "    for i in range(N, 0, -1):\n",
    "        for j in range(0, i - 1):\n",
    "            if a[j] > a[j + 1]:\n",
    "                a[j], a[j + 1] = a[j + 1], a[j]\n",
    "        print(''.join(a))\n",
    "        s = list(' ' * N) + [' ']\n",
    "        s[i] = '^'\n",
    "        s = ''.join(s)\n",
    "        print(s)\n",
    "        sleep(2)\n",
    "        print(' ' * N)"
   ]
  },
  {
   "cell_type": "code",
   "execution_count": 10,
   "metadata": {},
   "outputs": [
    {
     "name": "stdout",
     "output_type": "stream",
     "text": [
      "Before sort: \"sorting\"\n",
      "After sort : \"ginorst\"\n",
      "\n",
      "Before sort: \"0123456789\"\n",
      "After sort : \"0123456789\"\n",
      "\n",
      "Before sort: \"9876543210\"\n",
      "After sort : \"0123456789\"\n",
      "\n",
      "Before sort: \"0193284765\"\n",
      "After sort : \"0123456789\"\n"
     ]
    }
   ],
   "source": [
    "sort(bubblesort, bubblesort_visual, visual = False)\n",
    "print()\n",
    "sort(bubblesort, bubblesort_visual, sentence = \"0123456789\", visual = False)\n",
    "print()\n",
    "sort(bubblesort, bubblesort_visual, sentence = \"9876543210\", visual = False)\n",
    "print()\n",
    "sort(bubblesort, bubblesort_visual, sentence = \"0193284765\", visual = False)"
   ]
  },
  {
   "cell_type": "markdown",
   "metadata": {},
   "source": [
    "## Mergesort"
   ]
  },
  {
   "cell_type": "markdown",
   "metadata": {},
   "source": [
    "Die bisherigen Sortieralgorithmen waren alle in ihrem vorgehen iterativ. Das schnellste bisher war $ O(N) $ in einem best,\n",
    "case meistens aber eher $O(N^{2})$. Die Idee wie man das ganze noch besser hinbekommt ist folgende:\n",
    "Man nutzt die Eigenschaft aus, dass kleine Listen sich besser sortieren lassen als große und entwickelt einen Algorithmus,\n",
    "der eine große Liste in zwei kleinere zerteilt, diese seperat sortiert und danach wieder zusammengefügt.\n",
    "Dafür definieren wir zwei Funktionen <i>mergesort</i>, diese Funktion sortiert eine gegebene Liste, in dem sie \n",
    "die Listen aufteilt, sich einmal mit der linken und dann mit der rechten selbst aufruft und diese sortiert.\n",
    "Am Ende wird die zusammengefügte Ergebnisliste zurückgegeben. Hier sehen wir eine Neueiheit - die Eingabeliste wird nicht\n",
    "direkt modifiziert sondern es gibt eine zusätzliche Liste.<br>\n",
    "Sortieralgorithmen die eine Liste direkt ändern, nennen wir <b>in-place</b> ansonsten <b>out-of-place</b> oder <b>nicht in-\n",
    "place</b> (ich weiß nicht ob es eine offizielle Formulierung dafür gibt)<br>\n",
    "Damit die Rekursion in <i>mergesort</i> zu einem Ende kommt, brauchen wir eine Abbruchbedingung, deswegen definieren wir: Eine Liste mit maximal einem Element ist bereits sortiert. Bleibt nur noch die <i>merge</i>-Funktion, die zwei sortierte Teillisten zusammenfügt. Hierbei ist das Vorgehen so, dass immer das kleinste Element aus beiden Listen in die Ergebnisliste \n",
    "hinzugefügt wird. Sobald eine Liste vollständig hinzugefügt wurde, wird die restliche verebleibende Liste einfach komplett \n",
    "angefügt.<br>\n",
    "Algorithmen die ein Vorgehen in dieser Form aufweisen folgen dem <b>\"Divide and Conquer\"</b>-Prinzip. Diese Algorithmen\n",
    "machen sich zu Nutze, dass die Tiefe des Baumes den sie erzeugen gering ist und ihr Aufwand maßgeblich durch diese \n",
    "beeinflusst wird."
   ]
  },
  {
   "cell_type": "code",
   "execution_count": 1,
   "metadata": {},
   "outputs": [
    {
     "name": "stdout",
     "output_type": "stream",
     "text": [
      "['0', '1', '2', '3', '4', '5', '6', '7', '8', '9']\n",
      "[0, 1, 2, 3, 4, 5, 6, 7, 8, 9]\n"
     ]
    },
    {
     "data": {
      "text/plain": [
       "'\\ndef merge(left, right):\\n    res = []\\n    l, r = 0, 0\\n    while l < len(left) and r < len(right):\\n        if left[l] < right[r]:\\n            res.append(left[l])\\n            l += 1\\n        else:\\n            res.append(right[r])\\n            r += 1\\n    while l < len(left):\\n        res.append(left[l])\\n        l += 1\\n    while r < len(right):\\n        res.append(right[r])\\n        r += 1\\n    return res\\n'"
      ]
     },
     "execution_count": 1,
     "metadata": {},
     "output_type": "execute_result"
    }
   ],
   "source": [
    "def mergesort(a):\n",
    "    N = len(a)\n",
    "    if N <= 1:\n",
    "        return a\n",
    "    else:\n",
    "        left, right = a[0 : N//2], a[N//2 : N]\n",
    "        left_sorted, right_sorted = mergesort(left), mergesort(right)\n",
    "        return merge(left_sorted, right_sorted)\n",
    "\n",
    "\n",
    "def merge(left, right):\n",
    "    res = []\n",
    "    while left and right:\n",
    "        if left[0] < right[0]:\n",
    "            res.append(left.pop(0))\n",
    "        else:\n",
    "            res.append(right.pop(0))\n",
    "    while left:\n",
    "        res.append(left.pop(0))\n",
    "    while right:\n",
    "        res.append(right.pop(0))\n",
    "    return res\n",
    "\n",
    "\n",
    "a = list(\"0123456789\")\n",
    "mergesort(a)\n",
    "print(a)\n",
    "\n",
    "a = [int(x) for x in a]\n",
    "mergesort(a)\n",
    "print(a)\n",
    "\n",
    "'''\n",
    "def merge(left, right):\n",
    "    res = []\n",
    "    l, r = 0, 0\n",
    "    while l < len(left) and r < len(right):\n",
    "        if left[l] < right[r]:\n",
    "            res.append(left[l])\n",
    "            l += 1\n",
    "        else:\n",
    "            res.append(right[r])\n",
    "            r += 1\n",
    "    while l < len(left):\n",
    "        res.append(left[l])\n",
    "        l += 1\n",
    "    while r < len(right):\n",
    "        res.append(right[r])\n",
    "        r += 1\n",
    "    return res\n",
    "'''"
   ]
  },
  {
   "cell_type": "code",
   "execution_count": 12,
   "metadata": {},
   "outputs": [
    {
     "name": "stdout",
     "output_type": "stream",
     "text": [
      "['0', '1', '2', '3', '4', '5', '6', '7', '8', '9']\n",
      "[0, 1, 2, 3, 4, 5, 6, 7, 8, 9]\n"
     ]
    }
   ],
   "source": [
    "def mergesort(a):\n",
    "    n = len(a)\n",
    "    tmp = a[:]\n",
    "    merge_recursive(a, 0, n, tmp)\n",
    "    \n",
    "def merge_recursive(a, start, end, tmp):\n",
    "    if end - start > 1:\n",
    "        middle = start + (end - start) // 2\n",
    "        merge_recursive(a, start, middle, tmp)\n",
    "        merge_recursive(a, middle, end, tmp)\n",
    "        pos = start\n",
    "        i = start\n",
    "        j = middle\n",
    "        while pos < end:\n",
    "            if i < middle and (j == end or a[i] < a[j]):\n",
    "                tmp[pos] = a[i]\n",
    "                pos += 1\n",
    "                i += 1\n",
    "            else:\n",
    "                tmp[pos] = a[j]\n",
    "                pos += 1\n",
    "                j += 1\n",
    "                \n",
    "        for i in range(end):\n",
    "            a[i] = tmp[i]\n",
    "            \n",
    "a = list(\"0123456789\")\n",
    "mergesort(a)\n",
    "print(a)\n",
    "\n",
    "a = [int(x) for x in a]\n",
    "mergesort(a)\n",
    "print(a)"
   ]
  },
  {
   "cell_type": "markdown",
   "metadata": {},
   "source": [
    "### Komplexitätsanalyse\n",
    "Da Mergesort ein rekursiver Algorithmus, können wir die Anzahl der Vergleiche nur mit einer Rekursionsformel herleiten.\n",
    "Die Anzahl der Vergleiche für die Eingabegröße N setzt sich die Anzahl der Vergleich zusammen aus Kosten linke Seite \n",
    "sortieren & rechte Seite sortieren und beide Seiten zusammenfügen. Je nachdem wie oft wir im merge-Durchlauf die obere \n",
    "Schleife ausführen müssen ändert sich der Anteil des mergens. Im optimalen Fall sind beide Listen so sortiert, dass erst\n",
    "die eine komplett zum Ergebnis hinzugefügt werden kann und dann die andere, somit brauchen wir $\\frac{1}{2}N$ Vergleiche.\n",
    "Im worst case müssen wir in der oberen Schleife N Vergleiche durchführen (die Bedingungen werden abwechselnd wahr).\n",
    "#### Best case\n",
    "$ T(N) = T(\\lfloor\\frac{1}{2}N\\rfloor) + T(\\lceil\\frac{1}{2}N\\rceil) + \\frac{N}{2}$<br>\n",
    "Wir treffen nun die Annahme dass die beiden Hälften genau gleichgroß sind und das Abrunden/Aufrunden nicht nötig sind.\n",
    "Dadurch vereinfacht sich die Formel zu:\n",
    "<br>$ T(N) = 2 * T(\\frac{1}{2}) + \\frac{N}{2}$<br>\n",
    "In der nächsten Schicht des Baumes / für 2 * $T(\\frac{1}{2})$ hat jeder Aufruf von merge_sort nur noch ein Viertel der\n",
    "Gesamteingabeliste, dafür gibt es vier Aufrufe und einen weiteren merge.\n",
    "<br>$ T(N) = 4 * T(\\frac{1}{4}) + \\frac{N}{2} + \\frac{N}{2}$<br>\n",
    "$ T(N) = 8 * T(\\frac{1}{8}) + \\frac{N}{2} + \\frac{N}{2} + \\frac{N}{2}$<br>\n",
    "...<br>\n",
    "$ T(N) = c * T(\\frac{1}{c}) + \\underbrace{\\frac{N}{2} + ... + \\frac{N}{2}}_{m-Mal}$<br>\n",
    "m ist hierbei die Tiefe des Baums - wie wir nch sehen werden begträgt diese $m = \\log_{2}{N}$<br>\n",
    "Somit ergibt sich für den hinteren Teil der Formel $\\frac{1}{2} N \\log_{2}{N}$, die linke Seite wird zu 0, da in der letzten\n",
    "Schicht nur noch aus den ein-elementigen Listen besteht, dafür sind keine Vergleiche notwendig.\n",
    "$T(N) = c * \\underbrace{T(\\frac{1}{c})}_{= 0} + \\underbrace{\\frac{N}{2} + ... + \\frac{N}{2}}_{\\frac{1}{2} N \\log_{2}{N}}$<br>\n",
    "$T(N) = O(\\frac{1}{2} N \\log_{2}{N}) = O(N \\log_{2}{N})$\n",
    "#### Worst case\n",
    "Das einzige was sich hier ändert ist der Summand der durch merge immer wieder dazu kommt. Somit fällt nur der Vorfaktor\n",
    "$\\frac{1}{2}$ weg. Also selbst im worst case hat Mergesort eine Komplexität von $O(N \\log_{2}{N})$"
   ]
  },
  {
   "cell_type": "code",
   "execution_count": 13,
   "metadata": {},
   "outputs": [],
   "source": [
    "def mergesort_visual(a):\n",
    "    from time import sleep\n",
    "    print(\"mergesort\", ''.join(a))\n",
    "    N = len(a)\n",
    "    if N <= 1:\n",
    "        sleep(2)\n",
    "        return a\n",
    "    else:\n",
    "        left, right = a[0 : N//2], a[N//2 : N]\n",
    "        left_sorted, right_sorted = mergesort_visual(left), mergesort_visual(right)\n",
    "        sleep(2)\n",
    "        return merge_visual(left_sorted, right_sorted)\n",
    "    \n",
    "def merge_visual(left, right):\n",
    "    from time import sleep\n",
    "    print(\"merge\", ''.join(left), ''.join(right))\n",
    "    res = []\n",
    "    l, r = 0, 0\n",
    "    while l < len(left) and r < len(right):\n",
    "        if left[l] < right[r]:\n",
    "            res.append(left[l])\n",
    "            l += 1\n",
    "        else:\n",
    "            res.append(right[r])\n",
    "            r += 1\n",
    "    while l < len(left):\n",
    "        res.append(left[l])\n",
    "        l += 1\n",
    "    while r < len(right):\n",
    "        res.append(right[r])\n",
    "        r += 1\n",
    "    sleep(1)\n",
    "    return res"
   ]
  },
  {
   "cell_type": "code",
   "execution_count": 14,
   "metadata": {},
   "outputs": [
    {
     "name": "stdout",
     "output_type": "stream",
     "text": [
      "Before sort: \"sorting\"\n",
      "After sort : \"ginorst\"\n",
      "\n",
      "Before sort: \"0123456789\"\n",
      "After sort : \"0123456789\"\n",
      "\n",
      "Before sort: \"9876543210\"\n",
      "After sort : \"0123456789\"\n",
      "\n",
      "Before sort: \"0193284765\"\n",
      "After sort : \"0123456789\"\n"
     ]
    }
   ],
   "source": [
    "sort(mergesort, mergesort_visual, visual = False)\n",
    "print()\n",
    "sort(mergesort, mergesort_visual, sentence = \"0123456789\", visual = False)\n",
    "print()\n",
    "sort(mergesort, mergesort_visual, sentence = \"9876543210\", visual = False)\n",
    "print()\n",
    "sort(mergesort, mergesort_visual, sentence = \"0193284765\", visual = False)"
   ]
  },
  {
   "cell_type": "markdown",
   "metadata": {},
   "source": [
    "## Quicksort"
   ]
  },
  {
   "cell_type": "markdown",
   "metadata": {},
   "source": [
    "Ich weiß leider nicht, ob das die Implementierung ist, die ihr in der Vorlesung sehen werdet, so habe ich sie kennengelerent, das Prinzip bleibt ja aber das selbe.\n",
    "Wir haben 3 Funktionen, wobei <i>quicksort</i> nur <i>quicksort_impl</i> mit dem gesamten Bereich der Liste aufruft.\n",
    "Der Grundablauf von Quicksort sieht man in <i>quicksort_impl</i>, diese Funktion sortiert die Liste im übergebenen\n",
    "Bereich l bis r, wobei l und r inklusive sind. Sollte r <= l sein, so hat der Listenabschnitt max 1 Element und wie bei\n",
    "Mergesort gilt dann, dass die Liste schon sortiert ist.<br>\n",
    "<br>\n",
    "Falls r > l gibt es noch Elemente zu sortieren: partition sorgt dafür, dass links des <b>Pivot</b> alle Elemente kleiner\n",
    "sind als dieses und rechts von ihm alle größer. Danach wird zuerst die linke Teilliste sortiert und danach die rechte.\n",
    "Das ist der Hauptunterschied zu Mergesort, Mergesort führt erst die Rekursion aus und ruft dann eine Hilfsfunktion auf\n",
    "und Quicksort nutzt erst die Hilfsfunktion und führt dann die Rekursion durch.<br>\n",
    "<br>\n",
    "Nun aber zum Herzstück von Quicksort <i>partition</i>. Zuerst wird das Pivotelement gewählt, dies ist hier willkürlich der\n",
    "rechte Rand (normalerweise versucht man das Pivot eher random zu wählen). Die Wahl eines guten Pivots kann den Algorithmus\n",
    "maßgeblich beschleunigen. Als nächstes werden zwei Laufvariablen definiert die einmal von links und einmal von rechts erstellt. Wir suchen dann von links das Element, welches größer ist als unser pivot und von rechts das, was kleiner\n",
    "ist. Diese müssen wir dann vertauschen. Wenn i und j sich durchkreuzt haben sind wir fertig, wir müssen nur noch\n",
    "das Pivot an seine endgültige Position bewegen, da wir danach nur noch die Liste links und die rechts vom Pivot sortieren.\n",
    "Am Ende geben wir die Position des Pivotelements zurück um die nächsten Teillisten zu bestimmen."
   ]
  },
  {
   "cell_type": "code",
   "execution_count": 15,
   "metadata": {},
   "outputs": [
    {
     "name": "stdout",
     "output_type": "stream",
     "text": [
      "['1', '2', '2', '4', '4', '4', '5', '6', '7', '7', '8', '8']\n"
     ]
    }
   ],
   "source": [
    "def quicksort(a):\n",
    "    quicksort_impl(a, 0, len(a) - 1)\n",
    "    \n",
    "def quicksort_impl(a, l, r):\n",
    "    if r > l: # if r <= l everything is sorted -> list has zero to one elements\n",
    "        i = partition(a, l, r)\n",
    "        quicksort_impl(a, l, i - 1)\n",
    "        quicksort_impl(a, i + 1, r)\n",
    "    \n",
    "def partition(a, l, r):\n",
    "    \"\"\"\n",
    "        This is the core of quicksort - a good pivot element can\n",
    "        speed up the whole process, a bad one will slow it down.\n",
    "        Here we will sort everything according to the selected pivot.\n",
    "        Everything left of the pivot should be less of the pivor,\n",
    "        everything on the right bigger.\n",
    "    \"\"\"\n",
    "    pivot = a[l] # pivot is now the right end - in most cases this is not perfect\n",
    "    i, j = l + 1, r\n",
    "    while True:\n",
    "        # search from left. find first element bigger than pivot\n",
    "        while i < r and a[i] <= pivot:\n",
    "            i += 1\n",
    "        # search from right. find first element smaller than pivot\n",
    "        while j > l and a[j] >= pivot:\n",
    "            j -= 1\n",
    "            \n",
    "        if j <= i: # index of the left side is now on the right side\n",
    "            break  # everything on the left side is smaller and on the\n",
    "                   # right side bigger than pivot\n",
    "        a[i], a[j] = a[j], a[i] # swap out of order elements\n",
    "        \n",
    "    # because of a[i] >= pivot must the final position of a[i] on the rightside\n",
    "    # of the pivot, and because a[j] <= pivot and i >= j is i the final position\n",
    "    # of the pivot element\n",
    "    #a[r] = a[i]\n",
    "    #a[i] = pivot # move pivot to its position\n",
    "    a[l], a[j] = a[j], a[l]\n",
    "    return j\n",
    "\n",
    "a = list(\"465442728718\")\n",
    "quicksort(a)\n",
    "print(a)\n"
   ]
  },
  {
   "cell_type": "markdown",
   "metadata": {},
   "source": [
    "### Komplexitätsanalyse\n",
    "Wie oben schon erwähnt, kann die Wahl des Pivots entscheidend sein, der worst case ist wenn das Pivot nach <i>partition</i> \n",
    "immer am Rand liegt, der best case, wenn es exakt in der Mitte liegt.\n",
    "### Worst case\n",
    "Wenn das Pivot nach <i>partition</i> immer am Rand liegt haben wir eine leere Teilliste und eine mit $N - 1$ Elementen, dazu\n",
    "kommen die bisherigen N Vergleiche um die ganze Liste zu scannen und einen extra, weil die Laufvariablen sich überholen.\n",
    "<br>$T(N) = \\underbrace{T(0)}_{=0} + \\underbrace{T(N - 1)}_{=T(N - 2) + N} + N + 1 $<br>\n",
    "Auch hier werden wir wieder auf eine Summe geführt:\n",
    "<br>$T(N) = 1 + ... + (N + 1) = \\frac{(N + 1) * (N + 2)}{2} = O(N^{2}) $<br>\n",
    "Damit ist Quicksort im worstcase langsamer als Insertionsort, obwohl sie in der selben Komplexitätsklasse liegen.\n",
    "### Best case\n",
    "Im best case teilt <i>partition</i> die Liste in zwei gleich große Hälften, es ergibt sich somit:\n",
    "<br>$T(N) = 2 * T(\\frac{N}{2}) + N + 1$<br>\n",
    "Wir sehen wir kommen auf eine ähnliche Formel wie bereits bei Mergesort, es ergibt sich somit, dass Quicksort im best case\n",
    "auch in $O(N \\log_{2}{N})$ liegt - Quicksort ist zu dem in-place, da immer die originale Liste modifiziert wird."
   ]
  },
  {
   "cell_type": "code",
   "execution_count": 16,
   "metadata": {},
   "outputs": [],
   "source": [
    "def quicksort_visual(a):\n",
    "    quicksort_impl_visual(a, 0, len(a) - 1)\n",
    "    \n",
    "def quicksort_impl_visual(a, l, r):\n",
    "    print(\"quicksort\", l, r)\n",
    "    from time import sleep\n",
    "    if r > l: # if r <= l everything is sorted -> list has zero to one elements\n",
    "        k = partition_visual(a, l, r)\n",
    "        sleep(1)\n",
    "        quicksort_impl_visual(a, l, k - 1) # sort left side of the pivot\n",
    "        sleep(1)\n",
    "        quicksort_impl_visual(a, k + 1, r) # sort right side of the pivot\n",
    "        sleep(1)\n",
    "    \n",
    "def partition_visual(a, l, r):\n",
    "    from time import sleep\n",
    "    pivot = a[r]\n",
    "    i, j = l, r - 1\n",
    "    while True:\n",
    "        while i < r and a[i] <= pivot:\n",
    "            i += 1\n",
    "        while j > l and a[j] >= pivot:\n",
    "            j -= 1\n",
    "        \n",
    "        print('    ' + ''.join(a) + ' ')\n",
    "        s = list('    ' + ' ' * len(a) + ' ')\n",
    "        s[l + 3], s[r + 3] = '|', '|'\n",
    "        s[i + 3], s[j + 3] = 'i', 'j'\n",
    "        print(''.join(s))\n",
    "        \n",
    "        if i < j:\n",
    "            a[i], a[j] = a[j], a[i]\n",
    "        else:\n",
    "            break    \n",
    "        sleep(1)\n",
    "        \n",
    "    a[r] = a[i]\n",
    "    a[i] = pivot\n",
    "    return i"
   ]
  },
  {
   "cell_type": "code",
   "execution_count": 17,
   "metadata": {
    "scrolled": true
   },
   "outputs": [
    {
     "name": "stdout",
     "output_type": "stream",
     "text": [
      "Before sort: \"sorting\"\n",
      "After sort : \"ginorst\"\n",
      "\n",
      "Before sort: \"0123456789\"\n",
      "After sort : \"0123456789\"\n",
      "\n",
      "Before sort: \"9876543210\"\n",
      "After sort : \"0123456789\"\n",
      "\n",
      "Before sort: \"0193284765\"\n",
      "quicksort 0 9\n",
      "    0193284765 \n",
      "   | i   j  |  \n",
      "    0143289765 \n",
      "   |   ji   |  \n",
      "quicksort 0 4\n",
      "    0143259768 \n",
      "   |ji |       \n",
      "quicksort 0 1\n",
      "    0123459768 \n",
      "   ji          \n",
      "quicksort 0 0\n",
      "quicksort 2 1\n",
      "quicksort 3 4\n",
      "    0123459768 \n",
      "      ji       \n",
      "quicksort 3 3\n",
      "quicksort 5 4\n",
      "quicksort 6 9\n",
      "    0123459768 \n",
      "         i j|  \n",
      "    0123456798 \n",
      "         |ji|  \n",
      "quicksort 6 7\n",
      "    0123456789 \n",
      "         ji    \n",
      "quicksort 6 6\n",
      "quicksort 8 7\n",
      "quicksort 9 9\n",
      "After sort : \"0123456789\"\n"
     ]
    }
   ],
   "source": [
    "sort(quicksort, quicksort_visual, visual = False)\n",
    "print()\n",
    "sort(quicksort, quicksort_visual, sentence = \"0123456789\", visual = False)\n",
    "print()\n",
    "sort(quicksort, quicksort_visual, sentence = \"9876543210\", visual = False)\n",
    "print()\n",
    "sort(quicksort, quicksort_visual, sentence = \"0193284765\", visual = True)"
   ]
  },
  {
   "cell_type": "code",
   "execution_count": null,
   "metadata": {},
   "outputs": [],
   "source": []
  }
 ],
 "metadata": {
  "kernelspec": {
   "display_name": "Python 3",
   "language": "python",
   "name": "python3"
  },
  "language_info": {
   "codemirror_mode": {
    "name": "ipython",
    "version": 3
   },
   "file_extension": ".py",
   "mimetype": "text/x-python",
   "name": "python",
   "nbconvert_exporter": "python",
   "pygments_lexer": "ipython3",
   "version": "3.5.2"
  }
 },
 "nbformat": 4,
 "nbformat_minor": 2
}
