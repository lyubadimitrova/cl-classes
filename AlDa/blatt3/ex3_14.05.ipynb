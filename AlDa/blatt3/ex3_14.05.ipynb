{
 "cells": [
  {
   "cell_type": "markdown",
   "metadata": {},
   "source": [
    "Before you turn this problem in, make sure everything runs as expected. First, **restart the kernel** (in the menubar, select Kernel$\\rightarrow$Restart) and then **run all cells** (in the menubar, select Cell$\\rightarrow$Run All).\n",
    "\n",
    "Make sure you fill in any place that says `YOUR CODE HERE` or \"YOUR ANSWER HERE\", as well as your name and collaborators below:"
   ]
  },
  {
   "cell_type": "code",
   "execution_count": 1,
   "metadata": {},
   "outputs": [],
   "source": [
    "NAME = \"\"\n",
    "COLLABORATORS = \"\""
   ]
  },
  {
   "cell_type": "markdown",
   "metadata": {},
   "source": [
    "---"
   ]
  },
  {
   "cell_type": "markdown",
   "metadata": {
    "deletable": false,
    "editable": false,
    "nbgrader": {
     "checksum": "044b7da3cb3fbfe32325e5edefdab89b",
     "grade": false,
     "grade_id": "cell-ffa71f6b669da86c",
     "locked": true,
     "schema_version": 1,
     "solution": false
    }
   },
   "source": [
    "#  Einleitung\n",
    "In dieser Aufgabe soll Ihr Verständnis von Sortieralgorithmen gestärkt werden. Stellen Sie sicher, dass sie das Archiv samt Test-Dateien heruntergeladen und in einen Unterordner `test_cases` extrahiert haben (Quelle: http://blog.quibb.org/2008/11/sort-optimization/). Öffnen Sie den Ordner und schauen Sie sich den Schema an, nachdem die Dateien benannt sind.\n",
    "\n",
    "\n"
   ]
  },
  {
   "cell_type": "markdown",
   "metadata": {
    "deletable": false,
    "editable": false,
    "nbgrader": {
     "checksum": "f9d496e697ccc50c6d60558e59ee5904",
     "grade": false,
     "grade_id": "cell-f56609ca84e81010",
     "locked": true,
     "schema_version": 1,
     "solution": false
    }
   },
   "source": [
    "# Sortierverfahren implementieren (6⋅4 Pkt.)\n",
    "Implementieren Sie folgende Sortieralgorithmen.\n",
    "\n",
    "- Selectionsort\n",
    "- Insertionsort\n",
    "- Quicksort\n",
    "- Bubblesort\n",
    "- Mergesort\n",
    "- Heapsort\n",
    "\n",
    "Die Sortieralgorithmen sollen eine sortierte Kopie der ursprünglichen Liste zurück geben und das Original nicht verändern (damit das Verhalten kongruent zu `sorted()`) ist.\n"
   ]
  },
  {
   "cell_type": "code",
   "execution_count": 1,
   "metadata": {
    "deletable": false,
    "nbgrader": {
     "checksum": "cca8cf639b18c7118b37ad05ef48402a",
     "grade": false,
     "grade_id": "cell-6d812715dbe509ce",
     "locked": false,
     "schema_version": 1,
     "solution": true
    }
   },
   "outputs": [],
   "source": [
    "def selectionsort(data):\n",
    "    #data = data[:]\n",
    "    for i in range(len(data) - 1):\n",
    "        least = i\n",
    "        for j in range(i + 1, len(data)):\n",
    "            if data[least] > data[j]:\n",
    "                least = j\n",
    "        data[least], data[i] = data[i], data[least]\n",
    "    return data\n",
    "\n",
    "\n",
    "def insertionsort(data):\n",
    "    data = data[:]\n",
    "    for i in range(1, len(data)):\n",
    "        current_value = data[i]\n",
    "        position = i\n",
    "        while position > 0 and data[position - 1] > current_value:\n",
    "            data[position] = data[position - 1]\n",
    "            position -= 1\n",
    "        data[position] = current_value\n",
    "    return data\n",
    "\n",
    "\n",
    "def bubblesort(data):\n",
    "    data = data[:]\n",
    "    n = len(data)\n",
    "    for j in range(n - 1):\n",
    "        for i in range(n - j - 1):\n",
    "            if data[i] > data[i + 1]:\n",
    "                data[i], data[i + 1] = data[i + 1], data[i]\n",
    "    return data\n",
    "\n",
    "\n",
    "def quicksort(data):\n",
    "    # YOUR CODE HERE\n",
    "    raise NotImplementedError()\n",
    "    \n",
    "\n",
    "def make_min_heap(data):\n",
    "    heap = []\n",
    "\n",
    "    for elm in data:\n",
    "        heap.append(elm)\n",
    "        i = len(heap) - 1     \n",
    "        while i > 0:            # maintain heap property\n",
    "            parent = (i - 1) // 2\n",
    "            if heap[i] < heap[parent]:\n",
    "                heap[i], heap[parent] = heap[parent], heap[i]\n",
    "            i = parent\n",
    "\n",
    "    return heap\n",
    "\n",
    "\n",
    "def heapsort(data):\n",
    "\n",
    "    heap = make_min_heap(data)\n",
    "    sorted_data = []\n",
    "    \n",
    "    while heap:\n",
    "        heap[0], heap[-1] = heap[-1], heap[0]\n",
    "        sorted_data.append(heap.pop())\n",
    "        heap = make_min_heap(heap)\n",
    "\n",
    "    return sorted_data\n",
    "\n",
    "\n",
    "def merge(left, right):\n",
    "\n",
    "    merged = []\n",
    "    i = 0\n",
    "    j = 0\n",
    "    \n",
    "    while i < len(left) and j < len(right):\n",
    "        if left[i] < right[j]:\n",
    "            merged.append(left[i])\n",
    "            i += 1\n",
    "        else:\n",
    "            merged.append(right[j])\n",
    "            j += 1\n",
    "\n",
    "    while i < len(left):\n",
    "        merged.append(left[i])\n",
    "        i += 1\n",
    "\n",
    "    while j < len(right):\n",
    "        merged.append(right[j])\n",
    "        j += 1\n",
    "\n",
    "    return merged\n",
    "\n",
    "\n",
    "def mergesort(data):\n",
    "\n",
    "    if len(data) > 1:\n",
    "        middle = len(data) // 2\n",
    "        left_half = data[:middle]\n",
    "        right_half = data[middle:]\n",
    "\n",
    "        sorted_left = mergesort(left_half)\n",
    "        sorted_right = mergesort(right_half)\n",
    "\n",
    "        return merge(sorted_left, sorted_right)\n",
    "\n",
    "    else:\n",
    "        return data\n"
   ]
  },
  {
   "cell_type": "code",
   "execution_count": 2,
   "metadata": {
    "deletable": false,
    "editable": false,
    "nbgrader": {
     "checksum": "601dcd441a8a65d90b4cbddcc0f59c1e",
     "grade": true,
     "grade_id": "cell-848f5caf61f83589",
     "locked": true,
     "points": 0,
     "schema_version": 1,
     "solution": false
    }
   },
   "outputs": [],
   "source": [
    "import random\n",
    "\n",
    "SAMPLE_LIST = random.sample(range(100), 30)\n",
    "\n",
    "def test_algorithm(algorithm):\n",
    "    sample_list = SAMPLE_LIST[:]\n",
    "    print(sample_list)\n",
    "    print(algorithm(sample_list))\n",
    "    assert algorithm(sample_list) == sorted(sample_list), \"{} did not sort the list\".format(algorithm.__name__)\n",
    "    assert sample_list == SAMPLE_LIST, \"{} altered the original\".format(algorithm.__name__)"
   ]
  },
  {
   "cell_type": "code",
   "execution_count": 3,
   "metadata": {
    "deletable": false,
    "editable": false,
    "nbgrader": {
     "checksum": "f93a3075f68b4d3e0358fa08335c181a",
     "grade": true,
     "grade_id": "cell-87b11519e17f1c63",
     "locked": true,
     "points": 4,
     "schema_version": 1,
     "solution": false
    }
   },
   "outputs": [
    {
     "name": "stdout",
     "output_type": "stream",
     "text": [
      "[9, 90, 99, 18, 93, 0, 26, 15, 61, 77, 94, 4, 7, 44, 57, 88, 3, 81, 21, 23, 58, 34, 53, 72, 20, 40, 60, 65, 43, 78]\n",
      "[0, 3, 4, 7, 9, 15, 18, 20, 21, 23, 26, 34, 40, 43, 44, 53, 57, 58, 60, 61, 65, 72, 77, 78, 81, 88, 90, 93, 94, 99]\n"
     ]
    },
    {
     "ename": "AssertionError",
     "evalue": "selectionsort altered the original",
     "output_type": "error",
     "traceback": [
      "\u001b[0;31m---------------------------------------------------------------------------\u001b[0m",
      "\u001b[0;31mAssertionError\u001b[0m                            Traceback (most recent call last)",
      "\u001b[0;32m<ipython-input-3-aac1f048cc98>\u001b[0m in \u001b[0;36m<module>\u001b[0;34m()\u001b[0m\n\u001b[0;32m----> 1\u001b[0;31m \u001b[0mtest_algorithm\u001b[0m\u001b[0;34m(\u001b[0m\u001b[0mselectionsort\u001b[0m\u001b[0;34m)\u001b[0m\u001b[0;34m\u001b[0m\u001b[0m\n\u001b[0m",
      "\u001b[0;32m<ipython-input-2-b001aabae34a>\u001b[0m in \u001b[0;36mtest_algorithm\u001b[0;34m(algorithm)\u001b[0m\n\u001b[1;32m      8\u001b[0m     \u001b[0mprint\u001b[0m\u001b[0;34m(\u001b[0m\u001b[0malgorithm\u001b[0m\u001b[0;34m(\u001b[0m\u001b[0msample_list\u001b[0m\u001b[0;34m)\u001b[0m\u001b[0;34m)\u001b[0m\u001b[0;34m\u001b[0m\u001b[0m\n\u001b[1;32m      9\u001b[0m     \u001b[0;32massert\u001b[0m \u001b[0malgorithm\u001b[0m\u001b[0;34m(\u001b[0m\u001b[0msample_list\u001b[0m\u001b[0;34m)\u001b[0m \u001b[0;34m==\u001b[0m \u001b[0msorted\u001b[0m\u001b[0;34m(\u001b[0m\u001b[0msample_list\u001b[0m\u001b[0;34m)\u001b[0m\u001b[0;34m,\u001b[0m \u001b[0;34m\"{} did not sort the list\"\u001b[0m\u001b[0;34m.\u001b[0m\u001b[0mformat\u001b[0m\u001b[0;34m(\u001b[0m\u001b[0malgorithm\u001b[0m\u001b[0;34m.\u001b[0m\u001b[0m__name__\u001b[0m\u001b[0;34m)\u001b[0m\u001b[0;34m\u001b[0m\u001b[0m\n\u001b[0;32m---> 10\u001b[0;31m     \u001b[0;32massert\u001b[0m \u001b[0msample_list\u001b[0m \u001b[0;34m==\u001b[0m \u001b[0mSAMPLE_LIST\u001b[0m\u001b[0;34m,\u001b[0m \u001b[0;34m\"{} altered the original\"\u001b[0m\u001b[0;34m.\u001b[0m\u001b[0mformat\u001b[0m\u001b[0;34m(\u001b[0m\u001b[0malgorithm\u001b[0m\u001b[0;34m.\u001b[0m\u001b[0m__name__\u001b[0m\u001b[0;34m)\u001b[0m\u001b[0;34m\u001b[0m\u001b[0m\n\u001b[0m",
      "\u001b[0;31mAssertionError\u001b[0m: selectionsort altered the original"
     ]
    }
   ],
   "source": [
    "test_algorithm(selectionsort)"
   ]
  },
  {
   "cell_type": "code",
   "execution_count": 37,
   "metadata": {
    "deletable": false,
    "editable": false,
    "nbgrader": {
     "checksum": "28b1445d75d1e7d9443b380352f68461",
     "grade": true,
     "grade_id": "cell-24cfee0a571db291",
     "locked": true,
     "points": 4,
     "schema_version": 1,
     "solution": false
    }
   },
   "outputs": [
    {
     "name": "stdout",
     "output_type": "stream",
     "text": [
      "[5, 89, 60, 39, 71, 96, 6, 10, 17, 29, 73, 95, 99, 27, 57, 11, 18, 46, 67, 92, 32, 70, 80, 98, 41, 91, 64, 20, 51, 26]\n",
      "[5, 6, 10, 11, 17, 18, 20, 26, 27, 29, 32, 39, 41, 46, 51, 57, 60, 64, 67, 70, 71, 73, 80, 89, 91, 92, 95, 96, 98, 99]\n"
     ]
    }
   ],
   "source": [
    "test_algorithm(insertionsort)"
   ]
  },
  {
   "cell_type": "code",
   "execution_count": 38,
   "metadata": {
    "deletable": false,
    "editable": false,
    "nbgrader": {
     "checksum": "38c72c4193b159c90abf9b5efa9f02b0",
     "grade": true,
     "grade_id": "cell-78ffe6f52e47fc47",
     "locked": true,
     "points": 4,
     "schema_version": 1,
     "solution": false
    }
   },
   "outputs": [
    {
     "name": "stdout",
     "output_type": "stream",
     "text": [
      "[5, 89, 60, 39, 71, 96, 6, 10, 17, 29, 73, 95, 99, 27, 57, 11, 18, 46, 67, 92, 32, 70, 80, 98, 41, 91, 64, 20, 51, 26]\n",
      "[5, 6, 10, 11, 17, 18, 20, 26, 27, 29, 32, 39, 41, 46, 51, 57, 60, 64, 67, 70, 71, 73, 80, 89, 91, 92, 95, 96, 98, 99]\n"
     ]
    }
   ],
   "source": [
    "test_algorithm(bubblesort)"
   ]
  },
  {
   "cell_type": "code",
   "execution_count": 39,
   "metadata": {
    "deletable": false,
    "nbgrader": {
     "checksum": "755e50222934b2036f872a96ae3d309c",
     "grade": true,
     "grade_id": "cell-e60d068bfdb9cdde",
     "locked": true,
     "points": 4,
     "schema_version": 1,
     "solution": false
    }
   },
   "outputs": [
    {
     "name": "stdout",
     "output_type": "stream",
     "text": [
      "[5, 89, 60, 39, 71, 96, 6, 10, 17, 29, 73, 95, 99, 27, 57, 11, 18, 46, 67, 92, 32, 70, 80, 98, 41, 91, 64, 20, 51, 26]\n"
     ]
    },
    {
     "ename": "NotImplementedError",
     "evalue": "",
     "output_type": "error",
     "traceback": [
      "\u001b[0;31m---------------------------------------------------------------------------\u001b[0m",
      "\u001b[0;31mNotImplementedError\u001b[0m                       Traceback (most recent call last)",
      "\u001b[0;32m<ipython-input-39-20227389c9cd>\u001b[0m in \u001b[0;36m<module>\u001b[0;34m()\u001b[0m\n\u001b[0;32m----> 1\u001b[0;31m \u001b[0mtest_algorithm\u001b[0m\u001b[0;34m(\u001b[0m\u001b[0mquicksort\u001b[0m\u001b[0;34m)\u001b[0m\u001b[0;34m\u001b[0m\u001b[0m\n\u001b[0m",
      "\u001b[0;32m<ipython-input-35-b001aabae34a>\u001b[0m in \u001b[0;36mtest_algorithm\u001b[0;34m(algorithm)\u001b[0m\n\u001b[1;32m      6\u001b[0m     \u001b[0msample_list\u001b[0m \u001b[0;34m=\u001b[0m \u001b[0mSAMPLE_LIST\u001b[0m\u001b[0;34m[\u001b[0m\u001b[0;34m:\u001b[0m\u001b[0;34m]\u001b[0m\u001b[0;34m\u001b[0m\u001b[0m\n\u001b[1;32m      7\u001b[0m     \u001b[0mprint\u001b[0m\u001b[0;34m(\u001b[0m\u001b[0msample_list\u001b[0m\u001b[0;34m)\u001b[0m\u001b[0;34m\u001b[0m\u001b[0m\n\u001b[0;32m----> 8\u001b[0;31m     \u001b[0mprint\u001b[0m\u001b[0;34m(\u001b[0m\u001b[0malgorithm\u001b[0m\u001b[0;34m(\u001b[0m\u001b[0msample_list\u001b[0m\u001b[0;34m)\u001b[0m\u001b[0;34m)\u001b[0m\u001b[0;34m\u001b[0m\u001b[0m\n\u001b[0m\u001b[1;32m      9\u001b[0m     \u001b[0;32massert\u001b[0m \u001b[0malgorithm\u001b[0m\u001b[0;34m(\u001b[0m\u001b[0msample_list\u001b[0m\u001b[0;34m)\u001b[0m \u001b[0;34m==\u001b[0m \u001b[0msorted\u001b[0m\u001b[0;34m(\u001b[0m\u001b[0msample_list\u001b[0m\u001b[0;34m)\u001b[0m\u001b[0;34m,\u001b[0m \u001b[0;34m\"{} did not sort the list\"\u001b[0m\u001b[0;34m.\u001b[0m\u001b[0mformat\u001b[0m\u001b[0;34m(\u001b[0m\u001b[0malgorithm\u001b[0m\u001b[0;34m.\u001b[0m\u001b[0m__name__\u001b[0m\u001b[0;34m)\u001b[0m\u001b[0;34m\u001b[0m\u001b[0m\n\u001b[1;32m     10\u001b[0m     \u001b[0;32massert\u001b[0m \u001b[0msample_list\u001b[0m \u001b[0;34m==\u001b[0m \u001b[0mSAMPLE_LIST\u001b[0m\u001b[0;34m,\u001b[0m \u001b[0;34m\"{} altered the original\"\u001b[0m\u001b[0;34m.\u001b[0m\u001b[0mformat\u001b[0m\u001b[0;34m(\u001b[0m\u001b[0malgorithm\u001b[0m\u001b[0;34m.\u001b[0m\u001b[0m__name__\u001b[0m\u001b[0;34m)\u001b[0m\u001b[0;34m\u001b[0m\u001b[0m\n",
      "\u001b[0;32m<ipython-input-34-016c2ce329f1>\u001b[0m in \u001b[0;36mquicksort\u001b[0;34m(data)\u001b[0m\n\u001b[1;32m     34\u001b[0m \u001b[0;32mdef\u001b[0m \u001b[0mquicksort\u001b[0m\u001b[0;34m(\u001b[0m\u001b[0mdata\u001b[0m\u001b[0;34m)\u001b[0m\u001b[0;34m:\u001b[0m\u001b[0;34m\u001b[0m\u001b[0m\n\u001b[1;32m     35\u001b[0m     \u001b[0;31m# YOUR CODE HERE\u001b[0m\u001b[0;34m\u001b[0m\u001b[0;34m\u001b[0m\u001b[0m\n\u001b[0;32m---> 36\u001b[0;31m     \u001b[0;32mraise\u001b[0m \u001b[0mNotImplementedError\u001b[0m\u001b[0;34m(\u001b[0m\u001b[0;34m)\u001b[0m\u001b[0;34m\u001b[0m\u001b[0m\n\u001b[0m\u001b[1;32m     37\u001b[0m \u001b[0;34m\u001b[0m\u001b[0m\n\u001b[1;32m     38\u001b[0m \u001b[0;34m\u001b[0m\u001b[0m\n",
      "\u001b[0;31mNotImplementedError\u001b[0m: "
     ]
    }
   ],
   "source": [
    "test_algorithm(quicksort)"
   ]
  },
  {
   "cell_type": "code",
   "execution_count": 43,
   "metadata": {
    "deletable": false,
    "nbgrader": {
     "checksum": "d0e12c8899111de36bd45aeb27f7cea9",
     "grade": true,
     "grade_id": "cell-037297fb44664ec1",
     "locked": true,
     "points": 4,
     "schema_version": 1,
     "solution": false
    }
   },
   "outputs": [
    {
     "name": "stdout",
     "output_type": "stream",
     "text": [
      "[5, 89, 60, 39, 71, 96, 6, 10, 17, 29, 73, 95, 99, 27, 57, 11, 18, 46, 67, 92, 32, 70, 80, 98, 41, 91, 64, 20, 51, 26]\n",
      "[5, 6, 10, 11, 17, 18, 20, 26, 27, 29, 32, 39, 41, 46, 51, 57, 60, 64, 67, 70, 71, 73, 80, 89, 91, 92, 95, 96, 98, 99]\n"
     ]
    }
   ],
   "source": [
    "test_algorithm(heapsort)"
   ]
  },
  {
   "cell_type": "code",
   "execution_count": 33,
   "metadata": {
    "deletable": false,
    "editable": false,
    "nbgrader": {
     "checksum": "4f34e7554f9bb8de9bd2148e3c6232b3",
     "grade": true,
     "grade_id": "cell-96e6149464b940df",
     "locked": true,
     "points": 4,
     "schema_version": 1,
     "solution": false
    }
   },
   "outputs": [
    {
     "name": "stdout",
     "output_type": "stream",
     "text": [
      "[42, 21, 37, 72, 30, 85, 28, 79, 56, 60, 48, 58, 50, 39, 4, 17, 40, 70, 24, 52, 49, 89, 18, 65, 57, 86, 95, 19, 11, 83]\n",
      "[4, 11, 17, 18, 19, 21, 24, 28, 30, 37, 39, 40, 42, 48, 49, 50, 52, 56, 57, 58, 60, 65, 70, 72, 79, 83, 85, 86, 89, 95]\n"
     ]
    }
   ],
   "source": [
    "test_algorithm(mergesort)"
   ]
  },
  {
   "cell_type": "markdown",
   "metadata": {
    "deletable": false,
    "editable": false,
    "nbgrader": {
     "checksum": "601327d4999fee3744c2a024a4a079cb",
     "grade": false,
     "grade_id": "cell-84426cd680519ec2",
     "locked": true,
     "schema_version": 1,
     "solution": false
    }
   },
   "source": [
    "# Einlesen von Dateien (4 Pkt.)\n",
    "Schreiben sie eine Funktion `load_test_cases(path)`, die zu den zur Verfügung gestellten Testfällen jeweils die Datei mit 10e3 Einträgen lädt."
   ]
  },
  {
   "cell_type": "code",
   "execution_count": 10,
   "metadata": {
    "deletable": false,
    "nbgrader": {
     "checksum": "66401d0e72aeca9ae57ce9cad9ec7c4e",
     "grade": false,
     "grade_id": "cell-d64d799097780639",
     "locked": false,
     "schema_version": 1,
     "solution": true
    }
   },
   "outputs": [],
   "source": [
    "import os\n",
    "\n",
    "TEST_CASE_PATH = \"test_files\"\n",
    "\n",
    "def load_test_cases(path):\n",
    "    \"\"\"\n",
    "    Args:\n",
    "    path string\n",
    "    \n",
    "    Returns:\n",
    "    test_cases dictionary \n",
    "    \"\"\"\n",
    "    test_cases = {}\n",
    "    path = os.path.join(path, '')    # adds trailing slash\n",
    "\n",
    "    for entry in os.scandir(path):\n",
    "        if entry.name.endswith(\".10000.txt\"):\n",
    "            test_cases[entry.name.replace(\".10000.txt\", \"\")] = [int(x) for x in open(path + entry.name).read().strip().split('\\n')]\n",
    "                                                          \n",
    "    return test_cases\n"
   ]
  },
  {
   "cell_type": "code",
   "execution_count": 11,
   "metadata": {
    "deletable": false,
    "editable": false,
    "nbgrader": {
     "checksum": "c1a5b3116037576c278430d102fbf85d",
     "grade": true,
     "grade_id": "cell-6b64b68014341d9a",
     "locked": true,
     "points": 4,
     "schema_version": 1,
     "solution": false
    }
   },
   "outputs": [],
   "source": [
    "import unittest\n",
    "\n",
    "unittest_test_case = unittest.TestCase('__init__')\n",
    "\n",
    "loaded_test_cases = load_test_cases(TEST_CASE_PATH)\n",
    "available_test_cases = ['1245.repeat', 'end.0', 'identical', 'med.3.killer', 'rand.dups', 'rand.no.dups', 'rand.steps', \n",
    "                        'rev.ends', 'rev.partial', 'rev.saw', 'reverse', 'seq.0.is.1000', 'seq.partial', 'seq.saw', 'sequential']\n",
    "\n",
    "unittest_test_case.assertCountEqual(loaded_test_cases.keys(), available_test_cases)\n",
    "\n",
    "for key, value in loaded_test_cases.items():\n",
    "    assert len(value) == 10e3, \"Number of testcases mismatch for {}\".format(key)"
   ]
  },
  {
   "cell_type": "markdown",
   "metadata": {
    "deletable": false,
    "editable": false,
    "nbgrader": {
     "checksum": "4f402817feb6972f192b5d138043f40e",
     "grade": false,
     "grade_id": "cell-47b900000dd01232",
     "locked": true,
     "schema_version": 1,
     "solution": false
    }
   },
   "source": [
    "# Sortierverfahren testen (12 Pkt.)\n",
    " Vergleichen Sie die Sortierverfahren untereinander und mit der Python Funktion `sorted()`\n",
    " - Benutzen sie `result = %timeit -n 100 -r 3 -o` um die Ausführung zu messen und das Ergebnis in einer Variablen speichern zu können. Auf das beste Ergebnis können Sie mit `result.best` zugreifen.\n",
    " - Gruppieren Sie die Ergebnisse nach Testfall.\n",
    " - Testen sie folgende „Splices“ Ihres Testdatensatzes: `x_values = [10, 20, 50, 100, 200, 500, 1000, 2000, 5000, 10000]`\n",
    " - Stellen sie die Ergebnisse mittels Tabelle und Graphen mit Titel und Achsenbeschriftung dar (Matplotlib).\n",
    " - Bewerten Sie das Ergebnis"
   ]
  },
  {
   "cell_type": "code",
   "execution_count": 41,
   "metadata": {
    "deletable": false,
    "nbgrader": {
     "checksum": "375f9afd6886b3e231c120827997b8dc",
     "grade": true,
     "grade_id": "cell-584a475079bfa4bd",
     "locked": false,
     "points": 12,
     "schema_version": 1,
     "solution": true
    }
   },
   "outputs": [
    {
     "name": "stdout",
     "output_type": "stream",
     "text": [
      "Using matplotlib backend: TkAgg\n",
      "69.9 µs ± 2.59 µs per loop (mean ± std. dev. of 3 runs, 10 loops each)\n",
      "328 µs ± 25.1 µs per loop (mean ± std. dev. of 3 runs, 10 loops each)\n",
      "2.04 ms ± 166 µs per loop (mean ± std. dev. of 3 runs, 10 loops each)\n",
      "9.39 ms ± 811 µs per loop (mean ± std. dev. of 3 runs, 10 loops each)\n",
      "41.1 ms ± 380 µs per loop (mean ± std. dev. of 3 runs, 10 loops each)\n",
      "316 ms ± 19.1 ms per loop (mean ± std. dev. of 3 runs, 10 loops each)\n",
      "1.39 s ± 20.3 ms per loop (mean ± std. dev. of 3 runs, 10 loops each)\n",
      "6.1 s ± 5.66 ms per loop (mean ± std. dev. of 3 runs, 10 loops each)\n"
     ]
    },
    {
     "ename": "KeyboardInterrupt",
     "evalue": "",
     "output_type": "error",
     "traceback": [
      "\u001b[0;31m---------------------------------------------------------------------------\u001b[0m",
      "\u001b[0;31mKeyboardInterrupt\u001b[0m                         Traceback (most recent call last)",
      "\u001b[0;32m<ipython-input-41-4a803198d301>\u001b[0m in \u001b[0;36m<module>\u001b[0;34m()\u001b[0m\n\u001b[1;32m     29\u001b[0m \u001b[0;31m#plt.plot(x_values, get_times(bubblesort, loaded_test_cases['rand.dups']))\u001b[0m\u001b[0;34m\u001b[0m\u001b[0;34m\u001b[0m\u001b[0m\n\u001b[1;32m     30\u001b[0m \u001b[0;31m#plt.plot(x_values, get_times(quicksort))\u001b[0m\u001b[0;34m\u001b[0m\u001b[0;34m\u001b[0m\u001b[0m\n\u001b[0;32m---> 31\u001b[0;31m \u001b[0mplt\u001b[0m\u001b[0;34m.\u001b[0m\u001b[0mplot\u001b[0m\u001b[0;34m(\u001b[0m\u001b[0mx_values\u001b[0m\u001b[0;34m,\u001b[0m \u001b[0mget_times\u001b[0m\u001b[0;34m(\u001b[0m\u001b[0mheapsort\u001b[0m\u001b[0;34m,\u001b[0m \u001b[0mloaded_test_cases\u001b[0m\u001b[0;34m[\u001b[0m\u001b[0;34m'rand.dups'\u001b[0m\u001b[0;34m]\u001b[0m\u001b[0;34m)\u001b[0m\u001b[0;34m)\u001b[0m\u001b[0;34m\u001b[0m\u001b[0m\n\u001b[0m\u001b[1;32m     32\u001b[0m \u001b[0;31m#plt.plot(x_values, get_times(mergesort, loaded_test_cases['rand.dups']))\u001b[0m\u001b[0;34m\u001b[0m\u001b[0;34m\u001b[0m\u001b[0m\n\u001b[1;32m     33\u001b[0m \u001b[0;31m#plt.plot(x_values, get_times(sorted, loaded_test_cases['rand.dups']))\u001b[0m\u001b[0;34m\u001b[0m\u001b[0;34m\u001b[0m\u001b[0m\n",
      "\u001b[0;32m<ipython-input-41-4a803198d301>\u001b[0m in \u001b[0;36mget_times\u001b[0;34m(algorithm, testset)\u001b[0m\n\u001b[1;32m      9\u001b[0m     \u001b[0mtimes\u001b[0m \u001b[0;34m=\u001b[0m \u001b[0;34m[\u001b[0m\u001b[0;34m]\u001b[0m\u001b[0;34m\u001b[0m\u001b[0m\n\u001b[1;32m     10\u001b[0m     \u001b[0;32mfor\u001b[0m \u001b[0mval\u001b[0m \u001b[0;32min\u001b[0m \u001b[0mx_values\u001b[0m\u001b[0;34m:\u001b[0m\u001b[0;34m\u001b[0m\u001b[0m\n\u001b[0;32m---> 11\u001b[0;31m         \u001b[0mresult\u001b[0m \u001b[0;34m=\u001b[0m \u001b[0mget_ipython\u001b[0m\u001b[0;34m(\u001b[0m\u001b[0;34m)\u001b[0m\u001b[0;34m.\u001b[0m\u001b[0mrun_line_magic\u001b[0m\u001b[0;34m(\u001b[0m\u001b[0;34m'timeit'\u001b[0m\u001b[0;34m,\u001b[0m \u001b[0;34m'-n 10 -r 3 -o algorithm(testset[:val])'\u001b[0m\u001b[0;34m)\u001b[0m\u001b[0;34m\u001b[0m\u001b[0m\n\u001b[0m\u001b[1;32m     12\u001b[0m         \u001b[0mtimes\u001b[0m\u001b[0;34m.\u001b[0m\u001b[0mappend\u001b[0m\u001b[0;34m(\u001b[0m\u001b[0mresult\u001b[0m\u001b[0;34m.\u001b[0m\u001b[0mbest\u001b[0m\u001b[0;34m)\u001b[0m\u001b[0;34m\u001b[0m\u001b[0m\n\u001b[1;32m     13\u001b[0m     \u001b[0;32mreturn\u001b[0m \u001b[0mtimes\u001b[0m\u001b[0;34m\u001b[0m\u001b[0m\n",
      "\u001b[0;32m~/j/lib/python3.5/site-packages/IPython/core/interactiveshell.py\u001b[0m in \u001b[0;36mrun_line_magic\u001b[0;34m(self, magic_name, line, _stack_depth)\u001b[0m\n\u001b[1;32m   2129\u001b[0m                 \u001b[0mkwargs\u001b[0m\u001b[0;34m[\u001b[0m\u001b[0;34m'local_ns'\u001b[0m\u001b[0;34m]\u001b[0m \u001b[0;34m=\u001b[0m \u001b[0msys\u001b[0m\u001b[0;34m.\u001b[0m\u001b[0m_getframe\u001b[0m\u001b[0;34m(\u001b[0m\u001b[0mstack_depth\u001b[0m\u001b[0;34m)\u001b[0m\u001b[0;34m.\u001b[0m\u001b[0mf_locals\u001b[0m\u001b[0;34m\u001b[0m\u001b[0m\n\u001b[1;32m   2130\u001b[0m             \u001b[0;32mwith\u001b[0m \u001b[0mself\u001b[0m\u001b[0;34m.\u001b[0m\u001b[0mbuiltin_trap\u001b[0m\u001b[0;34m:\u001b[0m\u001b[0;34m\u001b[0m\u001b[0m\n\u001b[0;32m-> 2131\u001b[0;31m                 \u001b[0mresult\u001b[0m \u001b[0;34m=\u001b[0m \u001b[0mfn\u001b[0m\u001b[0;34m(\u001b[0m\u001b[0;34m*\u001b[0m\u001b[0margs\u001b[0m\u001b[0;34m,\u001b[0m\u001b[0;34m**\u001b[0m\u001b[0mkwargs\u001b[0m\u001b[0;34m)\u001b[0m\u001b[0;34m\u001b[0m\u001b[0m\n\u001b[0m\u001b[1;32m   2132\u001b[0m             \u001b[0;32mreturn\u001b[0m \u001b[0mresult\u001b[0m\u001b[0;34m\u001b[0m\u001b[0m\n\u001b[1;32m   2133\u001b[0m \u001b[0;34m\u001b[0m\u001b[0m\n",
      "\u001b[0;32m<decorator-gen-61>\u001b[0m in \u001b[0;36mtimeit\u001b[0;34m(self, line, cell, local_ns)\u001b[0m\n",
      "\u001b[0;32m~/j/lib/python3.5/site-packages/IPython/core/magic.py\u001b[0m in \u001b[0;36m<lambda>\u001b[0;34m(f, *a, **k)\u001b[0m\n\u001b[1;32m    185\u001b[0m     \u001b[0;31m# but it's overkill for just that one bit of state.\u001b[0m\u001b[0;34m\u001b[0m\u001b[0;34m\u001b[0m\u001b[0m\n\u001b[1;32m    186\u001b[0m     \u001b[0;32mdef\u001b[0m \u001b[0mmagic_deco\u001b[0m\u001b[0;34m(\u001b[0m\u001b[0marg\u001b[0m\u001b[0;34m)\u001b[0m\u001b[0;34m:\u001b[0m\u001b[0;34m\u001b[0m\u001b[0m\n\u001b[0;32m--> 187\u001b[0;31m         \u001b[0mcall\u001b[0m \u001b[0;34m=\u001b[0m \u001b[0;32mlambda\u001b[0m \u001b[0mf\u001b[0m\u001b[0;34m,\u001b[0m \u001b[0;34m*\u001b[0m\u001b[0ma\u001b[0m\u001b[0;34m,\u001b[0m \u001b[0;34m**\u001b[0m\u001b[0mk\u001b[0m\u001b[0;34m:\u001b[0m \u001b[0mf\u001b[0m\u001b[0;34m(\u001b[0m\u001b[0;34m*\u001b[0m\u001b[0ma\u001b[0m\u001b[0;34m,\u001b[0m \u001b[0;34m**\u001b[0m\u001b[0mk\u001b[0m\u001b[0;34m)\u001b[0m\u001b[0;34m\u001b[0m\u001b[0m\n\u001b[0m\u001b[1;32m    188\u001b[0m \u001b[0;34m\u001b[0m\u001b[0m\n\u001b[1;32m    189\u001b[0m         \u001b[0;32mif\u001b[0m \u001b[0mcallable\u001b[0m\u001b[0;34m(\u001b[0m\u001b[0marg\u001b[0m\u001b[0;34m)\u001b[0m\u001b[0;34m:\u001b[0m\u001b[0;34m\u001b[0m\u001b[0m\n",
      "\u001b[0;32m~/j/lib/python3.5/site-packages/IPython/core/magics/execution.py\u001b[0m in \u001b[0;36mtimeit\u001b[0;34m(self, line, cell, local_ns)\u001b[0m\n\u001b[1;32m   1100\u001b[0m                     \u001b[0;32mbreak\u001b[0m\u001b[0;34m\u001b[0m\u001b[0m\n\u001b[1;32m   1101\u001b[0m \u001b[0;34m\u001b[0m\u001b[0m\n\u001b[0;32m-> 1102\u001b[0;31m         \u001b[0mall_runs\u001b[0m \u001b[0;34m=\u001b[0m \u001b[0mtimer\u001b[0m\u001b[0;34m.\u001b[0m\u001b[0mrepeat\u001b[0m\u001b[0;34m(\u001b[0m\u001b[0mrepeat\u001b[0m\u001b[0;34m,\u001b[0m \u001b[0mnumber\u001b[0m\u001b[0;34m)\u001b[0m\u001b[0;34m\u001b[0m\u001b[0m\n\u001b[0m\u001b[1;32m   1103\u001b[0m         \u001b[0mbest\u001b[0m \u001b[0;34m=\u001b[0m \u001b[0mmin\u001b[0m\u001b[0;34m(\u001b[0m\u001b[0mall_runs\u001b[0m\u001b[0;34m)\u001b[0m \u001b[0;34m/\u001b[0m \u001b[0mnumber\u001b[0m\u001b[0;34m\u001b[0m\u001b[0m\n\u001b[1;32m   1104\u001b[0m         \u001b[0mworst\u001b[0m \u001b[0;34m=\u001b[0m \u001b[0mmax\u001b[0m\u001b[0;34m(\u001b[0m\u001b[0mall_runs\u001b[0m\u001b[0;34m)\u001b[0m \u001b[0;34m/\u001b[0m \u001b[0mnumber\u001b[0m\u001b[0;34m\u001b[0m\u001b[0m\n",
      "\u001b[0;32m/usr/lib/python3.5/timeit.py\u001b[0m in \u001b[0;36mrepeat\u001b[0;34m(self, repeat, number)\u001b[0m\n\u001b[1;32m    204\u001b[0m         \u001b[0mr\u001b[0m \u001b[0;34m=\u001b[0m \u001b[0;34m[\u001b[0m\u001b[0;34m]\u001b[0m\u001b[0;34m\u001b[0m\u001b[0m\n\u001b[1;32m    205\u001b[0m         \u001b[0;32mfor\u001b[0m \u001b[0mi\u001b[0m \u001b[0;32min\u001b[0m \u001b[0mrange\u001b[0m\u001b[0;34m(\u001b[0m\u001b[0mrepeat\u001b[0m\u001b[0;34m)\u001b[0m\u001b[0;34m:\u001b[0m\u001b[0;34m\u001b[0m\u001b[0m\n\u001b[0;32m--> 206\u001b[0;31m             \u001b[0mt\u001b[0m \u001b[0;34m=\u001b[0m \u001b[0mself\u001b[0m\u001b[0;34m.\u001b[0m\u001b[0mtimeit\u001b[0m\u001b[0;34m(\u001b[0m\u001b[0mnumber\u001b[0m\u001b[0;34m)\u001b[0m\u001b[0;34m\u001b[0m\u001b[0m\n\u001b[0m\u001b[1;32m    207\u001b[0m             \u001b[0mr\u001b[0m\u001b[0;34m.\u001b[0m\u001b[0mappend\u001b[0m\u001b[0;34m(\u001b[0m\u001b[0mt\u001b[0m\u001b[0;34m)\u001b[0m\u001b[0;34m\u001b[0m\u001b[0m\n\u001b[1;32m    208\u001b[0m         \u001b[0;32mreturn\u001b[0m \u001b[0mr\u001b[0m\u001b[0;34m\u001b[0m\u001b[0m\n",
      "\u001b[0;32m~/j/lib/python3.5/site-packages/IPython/core/magics/execution.py\u001b[0m in \u001b[0;36mtimeit\u001b[0;34m(self, number)\u001b[0m\n\u001b[1;32m    158\u001b[0m         \u001b[0mgc\u001b[0m\u001b[0;34m.\u001b[0m\u001b[0mdisable\u001b[0m\u001b[0;34m(\u001b[0m\u001b[0;34m)\u001b[0m\u001b[0;34m\u001b[0m\u001b[0m\n\u001b[1;32m    159\u001b[0m         \u001b[0;32mtry\u001b[0m\u001b[0;34m:\u001b[0m\u001b[0;34m\u001b[0m\u001b[0m\n\u001b[0;32m--> 160\u001b[0;31m             \u001b[0mtiming\u001b[0m \u001b[0;34m=\u001b[0m \u001b[0mself\u001b[0m\u001b[0;34m.\u001b[0m\u001b[0minner\u001b[0m\u001b[0;34m(\u001b[0m\u001b[0mit\u001b[0m\u001b[0;34m,\u001b[0m \u001b[0mself\u001b[0m\u001b[0;34m.\u001b[0m\u001b[0mtimer\u001b[0m\u001b[0;34m)\u001b[0m\u001b[0;34m\u001b[0m\u001b[0m\n\u001b[0m\u001b[1;32m    161\u001b[0m         \u001b[0;32mfinally\u001b[0m\u001b[0;34m:\u001b[0m\u001b[0;34m\u001b[0m\u001b[0m\n\u001b[1;32m    162\u001b[0m             \u001b[0;32mif\u001b[0m \u001b[0mgcold\u001b[0m\u001b[0;34m:\u001b[0m\u001b[0;34m\u001b[0m\u001b[0m\n",
      "\u001b[0;32m<magic-timeit>\u001b[0m in \u001b[0;36minner\u001b[0;34m(_it, _timer)\u001b[0m\n",
      "\u001b[0;32m<ipython-input-34-016c2ce329f1>\u001b[0m in \u001b[0;36mheapsort\u001b[0;34m(data)\u001b[0m\n\u001b[1;32m     60\u001b[0m         \u001b[0mheap\u001b[0m\u001b[0;34m[\u001b[0m\u001b[0;36m0\u001b[0m\u001b[0;34m]\u001b[0m\u001b[0;34m,\u001b[0m \u001b[0mheap\u001b[0m\u001b[0;34m[\u001b[0m\u001b[0;34m-\u001b[0m\u001b[0;36m1\u001b[0m\u001b[0;34m]\u001b[0m \u001b[0;34m=\u001b[0m \u001b[0mheap\u001b[0m\u001b[0;34m[\u001b[0m\u001b[0;34m-\u001b[0m\u001b[0;36m1\u001b[0m\u001b[0;34m]\u001b[0m\u001b[0;34m,\u001b[0m \u001b[0mheap\u001b[0m\u001b[0;34m[\u001b[0m\u001b[0;36m0\u001b[0m\u001b[0;34m]\u001b[0m\u001b[0;34m\u001b[0m\u001b[0m\n\u001b[1;32m     61\u001b[0m         \u001b[0msorted_data\u001b[0m\u001b[0;34m.\u001b[0m\u001b[0mappend\u001b[0m\u001b[0;34m(\u001b[0m\u001b[0mheap\u001b[0m\u001b[0;34m.\u001b[0m\u001b[0mpop\u001b[0m\u001b[0;34m(\u001b[0m\u001b[0;34m)\u001b[0m\u001b[0;34m)\u001b[0m\u001b[0;34m\u001b[0m\u001b[0m\n\u001b[0;32m---> 62\u001b[0;31m         \u001b[0mheap\u001b[0m \u001b[0;34m=\u001b[0m \u001b[0mmake_min_heap\u001b[0m\u001b[0;34m(\u001b[0m\u001b[0mheap\u001b[0m\u001b[0;34m)\u001b[0m\u001b[0;34m\u001b[0m\u001b[0m\n\u001b[0m\u001b[1;32m     63\u001b[0m \u001b[0;34m\u001b[0m\u001b[0m\n\u001b[1;32m     64\u001b[0m     \u001b[0;32mreturn\u001b[0m \u001b[0msorted_data\u001b[0m\u001b[0;34m\u001b[0m\u001b[0m\n",
      "\u001b[0;32m<ipython-input-34-016c2ce329f1>\u001b[0m in \u001b[0;36mmake_min_heap\u001b[0;34m(data)\u001b[0m\n\u001b[1;32m     44\u001b[0m         \u001b[0mi\u001b[0m \u001b[0;34m=\u001b[0m \u001b[0mlen\u001b[0m\u001b[0;34m(\u001b[0m\u001b[0mheap\u001b[0m\u001b[0;34m)\u001b[0m \u001b[0;34m-\u001b[0m \u001b[0;36m1\u001b[0m\u001b[0;34m\u001b[0m\u001b[0m\n\u001b[1;32m     45\u001b[0m         \u001b[0;32mwhile\u001b[0m \u001b[0mi\u001b[0m \u001b[0;34m>\u001b[0m \u001b[0;36m0\u001b[0m\u001b[0;34m:\u001b[0m            \u001b[0;31m# maintain heap property\u001b[0m\u001b[0;34m\u001b[0m\u001b[0m\n\u001b[0;32m---> 46\u001b[0;31m             \u001b[0mparent\u001b[0m \u001b[0;34m=\u001b[0m \u001b[0;34m(\u001b[0m\u001b[0mi\u001b[0m \u001b[0;34m-\u001b[0m \u001b[0;36m1\u001b[0m\u001b[0;34m)\u001b[0m \u001b[0;34m//\u001b[0m \u001b[0;36m2\u001b[0m\u001b[0;34m\u001b[0m\u001b[0m\n\u001b[0m\u001b[1;32m     47\u001b[0m             \u001b[0;32mif\u001b[0m \u001b[0mheap\u001b[0m\u001b[0;34m[\u001b[0m\u001b[0mi\u001b[0m\u001b[0;34m]\u001b[0m \u001b[0;34m<\u001b[0m \u001b[0mheap\u001b[0m\u001b[0;34m[\u001b[0m\u001b[0mparent\u001b[0m\u001b[0;34m]\u001b[0m\u001b[0;34m:\u001b[0m\u001b[0;34m\u001b[0m\u001b[0m\n\u001b[1;32m     48\u001b[0m                 \u001b[0mheap\u001b[0m\u001b[0;34m[\u001b[0m\u001b[0mi\u001b[0m\u001b[0;34m]\u001b[0m\u001b[0;34m,\u001b[0m \u001b[0mheap\u001b[0m\u001b[0;34m[\u001b[0m\u001b[0mparent\u001b[0m\u001b[0;34m]\u001b[0m \u001b[0;34m=\u001b[0m \u001b[0mheap\u001b[0m\u001b[0;34m[\u001b[0m\u001b[0mparent\u001b[0m\u001b[0;34m]\u001b[0m\u001b[0;34m,\u001b[0m \u001b[0mheap\u001b[0m\u001b[0;34m[\u001b[0m\u001b[0mi\u001b[0m\u001b[0;34m]\u001b[0m\u001b[0;34m\u001b[0m\u001b[0m\n",
      "\u001b[0;31mKeyboardInterrupt\u001b[0m: "
     ]
    }
   ],
   "source": [
    "%matplotlib\n",
    "import matplotlib.pyplot as plt\n",
    "# for quicksort\n",
    "import sys\n",
    "sys.setrecursionlimit(20000)\n",
    "\n",
    "\n",
    "def get_times(algorithm, testset):\n",
    "    times = []\n",
    "    for val in x_values:\n",
    "        result = %timeit -n 10 -r 3 -o algorithm(testset[:val])\n",
    "        times.append(result.best)\n",
    "    return times\n",
    "\n",
    "x_values = [10, 20, 50, 100, 200, 500, 1000, 2000, 5000]\n",
    "\n",
    "\n",
    "'''\n",
    "plt.plot(x_values, get_times(selectionsort))\n",
    "plt.plot(x_values, get_times(insertionsort))\n",
    "plt.plot(x_values, get_times(bubblesort))\n",
    "#plt.plot(x_values, get_times(quicksort))\n",
    "plt.plot(x_values, get_times(heapsort))\n",
    "plt.plot(x_values, get_times(mergesort))\n",
    "plt.plot(x_values, get_times(sorted))\n",
    "'''\n",
    "#plt.plot(x_values, get_times(selectionsort, loaded_test_cases['rand.dups']))\n",
    "#plt.plot(x_values, get_times(insertionsort, loaded_test_cases['rand.dups']))\n",
    "#plt.plot(x_values, get_times(bubblesort, loaded_test_cases['rand.dups']))\n",
    "#plt.plot(x_values, get_times(quicksort))\n",
    "plt.plot(x_values, get_times(heapsort, loaded_test_cases['rand.dups']))\n",
    "#plt.plot(x_values, get_times(mergesort, loaded_test_cases['rand.dups']))\n",
    "#plt.plot(x_values, get_times(sorted, loaded_test_cases['rand.dups']))\n",
    "\n",
    "plt.title(\"Running times for 'rand.dups\")\n",
    "plt.xlabel(\"Array Size\")\n",
    "plt.ylabel(\"Seconds\")\n",
    "plt.xticks(x_values)\n",
    "plt.legend(['selectionsort', 'insertionsort', 'bubblesort', 'heapsort', 'mergesort', 'sorted'], loc='upper left')\n",
    "\n",
    "plt.show()\n"
   ]
  },
  {
   "cell_type": "markdown",
   "metadata": {
    "collapsed": true
   },
   "source": [
    "Bewertung:\n",
    "\n",
    "Naja, alles super."
   ]
  },
  {
   "cell_type": "code",
   "execution_count": null,
   "metadata": {},
   "outputs": [],
   "source": []
  }
 ],
 "metadata": {
  "anaconda-cloud": {},
  "kernelspec": {
   "display_name": "Python 3",
   "language": "python",
   "name": "python3"
  },
  "language_info": {
   "codemirror_mode": {
    "name": "ipython",
    "version": 3
   },
   "file_extension": ".py",
   "mimetype": "text/x-python",
   "name": "python",
   "nbconvert_exporter": "python",
   "pygments_lexer": "ipython3",
   "version": "3.5.2"
  }
 },
 "nbformat": 4,
 "nbformat_minor": 2
}
